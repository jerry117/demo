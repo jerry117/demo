{
 "cells": [
  {
   "cell_type": "code",
   "execution_count": 6,
   "source": [
    "def Tracer(aClass):\n",
    "    class Wrapper:\n",
    "        def __init__(self, *args, **kargs):\n",
    "            self.fetches = 0\n",
    "            self.wrapped = aClass(*args, **kargs)\n",
    "        def __getattr__(self, attrname):\n",
    "            print('trace' + attrname)\n",
    "            self.fetches += 1\n",
    "            return getattr(self.wrapped, attrname)\n",
    "    return Wrapper\n",
    "\n",
    "@Tracer\n",
    "class Spam:\n",
    "    def display(self):\n",
    "        print('spam' * 8)\n",
    "\n",
    "@Tracer\n",
    "class Person:\n",
    "    def __init__(self, name, hours, rate):\n",
    "        self.name = name\n",
    "        self.hours = hours\n",
    "        self.rate = rate\n",
    "    def pay(self):\n",
    "        return self.hours*self.rate\n",
    "    \n",
    "food = Spam()\n",
    "food.display()\n",
    "print([food.fetches])\n",
    "\n",
    "bob = Person('bob', 40, 50)\n",
    "print(bob.name)\n",
    "print(bob.pay())\n",
    "\n",
    "print(\"\")\n",
    "\n",
    "sue = Person('sue', rate=100, hours=60)\n",
    "print(sue.name)\n",
    "print(sue.pay())\n",
    "\n",
    "print(bob.name)\n",
    "print(bob.pay())\n",
    "print([bob.fetches, sue.fetches])"
   ],
   "outputs": [
    {
     "output_type": "stream",
     "name": "stdout",
     "text": [
      "tracedisplay\n",
      "spamspamspamspamspamspamspamspam\n",
      "[1]\n",
      "tracename\n",
      "bob\n",
      "tracepay\n",
      "2000\n",
      "\n",
      "tracename\n",
      "sue\n",
      "tracepay\n",
      "6000\n",
      "tracename\n",
      "bob\n",
      "tracepay\n",
      "2000\n",
      "[4, 2]\n"
     ]
    }
   ],
   "metadata": {}
  },
  {
   "cell_type": "code",
   "execution_count": 1,
   "source": [
    "def decorate(func):\n",
    "    func.marked = True\n",
    "    return func\n",
    "\n",
    "@decorate\n",
    "def spam(a,b):\n",
    "    return a+b\n",
    "\n",
    "spam.marked\n"
   ],
   "outputs": [
    {
     "output_type": "execute_result",
     "data": {
      "text/plain": [
       "True"
      ]
     },
     "metadata": {},
     "execution_count": 1
    }
   ],
   "metadata": {}
  },
  {
   "cell_type": "code",
   "execution_count": 3,
   "source": [
    "def annotate(text):\n",
    "    def decorate(func):\n",
    "        func.label = text\n",
    "        return func\n",
    "    return decorate\n",
    "\n",
    "@annotate('spam data')\n",
    "def spam(a,b):\n",
    "    return a+b\n",
    "\n",
    "spam(1,2), spam.label"
   ],
   "outputs": [
    {
     "output_type": "execute_result",
     "data": {
      "text/plain": [
       "(3, 'spam data')"
      ]
     },
     "metadata": {},
     "execution_count": 3
    }
   ],
   "metadata": {}
  },
  {
   "cell_type": "code",
   "execution_count": 13,
   "source": [
    "traceMe = False\n",
    "# traceMe = True\n",
    "def trace(*args):\n",
    "    if traceMe:\n",
    "        print('['+''.join(map(str, args)) + ']')\n",
    "    \n",
    "def Private(*privates):\n",
    "    def onDecorator(aClass):\n",
    "        class onInstance:\n",
    "            def __init__(self, *args, **kargs):\n",
    "                self.wrapped = aClass(*args, **kargs)\n",
    "            def __getattr__(self, attr):\n",
    "                trace('get:', attr)\n",
    "                if attr in privates:\n",
    "                    raise TypeError('private attribute fetch:'+ attr)\n",
    "                else:\n",
    "                    return getattr(self.wrapped, attr)\n",
    "            def __setattr__(self, attr, value):\n",
    "                trace('set:', attr, value)\n",
    "                if attr == 'wrapped':\n",
    "                    self.__dict__[attr] = value\n",
    "                elif attr in privates:\n",
    "                    raise TypeError('private attribute change:'+ attr)\n",
    "                else:\n",
    "                    setattr(self.wrapped, attr, value)\n",
    "        return onInstance\n",
    "    return onDecorator\n",
    "\n",
    "if __name__ == \"__main__\":\n",
    "    traceMe = True\n",
    "    @Private('data', 'size')\n",
    "    class Doubler:\n",
    "        def __init__(self, label, start):\n",
    "            self.label = label\n",
    "            self.data = start\n",
    "        def size(self):\n",
    "            return len(self.data)\n",
    "        def double(self):\n",
    "            for i in range(self.size()):\n",
    "                self.data[i] = self.data[i]*2\n",
    "        def display(self):\n",
    "            print('{} => {}'.format(self.label, self.data))\n",
    "\n",
    "x = Doubler('x is', [1,2,3])\n",
    "y = Doubler('y is', [-10, -20, -30])\n",
    "print(x.label)\n",
    "x.display(); x.double(); x.display()\n",
    "print(y.label)\n",
    "y.display(); y.double()\n",
    "y.label = 'spam'\n",
    "y.display()\n",
    "# print(x.size())\n",
    "# print(x.data)\n",
    "# x.data = [1,1,1]\n",
    "# x.size = lambda S : 0\n",
    "# print(y.data)\n",
    "# print(y.size())\n",
    "\n",
    "\n"
   ],
   "outputs": [
    {
     "output_type": "stream",
     "name": "stdout",
     "text": [
      "[set:wrapped<__main__.Doubler object at 0x10772fc70>]\n",
      "[set:wrapped<__main__.Doubler object at 0x107dcadc0>]\n",
      "[get:label]\n",
      "x is\n",
      "[get:display]\n",
      "x is => [1, 2, 3]\n",
      "[get:double]\n",
      "[get:display]\n",
      "x is => [2, 4, 6]\n",
      "[get:label]\n",
      "y is\n",
      "[get:display]\n",
      "y is => [-10, -20, -30]\n",
      "[get:double]\n",
      "[set:labelspam]\n",
      "[get:display]\n",
      "spam => [-20, -40, -60]\n"
     ]
    }
   ],
   "metadata": {}
  },
  {
   "cell_type": "code",
   "execution_count": 29,
   "source": [
    "trace = True\n",
    "\n",
    "def rangetest(**argchecks):\n",
    "    def onDecorator(func):\n",
    "        if not __debug__:\n",
    "            return func\n",
    "        else:\n",
    "            import sys\n",
    "            code = func.__code__\n",
    "            allargs = code.co_varnames[:code.co_argcount]\n",
    "            funcname = func.__name__\n",
    "            def onCall (*pargs, **kargs):\n",
    "                positionals = list(allargs)\n",
    "                positionals = positionals[:len(pargs)]\n",
    "                for (argname, (low, high) ) in argchecks.items():\n",
    "                    if argname in kargs:\n",
    "                        if kargs[argname] < low or kargs[argname] >high:\n",
    "                            errmsg = '{} argument \"{}\" not in {} .. {} '\n",
    "                            errmsg = errmsg.format(funcname, kargs[argname], low, high)\n",
    "                            raise TypeError(errmsg)\n",
    "                    elif argname in positionals:\n",
    "                        position = positionals.index(argname)        \n",
    "                        if pargs[position] < low or pargs[position] > high:\n",
    "                            errmsg = '{} argument \"{}\" not in {} .. {} '\n",
    "                            errmsg = errmsg.format(funcname, pargs[position], low, high)\n",
    "                            raise TypeError(errmsg)\n",
    "                    else:\n",
    "                        if trace:\n",
    "                            print('argument \"{}\" defaulted '.format(argname))\n",
    "                return func(*pargs, **kargs)\n",
    "            return onCall\n",
    "    return onDecorator\n",
    "\n",
    "@rangetest(age = (0,120))\n",
    "def persinfo(name, age):\n",
    "    print(' {} is {} years old '.format(name, age))\n",
    "\n",
    "@rangetest(m=(1,12), d=(1,31), y= (0,2009))\n",
    "def birthday(m, d, y):\n",
    "    print('birthday = {}/{}/{}'.format(m,d,y))\n",
    "\n",
    "class Person:\n",
    "    def __init__(self, name, job, pay):\n",
    "        self.job = job\n",
    "        self.pay = pay\n",
    "    @rangetest(percent=(0.0, 1.0))\n",
    "    def giveRaise(self, percent):\n",
    "        self.pay = int(self.pay * (1+percent))\n",
    "\n",
    "        \n",
    "\n",
    "persinfo('sue', 24)\n",
    "birthday(5, d=30, y=1999)\n",
    "\n"
   ],
   "outputs": [
    {
     "output_type": "stream",
     "name": "stdout",
     "text": [
      " sue is 24 years old \n",
      "birthday = 5/30/1999\n"
     ]
    }
   ],
   "metadata": {}
  },
  {
   "cell_type": "code",
   "execution_count": 46,
   "source": [
    "def func(a,b,c,d):\n",
    "    x = 1 \n",
    "    y = 1 \n",
    "    z = 1\n",
    "\n",
    "code = func.__code__\n",
    "code.co_nlocals\n",
    "# code.co_varnames\n",
    "# code.co_argcount\n",
    "\n",
    "code.co_varnames[:code.co_argcount]"
   ],
   "outputs": [
    {
     "output_type": "execute_result",
     "data": {
      "text/plain": [
       "('a', 'b', 'c', 'd')"
      ]
     },
     "metadata": {},
     "execution_count": 46
    }
   ],
   "metadata": {}
  },
  {
   "cell_type": "code",
   "execution_count": 43,
   "source": [
    "import sys\n",
    "# sys.version_info[1]\n",
    "# 通过判断版本来进行对应的函数调用\n",
    "# code = func.__code__ if sys.version_info[0] == 3 else func.func_code\n",
    "\n",
    "\n"
   ],
   "outputs": [
    {
     "output_type": "execute_result",
     "data": {
      "text/plain": [
       "9"
      ]
     },
     "metadata": {},
     "execution_count": 43
    }
   ],
   "metadata": {}
  },
  {
   "cell_type": "code",
   "execution_count": 52,
   "source": [
    "def rangetest(func):\n",
    "    def onCall(*pargs, **kargs):\n",
    "        argchecks = func.__annotations__\n",
    "        print(argchecks)\n",
    "        for check in argchecks:\n",
    "            pass\n",
    "        return func(*pargs, **kargs)\n",
    "    return onCall\n",
    "    \n",
    "\n",
    "@rangetest\n",
    "def func(a:(1,5), b, c:(0.0, 1.0)):\n",
    "    print(a+b+c)\n",
    "\n",
    "func(3,2,c=3)"
   ],
   "outputs": [
    {
     "output_type": "stream",
     "name": "stdout",
     "text": [
      "{'a': (1, 5), 'c': (0.0, 1.0)}\n",
      "8\n"
     ]
    }
   ],
   "metadata": {}
  },
  {
   "cell_type": "code",
   "execution_count": 64,
   "source": [
    "# type(type([]))\n",
    "\n",
    "# type(list)\n",
    "type(type)"
   ],
   "outputs": [
    {
     "output_type": "execute_result",
     "data": {
      "text/plain": [
       "type"
      ]
     },
     "metadata": {},
     "execution_count": 64
    }
   ],
   "metadata": {}
  },
  {
   "cell_type": "code",
   "execution_count": 68,
   "source": [
    "class C:\n",
    "    pass\n",
    "x = C()\n",
    "# type(x)\n",
    "x.__class__"
   ],
   "outputs": [
    {
     "output_type": "execute_result",
     "data": {
      "text/plain": [
       "__main__.C"
      ]
     },
     "metadata": {},
     "execution_count": 68
    }
   ],
   "metadata": {}
  },
  {
   "cell_type": "code",
   "execution_count": 69,
   "source": [
    "class Meta(type):\n",
    "    def __new__(meta, classname, supers, classdict):\n",
    "        return type.__new__(meta, classname, supers, classdict)\n",
    "    \n",
    "\n"
   ],
   "outputs": [],
   "metadata": {}
  },
  {
   "cell_type": "code",
   "execution_count": 70,
   "source": [
    "class MetaOne(type):\n",
    "    def __new__(meta, classname, supers, classdict):\n",
    "        print('in metaone.new:', classname, supers, classdict, sep='...')\n",
    "        return type.__new__(meta, classname, supers, classdict)\n",
    "\n",
    "class Eggs:\n",
    "    pass\n",
    "\n",
    "print('making class')\n",
    "class Spam(Eggs, metaclass=MetaOne):\n",
    "    data = 1\n",
    "    def meth(self, arg):\n",
    "        pass\n",
    "\n",
    "print('making instance')\n",
    "x = Spam()\n",
    "print('data:', x.data)\n"
   ],
   "outputs": [
    {
     "output_type": "stream",
     "name": "stdout",
     "text": [
      "making class\n",
      "in metaone.new:...Spam...(<class '__main__.Eggs'>,)...{'__module__': '__main__', '__qualname__': 'Spam', 'data': 1, 'meth': <function Spam.meth at 0x10a317790>}\n",
      "making instance\n",
      "data: 1\n"
     ]
    }
   ],
   "metadata": {}
  },
  {
   "cell_type": "code",
   "execution_count": 72,
   "source": [
    "class MetaOne(type):\n",
    "    def __new__(meta, classname, supers, classdict):\n",
    "        print('in metaon.new', classname, supers, classdict, sep='...') \n",
    "        return type.__new__(meta, classname, supers, classdict)\n",
    "    def __init__(Class,classname, supers, classdict):\n",
    "        print('in MetaOne init:', classname, supers, classdict, sep='...')\n",
    "        print('...init class object:', list(Class.__dict__.keys()))\n",
    "\n",
    "class Eggs:\n",
    "    pass\n",
    "\n",
    "print('making class')\n",
    "class Spam(Eggs, metaclass=MetaOne):\n",
    "    data = 1\n",
    "    def meth(self, arg):\n",
    "        pass\n",
    "\n",
    "print('making instance')\n",
    "x = Spam()\n",
    "print('data:', x.data)\n"
   ],
   "outputs": [
    {
     "output_type": "stream",
     "name": "stdout",
     "text": [
      "making class\n",
      "in metaon.new...Spam...(<class '__main__.Eggs'>,)...{'__module__': '__main__', '__qualname__': 'Spam', 'data': 1, 'meth': <function Spam.meth at 0x10a13d790>}\n",
      "in MetaOne init:...Spam...(<class '__main__.Eggs'>,)...{'__module__': '__main__', '__qualname__': 'Spam', 'data': 1, 'meth': <function Spam.meth at 0x10a13d790>}\n",
      "...init class object: ['__module__', 'data', 'meth', '__doc__']\n",
      "making instance\n",
      "data: 1\n"
     ]
    }
   ],
   "metadata": {}
  },
  {
   "cell_type": "code",
   "execution_count": 75,
   "source": [
    "class Client1:\n",
    "    def __init__(self, value):\n",
    "        self.value = value\n",
    "    \n",
    "    def spam(self):\n",
    "        return self.value * 2\n",
    "\n",
    "class Client2:\n",
    "    value = 'ni?'\n",
    "\n",
    "def eggsfunc(obj):\n",
    "    return obj.value * 4\n",
    "\n",
    "def hamfunc(obj, value):\n",
    "    return value + 'ham'\n",
    "\n",
    "Client1.eggs = eggsfunc\n",
    "Client1.ham = hamfunc    \n",
    "\n",
    "Client2.eggs = eggsfunc\n",
    "Client2.ham = hamfunc\n",
    "\n",
    "x = Client1('ni!')\n",
    "print(x.spam())\n",
    "print(x.eggs())\n",
    "print(x.ham('bacon'))\n",
    "\n",
    "y = Client2()\n",
    "print(y.eggs())\n",
    "print(y.ham('bacon'))\n",
    "\n"
   ],
   "outputs": [
    {
     "output_type": "stream",
     "name": "stdout",
     "text": [
      "ni!ni!\n",
      "ni!ni!ni!ni!\n",
      "baconham\n",
      "ni?ni?ni?ni?\n",
      "baconham\n"
     ]
    }
   ],
   "metadata": {}
  },
  {
   "cell_type": "code",
   "execution_count": 2,
   "source": [
    "def eggsfunc(obj):\n",
    "    return obj.value*4\n",
    "\n",
    "def hamfunc(obj, value):\n",
    "    return value + 'ham'\n",
    "\n",
    "class Extender(type):\n",
    "    def __new__(meta, classname, supers, classdict):\n",
    "        classdict['eggs'] = eggsfunc\n",
    "        classdict['ham'] = hamfunc\n",
    "        return type.__new__(meta, classname, supers, classdict)\n",
    "\n",
    "class Client1(metaclass=Extender):\n",
    "    def __init__(self, value):\n",
    "        self.value = value\n",
    "    def spam(self):\n",
    "        return self.value * 2\n",
    "\n",
    "class Client2(metaclass=Extender):\n",
    "    value = 'ni?'\n",
    "\n",
    "x = Client1('ni!')\n",
    "print(x.spam())\n",
    "print(x.eggs())\n",
    "print(x.ham('bacon'))\n",
    "\n",
    "y = Client2()\n",
    "print(y.eggs())\n",
    "print(y.ham('bacon'))\n"
   ],
   "outputs": [
    {
     "output_type": "stream",
     "name": "stdout",
     "text": [
      "ni!ni!\n",
      "ni!ni!ni!ni!\n",
      "baconham\n",
      "ni?ni?ni?ni?\n",
      "baconham\n"
     ]
    }
   ],
   "metadata": {}
  },
  {
   "cell_type": "code",
   "execution_count": 11,
   "source": [
    "import eikon as ek\n",
    "data = ek.get_timeseries('AAPL.O', fields='*', start_date='2021-8-3 16:00:00', end_date='2021-8-3 17:00:00', interval='tick')\n",
    "# data.info()\n",
    "# data.tail()\n"
   ],
   "outputs": [
    {
     "output_type": "stream",
     "name": "stderr",
     "text": [
      "HTTP request failed: 'NoneType' object has no attribute 'http_request'\n"
     ]
    }
   ],
   "metadata": {}
  },
  {
   "cell_type": "code",
   "execution_count": 32,
   "source": [
    "class Node:\n",
    "    pass\n",
    "\n",
    "class Number(Node):\n",
    "    def __init__(self, value):\n",
    "        self.value = value\n",
    "\n",
    "class UnaryOperator(Node):\n",
    "    def __init__(self, operand):\n",
    "        self.operand = operand\n",
    "\n",
    "class BinaryOperator(Node):\n",
    "    def __init__(self, left, right):\n",
    "        self.left = left\n",
    "        self.right = right\n",
    "\n",
    "class Add(BinaryOperator):\n",
    "    pass\n",
    "\n",
    "class NodeVisitor:\n",
    "    def visit(self, node):\n",
    "        methname = 'visit_'+ type(node).__name__\n",
    "        meth = getattr(self, methname, None)\n",
    "        if meth is None:\n",
    "            meth = self.generic_visit\n",
    "        return meth(node)\n",
    "\n",
    "    def generic_visit(self, node):\n",
    "        raise RuntimeError('No {} method'.format('visit_' + type(node).__name__) )\n",
    "\n",
    "class Evaluator(NodeVisitor):\n",
    "    def visit_Number(self, node):\n",
    "        return node.value\n",
    "    \n",
    "    def visit_Add(self, node):\n",
    "        return self.visit(node.left) + self.visit(node.right)\n",
    "\n",
    "    def visit_Sub(self, node):\n",
    "        return self.visit(node.left) - self.visit(node.right)\n",
    "\n",
    "    def visit_Mul(self, node):\n",
    "        return self.visit(node.left) * self.visit(node.right)\n",
    "\n",
    "    def visit_Div(self, node):\n",
    "        return self.visit(node.left) / self.visit(node.right)\n",
    "\n",
    "\n",
    "\n",
    "class StackCode(NodeVisitor):\n",
    "    def generate_code(self, node):\n",
    "        self.instructions = []\n",
    "        self.visit(node)\n",
    "        return self.instructions\n",
    "    \n",
    "    def visit_Number(self, node):\n",
    "        self.instructions.append(('PUSH', node.value))\n",
    "\n",
    "    def binop(self, node, instruction):\n",
    "        self.visit(node.left)\n",
    "        self.visit(node.right)\n",
    "        self.instructions.append((isinstance,))\n",
    "\n",
    "\n",
    "e = Evaluator()\n",
    "\n",
    "e.visit(Number(3))\n",
    "# type(Number(3)).__name__\n",
    "# type(Number(3))\n",
    "# Number(3)"
   ],
   "outputs": [
    {
     "output_type": "execute_result",
     "data": {
      "text/plain": [
       "3"
      ]
     },
     "metadata": {},
     "execution_count": 32
    }
   ],
   "metadata": {}
  },
  {
   "cell_type": "code",
   "execution_count": 35,
   "source": [
    "import types\n",
    "class Node:\n",
    "    pass\n",
    "class NodeVisitor:\n",
    "    def visit(self, node):\n",
    "        stack = [node]\n",
    "        last_result = None\n",
    "        while stack:\n",
    "            try:\n",
    "                last = stack[-1]\n",
    "                if isinstance(last, types.GeneratorType):\n",
    "                    stack.append(last.send(last_result))\n",
    "                    last_result = None\n",
    "                elif isinstance(last, Node) :\n",
    "                    stack.append(self._visit(stack.pop()))\n",
    "                else:\n",
    "                    last_resutlt = stack.pop()\n",
    "\n",
    "            except StopIteration :\n",
    "                stack.pop()\n",
    "        return last_resutlt\n",
    "\n",
    "def _visit(self, node):\n",
    "    methname = 'visit_' + type(node).__name__\n",
    "    meth = getattr(self, methname, None)\n",
    "    if meth is None:\n",
    "        meth = self.generic_visit\n",
    "    return meth(node)\n",
    "\n",
    "def generic_visit(self, node):\n",
    "    raise RuntimeError('No {} method'.format('visit_' + type(node).__name__) )\n",
    "\n",
    "\n"
   ],
   "outputs": [],
   "metadata": {}
  },
  {
   "cell_type": "code",
   "execution_count": 38,
   "source": [
    "import logging\n",
    "\n",
    "a = logging.getLogger('foo')\n",
    "b = logging.getLogger('bar')\n",
    "a is b\n",
    "\n",
    "class Spam:\n",
    "    def __init__(self, name):\n",
    "        self.name = name\n",
    "    \n",
    "import weakref\n",
    "_spam_cache = weakref.WeakValueDictionary()\n",
    "def get_spam(name):\n",
    "    if name not in _spam_cache:\n",
    "        s = Spam(name)\n",
    "        _spam_cache[name] = s\n",
    "    else:\n",
    "        s = _spam_cache[name]\n",
    "    return s"
   ],
   "outputs": [],
   "metadata": {}
  },
  {
   "cell_type": "code",
   "execution_count": 46,
   "source": [
    "# 解除一个装饰器\n",
    "\n",
    "from functools import wraps\n",
    "\n",
    "def decorator1(func):\n",
    "    @wraps(func)\n",
    "    def wrapper(*args, **kwargs):\n",
    "        print('decorator 1')\n",
    "        return func(*args, **kwargs)\n",
    "    return wrapper\n",
    "\n",
    "def decorator2(func):\n",
    "    @wraps(func)\n",
    "    def wrapper(*args, **kwargs):\n",
    "        print('decorator 2')\n",
    "        return func(*args, **kwargs)\n",
    "    return wrapper\n",
    "\n",
    "@decorator1\n",
    "@decorator2\n",
    "def add(x, y):\n",
    "    return x + y\n",
    "\n",
    "# add(2,3)\n",
    "\n",
    "add.__wrapped__(2,3)\n"
   ],
   "outputs": [
    {
     "output_type": "stream",
     "name": "stdout",
     "text": [
      "decorator 2\n"
     ]
    },
    {
     "output_type": "execute_result",
     "data": {
      "text/plain": [
       "5"
      ]
     },
     "metadata": {},
     "execution_count": 46
    }
   ],
   "metadata": {}
  },
  {
   "cell_type": "code",
   "execution_count": 54,
   "source": [
    "# 为类和静态方法提供装饰器\n",
    "from functools import wraps\n",
    "import time\n",
    "\n",
    "def timethis(func):\n",
    "    @wraps(func)\n",
    "    def wrapper(*args, **kwargs):\n",
    "        start = time.time()\n",
    "        r = func(*args, **kwargs)\n",
    "        end = time.time()\n",
    "        print(end-start)\n",
    "        return r\n",
    "    return wrapper\n",
    "\n",
    "\n",
    "class Spam:\n",
    "    @timethis\n",
    "    def instance_method(self, n):\n",
    "        print(self, n)\n",
    "        while n > 0:\n",
    "            n -= 1\n",
    "\n",
    "    @classmethod    \n",
    "    @timethis\n",
    "    def class_method(cls, n):\n",
    "        print(cls, n)\n",
    "        while n>0:\n",
    "            n -= 1\n",
    "    \n",
    "    @staticmethod\n",
    "    @timethis\n",
    "    def static_method(n):\n",
    "        print(n)\n",
    "        while n > 0:\n",
    "            n -= 1\n",
    "\n",
    "s = Spam()\n",
    "s.instance_method(1000)\n",
    "# s.class_method(1000)\n",
    "# s.static_method(1000)"
   ],
   "outputs": [
    {
     "output_type": "stream",
     "name": "stdout",
     "text": [
      "<__main__.Spam object at 0x122c43e20> 1000\n",
      "0.0007600784301757812\n"
     ]
    }
   ],
   "metadata": {}
  },
  {
   "cell_type": "code",
   "execution_count": 60,
   "source": [
    "# 装饰器为被包装函数增加参数\n",
    "from functools import wraps\n",
    "import inspect\n",
    "\n",
    "def optional_debug(func):\n",
    "    if 'debug' in inspect.getargspec(func).args:\n",
    "        raise TypeError('debug argument already defined')\n",
    "    \n",
    "    @wraps(func)\n",
    "    def wrapper(*args, debug=False, **kwargs):\n",
    "        if debug:\n",
    "            print('calling', func.__name__)\n",
    "        return func(*args, **kwargs)\n",
    "\n",
    "    sig = inspect.signature(func)\n",
    "    parms = list(sig.parameters.values())\n",
    "    parms.append(inspect.Parameter('debug', inspect.Parameter.KEYWORD_ONLY, default=False))\n",
    "    wrapper.__signature__ = sig.replace(parameters=parms)\n",
    "    return wrapper\n",
    "\n",
    "@optional_debug\n",
    "def add(x,y):\n",
    "    return x+y\n",
    "\n",
    "print(inspect.signature(add))\n",
    "\n",
    "add(2,3)\n"
   ],
   "outputs": [
    {
     "output_type": "stream",
     "name": "stdout",
     "text": [
      "(x, y, *, debug=False)\n"
     ]
    },
    {
     "output_type": "stream",
     "name": "stderr",
     "text": [
      "/var/folders/sn/qlsq40gd3ggbr4kvwqsblj000000gn/T/ipykernel_21352/125505269.py:6: DeprecationWarning: inspect.getargspec() is deprecated since Python 3.0, use inspect.signature() or inspect.getfullargspec()\n",
      "  if 'debug' in inspect.getargspec(func).args:\n"
     ]
    },
    {
     "output_type": "execute_result",
     "data": {
      "text/plain": [
       "5"
      ]
     },
     "metadata": {},
     "execution_count": 60
    }
   ],
   "metadata": {}
  },
  {
   "cell_type": "code",
   "execution_count": 8,
   "source": [
    "# 在类上强制使用编程规约\n",
    "from inspect import signature\n",
    "import logging\n",
    "\n",
    "class MatchSignaturesMeta(type):\n",
    "    def __init__(self, clsname, bases, clsdict):\n",
    "        super().__init__(clsname, bases, clsdict)\n",
    "        sup = super(self, self)\n",
    "        for name, value in clsdict.items():\n",
    "            if name.startswith('_') or not callable(value):\n",
    "                print(name, value)\n",
    "                continue\n",
    "            prev_dfn = getattr(sup, name, None)\n",
    "            if prev_dfn:\n",
    "                prev_sig = signature(prev_dfn)\n",
    "                val_sig = signature(value)\n",
    "                if prev_dfn !=val_sig:\n",
    "                    logging.warning('signature mismatch in %s. %s != %s', value.__qualname__, prev_sig, val_sig)\n",
    "\n",
    "class Root(metaclass=MatchSignaturesMeta):\n",
    "    pass\n",
    "\n",
    "class A(Root):\n",
    "    def foo(self, x, y):\n",
    "        pass\n",
    "    def spam(self, x, *, z):\n",
    "        pass\n",
    "\n",
    "class B(A):\n",
    "    def foo(self, a, b):\n",
    "        pass\n",
    "    def spam(self, x, z):\n",
    "        pass"
   ],
   "outputs": [
    {
     "output_type": "stream",
     "name": "stderr",
     "text": [
      "WARNING:root:signature mismatch in B.foo. (self, x, y) != (self, a, b)\n",
      "WARNING:root:signature mismatch in B.spam. (self, x, *, z) != (self, x, z)\n",
      "__module__ __main__\n",
      "__qualname__ Root\n",
      "__module__ __main__\n",
      "__qualname__ A\n",
      "__module__ __main__\n",
      "__qualname__ B\n"
     ]
    }
   ],
   "metadata": {}
  },
  {
   "cell_type": "code",
   "execution_count": 9,
   "metadata": {},
   "outputs": [
    {
     "output_type": "stream",
     "name": "stdout",
     "text": [
      "bar2 : 2 3\nbar2 : hello 0\n"
     ]
    }
   ],
   "source": [
    "class Spam:\n",
    "    def bar(self, x:int, y:int):\n",
    "        print('bar1 :', x, y)\n",
    "\n",
    "    def bar(self, s:int, n:int=0):\n",
    "        print('bar2 :', s, n)\n",
    "\n",
    "s = Spam()\n",
    "s.bar(2,3)\n",
    "s.bar('hello')\n"
   ]
  },
  {
   "cell_type": "code",
   "execution_count": 22,
   "metadata": {},
   "outputs": [],
   "source": [
    "#利用函数注解实现方法重载\n",
    "import inspect\n",
    "import types\n",
    "\n",
    "class MultiMethod:\n",
    "\n",
    "    def __init__(self, name):\n",
    "        self._methods = {}\n",
    "        self.__name__ = name\n",
    "    \n",
    "    def register(self, meth):\n",
    "       sig = inspect.signature(meth) \n",
    "\n",
    "       types = []\n",
    "       for name, parm in sig.parameters.items():\n",
    "           if name == 'self':\n",
    "                continue\n",
    "           if parm.annotation is inspect.Parameter.empty:\n",
    "                raise TypeError('Argument {} must be annotated with a type'.format(name))\n",
    "           if not isinstance(parm.annotation, type):\n",
    "                raise TypeError(\n",
    "                    'Argument {} annotation must be a type'.format(name)\n",
    "                )\n",
    "           if parm.default is not inspect.Parameter.empty:\n",
    "                self._methods[tuple(types)] = meth\n",
    "           types.append(parm.annotation)\n",
    "\n",
    "       self._methods[tuple(types)] = meth\n",
    "def __call__(self, *args):\n",
    "    types = tuple(type(arg) for arg in args[1:])\n",
    "    meth = self._methods.get(types, None)\n",
    "    if meth :\n",
    "        return meth(*args)\n",
    "    else:\n",
    "        raise TypeError('No matching method for types {}'.format(types))\n",
    "\n"
   ]
  },
  {
   "cell_type": "code",
   "execution_count": null,
   "metadata": {},
   "outputs": [],
   "source": []
  }
 ],
 "metadata": {
  "orig_nbformat": 4,
  "language_info": {
   "name": "python",
   "version": "3.8.3",
   "mimetype": "text/x-python",
   "codemirror_mode": {
    "name": "ipython",
    "version": 3
   },
   "pygments_lexer": "ipython3",
   "nbconvert_exporter": "python",
   "file_extension": ".py"
  },
  "kernelspec": {
   "name": "python383jvsc74a57bd0af4b785734fd1fd501a376f9608629171dcd26a01ab6b2420eceeb4d5487fee6",
   "display_name": "Python 3.8.3 64-bit ('3.8.3': pyenv)"
  },
  "interpreter": {
   "hash": "aee8b7b246df8f9039afb4144a1f6fd8d2ca17a180786b69acc140d282b71a49"
  }
 },
 "nbformat": 4,
 "nbformat_minor": 2
}