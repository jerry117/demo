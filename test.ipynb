{
 "cells": [
  {
   "cell_type": "code",
   "execution_count": 6,
   "source": [
    "def Tracer(aClass):\n",
    "    class Wrapper:\n",
    "        def __init__(self, *args, **kargs):\n",
    "            self.fetches = 0\n",
    "            self.wrapped = aClass(*args, **kargs)\n",
    "        def __getattr__(self, attrname):\n",
    "            print('trace' + attrname)\n",
    "            self.fetches += 1\n",
    "            return getattr(self.wrapped, attrname)\n",
    "    return Wrapper\n",
    "\n",
    "@Tracer\n",
    "class Spam:\n",
    "    def display(self):\n",
    "        print('spam' * 8)\n",
    "\n",
    "@Tracer\n",
    "class Person:\n",
    "    def __init__(self, name, hours, rate):\n",
    "        self.name = name\n",
    "        self.hours = hours\n",
    "        self.rate = rate\n",
    "    def pay(self):\n",
    "        return self.hours*self.rate\n",
    "    \n",
    "food = Spam()\n",
    "food.display()\n",
    "print([food.fetches])\n",
    "\n",
    "bob = Person('bob', 40, 50)\n",
    "print(bob.name)\n",
    "print(bob.pay())\n",
    "\n",
    "print(\"\")\n",
    "\n",
    "sue = Person('sue', rate=100, hours=60)\n",
    "print(sue.name)\n",
    "print(sue.pay())\n",
    "\n",
    "print(bob.name)\n",
    "print(bob.pay())\n",
    "print([bob.fetches, sue.fetches])"
   ],
   "outputs": [
    {
     "output_type": "stream",
     "name": "stdout",
     "text": [
      "tracedisplay\n",
      "spamspamspamspamspamspamspamspam\n",
      "[1]\n",
      "tracename\n",
      "bob\n",
      "tracepay\n",
      "2000\n",
      "\n",
      "tracename\n",
      "sue\n",
      "tracepay\n",
      "6000\n",
      "tracename\n",
      "bob\n",
      "tracepay\n",
      "2000\n",
      "[4, 2]\n"
     ]
    }
   ],
   "metadata": {}
  },
  {
   "cell_type": "code",
   "execution_count": 1,
   "source": [
    "def decorate(func):\n",
    "    func.marked = True\n",
    "    return func\n",
    "\n",
    "@decorate\n",
    "def spam(a,b):\n",
    "    return a+b\n",
    "\n",
    "spam.marked\n"
   ],
   "outputs": [
    {
     "output_type": "execute_result",
     "data": {
      "text/plain": [
       "True"
      ]
     },
     "metadata": {},
     "execution_count": 1
    }
   ],
   "metadata": {}
  },
  {
   "cell_type": "code",
   "execution_count": 3,
   "source": [
    "def annotate(text):\n",
    "    def decorate(func):\n",
    "        func.label = text\n",
    "        return func\n",
    "    return decorate\n",
    "\n",
    "@annotate('spam data')\n",
    "def spam(a,b):\n",
    "    return a+b\n",
    "\n",
    "spam(1,2), spam.label"
   ],
   "outputs": [
    {
     "output_type": "execute_result",
     "data": {
      "text/plain": [
       "(3, 'spam data')"
      ]
     },
     "metadata": {},
     "execution_count": 3
    }
   ],
   "metadata": {}
  },
  {
   "cell_type": "code",
   "execution_count": 13,
   "source": [
    "traceMe = False\n",
    "# traceMe = True\n",
    "def trace(*args):\n",
    "    if traceMe:\n",
    "        print('['+''.join(map(str, args)) + ']')\n",
    "    \n",
    "def Private(*privates):\n",
    "    def onDecorator(aClass):\n",
    "        class onInstance:\n",
    "            def __init__(self, *args, **kargs):\n",
    "                self.wrapped = aClass(*args, **kargs)\n",
    "            def __getattr__(self, attr):\n",
    "                trace('get:', attr)\n",
    "                if attr in privates:\n",
    "                    raise TypeError('private attribute fetch:'+ attr)\n",
    "                else:\n",
    "                    return getattr(self.wrapped, attr)\n",
    "            def __setattr__(self, attr, value):\n",
    "                trace('set:', attr, value)\n",
    "                if attr == 'wrapped':\n",
    "                    self.__dict__[attr] = value\n",
    "                elif attr in privates:\n",
    "                    raise TypeError('private attribute change:'+ attr)\n",
    "                else:\n",
    "                    setattr(self.wrapped, attr, value)\n",
    "        return onInstance\n",
    "    return onDecorator\n",
    "\n",
    "if __name__ == \"__main__\":\n",
    "    traceMe = True\n",
    "    @Private('data', 'size')\n",
    "    class Doubler:\n",
    "        def __init__(self, label, start):\n",
    "            self.label = label\n",
    "            self.data = start\n",
    "        def size(self):\n",
    "            return len(self.data)\n",
    "        def double(self):\n",
    "            for i in range(self.size()):\n",
    "                self.data[i] = self.data[i]*2\n",
    "        def display(self):\n",
    "            print('{} => {}'.format(self.label, self.data))\n",
    "\n",
    "x = Doubler('x is', [1,2,3])\n",
    "y = Doubler('y is', [-10, -20, -30])\n",
    "print(x.label)\n",
    "x.display(); x.double(); x.display()\n",
    "print(y.label)\n",
    "y.display(); y.double()\n",
    "y.label = 'spam'\n",
    "y.display()\n",
    "# print(x.size())\n",
    "# print(x.data)\n",
    "# x.data = [1,1,1]\n",
    "# x.size = lambda S : 0\n",
    "# print(y.data)\n",
    "# print(y.size())\n",
    "\n",
    "\n"
   ],
   "outputs": [
    {
     "output_type": "stream",
     "name": "stdout",
     "text": [
      "[set:wrapped<__main__.Doubler object at 0x10772fc70>]\n",
      "[set:wrapped<__main__.Doubler object at 0x107dcadc0>]\n",
      "[get:label]\n",
      "x is\n",
      "[get:display]\n",
      "x is => [1, 2, 3]\n",
      "[get:double]\n",
      "[get:display]\n",
      "x is => [2, 4, 6]\n",
      "[get:label]\n",
      "y is\n",
      "[get:display]\n",
      "y is => [-10, -20, -30]\n",
      "[get:double]\n",
      "[set:labelspam]\n",
      "[get:display]\n",
      "spam => [-20, -40, -60]\n"
     ]
    }
   ],
   "metadata": {}
  },
  {
   "cell_type": "code",
   "execution_count": 29,
   "source": [
    "trace = True\n",
    "\n",
    "def rangetest(**argchecks):\n",
    "    def onDecorator(func):\n",
    "        if not __debug__:\n",
    "            return func\n",
    "        else:\n",
    "            import sys\n",
    "            code = func.__code__\n",
    "            allargs = code.co_varnames[:code.co_argcount]\n",
    "            funcname = func.__name__\n",
    "            def onCall (*pargs, **kargs):\n",
    "                positionals = list(allargs)\n",
    "                positionals = positionals[:len(pargs)]\n",
    "                for (argname, (low, high) ) in argchecks.items():\n",
    "                    if argname in kargs:\n",
    "                        if kargs[argname] < low or kargs[argname] >high:\n",
    "                            errmsg = '{} argument \"{}\" not in {} .. {} '\n",
    "                            errmsg = errmsg.format(funcname, kargs[argname], low, high)\n",
    "                            raise TypeError(errmsg)\n",
    "                    elif argname in positionals:\n",
    "                        position = positionals.index(argname)        \n",
    "                        if pargs[position] < low or pargs[position] > high:\n",
    "                            errmsg = '{} argument \"{}\" not in {} .. {} '\n",
    "                            errmsg = errmsg.format(funcname, pargs[position], low, high)\n",
    "                            raise TypeError(errmsg)\n",
    "                    else:\n",
    "                        if trace:\n",
    "                            print('argument \"{}\" defaulted '.format(argname))\n",
    "                return func(*pargs, **kargs)\n",
    "            return onCall\n",
    "    return onDecorator\n",
    "\n",
    "@rangetest(age = (0,120))\n",
    "def persinfo(name, age):\n",
    "    print(' {} is {} years old '.format(name, age))\n",
    "\n",
    "@rangetest(m=(1,12), d=(1,31), y= (0,2009))\n",
    "def birthday(m, d, y):\n",
    "    print('birthday = {}/{}/{}'.format(m,d,y))\n",
    "\n",
    "class Person:\n",
    "    def __init__(self, name, job, pay):\n",
    "        self.job = job\n",
    "        self.pay = pay\n",
    "    @rangetest(percent=(0.0, 1.0))\n",
    "    def giveRaise(self, percent):\n",
    "        self.pay = int(self.pay * (1+percent))\n",
    "\n",
    "        \n",
    "\n",
    "persinfo('sue', 24)\n",
    "birthday(5, d=30, y=1999)\n",
    "\n"
   ],
   "outputs": [
    {
     "output_type": "stream",
     "name": "stdout",
     "text": [
      " sue is 24 years old \n",
      "birthday = 5/30/1999\n"
     ]
    }
   ],
   "metadata": {}
  },
  {
   "cell_type": "code",
   "execution_count": 46,
   "source": [
    "def func(a,b,c,d):\n",
    "    x = 1 \n",
    "    y = 1 \n",
    "    z = 1\n",
    "\n",
    "code = func.__code__\n",
    "code.co_nlocals\n",
    "# code.co_varnames\n",
    "# code.co_argcount\n",
    "\n",
    "code.co_varnames[:code.co_argcount]"
   ],
   "outputs": [
    {
     "output_type": "execute_result",
     "data": {
      "text/plain": [
       "('a', 'b', 'c', 'd')"
      ]
     },
     "metadata": {},
     "execution_count": 46
    }
   ],
   "metadata": {}
  },
  {
   "cell_type": "code",
   "execution_count": 43,
   "source": [
    "import sys\n",
    "# sys.version_info[1]\n",
    "# 通过判断版本来进行对应的函数调用\n",
    "# code = func.__code__ if sys.version_info[0] == 3 else func.func_code\n",
    "\n",
    "\n"
   ],
   "outputs": [
    {
     "output_type": "execute_result",
     "data": {
      "text/plain": [
       "9"
      ]
     },
     "metadata": {},
     "execution_count": 43
    }
   ],
   "metadata": {}
  },
  {
   "cell_type": "code",
   "execution_count": 52,
   "source": [
    "def rangetest(func):\n",
    "    def onCall(*pargs, **kargs):\n",
    "        argchecks = func.__annotations__\n",
    "        print(argchecks)\n",
    "        for check in argchecks:\n",
    "            pass\n",
    "        return func(*pargs, **kargs)\n",
    "    return onCall\n",
    "    \n",
    "\n",
    "@rangetest\n",
    "def func(a:(1,5), b, c:(0.0, 1.0)):\n",
    "    print(a+b+c)\n",
    "\n",
    "func(3,2,c=3)"
   ],
   "outputs": [
    {
     "output_type": "stream",
     "name": "stdout",
     "text": [
      "{'a': (1, 5), 'c': (0.0, 1.0)}\n",
      "8\n"
     ]
    }
   ],
   "metadata": {}
  },
  {
   "cell_type": "code",
   "execution_count": 64,
   "source": [
    "# type(type([]))\n",
    "\n",
    "# type(list)\n",
    "type(type)"
   ],
   "outputs": [
    {
     "output_type": "execute_result",
     "data": {
      "text/plain": [
       "type"
      ]
     },
     "metadata": {},
     "execution_count": 64
    }
   ],
   "metadata": {}
  },
  {
   "cell_type": "code",
   "execution_count": 68,
   "source": [
    "class C:\n",
    "    pass\n",
    "x = C()\n",
    "# type(x)\n",
    "x.__class__"
   ],
   "outputs": [
    {
     "output_type": "execute_result",
     "data": {
      "text/plain": [
       "__main__.C"
      ]
     },
     "metadata": {},
     "execution_count": 68
    }
   ],
   "metadata": {}
  },
  {
   "cell_type": "code",
   "execution_count": 69,
   "source": [
    "class Meta(type):\n",
    "    def __new__(meta, classname, supers, classdict):\n",
    "        return type.__new__(meta, classname, supers, classdict)\n",
    "    \n",
    "\n"
   ],
   "outputs": [],
   "metadata": {}
  },
  {
   "cell_type": "code",
   "execution_count": 70,
   "source": [
    "class MetaOne(type):\n",
    "    def __new__(meta, classname, supers, classdict):\n",
    "        print('in metaone.new:', classname, supers, classdict, sep='...')\n",
    "        return type.__new__(meta, classname, supers, classdict)\n",
    "\n",
    "class Eggs:\n",
    "    pass\n",
    "\n",
    "print('making class')\n",
    "class Spam(Eggs, metaclass=MetaOne):\n",
    "    data = 1\n",
    "    def meth(self, arg):\n",
    "        pass\n",
    "\n",
    "print('making instance')\n",
    "x = Spam()\n",
    "print('data:', x.data)\n"
   ],
   "outputs": [
    {
     "output_type": "stream",
     "name": "stdout",
     "text": [
      "making class\n",
      "in metaone.new:...Spam...(<class '__main__.Eggs'>,)...{'__module__': '__main__', '__qualname__': 'Spam', 'data': 1, 'meth': <function Spam.meth at 0x10a317790>}\n",
      "making instance\n",
      "data: 1\n"
     ]
    }
   ],
   "metadata": {}
  },
  {
   "cell_type": "code",
   "execution_count": 72,
   "source": [
    "class MetaOne(type):\n",
    "    def __new__(meta, classname, supers, classdict):\n",
    "        print('in metaon.new', classname, supers, classdict, sep='...') \n",
    "        return type.__new__(meta, classname, supers, classdict)\n",
    "    def __init__(Class,classname, supers, classdict):\n",
    "        print('in MetaOne init:', classname, supers, classdict, sep='...')\n",
    "        print('...init class object:', list(Class.__dict__.keys()))\n",
    "\n",
    "class Eggs:\n",
    "    pass\n",
    "\n",
    "print('making class')\n",
    "class Spam(Eggs, metaclass=MetaOne):\n",
    "    data = 1\n",
    "    def meth(self, arg):\n",
    "        pass\n",
    "\n",
    "print('making instance')\n",
    "x = Spam()\n",
    "print('data:', x.data)\n"
   ],
   "outputs": [
    {
     "output_type": "stream",
     "name": "stdout",
     "text": [
      "making class\n",
      "in metaon.new...Spam...(<class '__main__.Eggs'>,)...{'__module__': '__main__', '__qualname__': 'Spam', 'data': 1, 'meth': <function Spam.meth at 0x10a13d790>}\n",
      "in MetaOne init:...Spam...(<class '__main__.Eggs'>,)...{'__module__': '__main__', '__qualname__': 'Spam', 'data': 1, 'meth': <function Spam.meth at 0x10a13d790>}\n",
      "...init class object: ['__module__', 'data', 'meth', '__doc__']\n",
      "making instance\n",
      "data: 1\n"
     ]
    }
   ],
   "metadata": {}
  },
  {
   "cell_type": "code",
   "execution_count": 75,
   "source": [
    "class Client1:\n",
    "    def __init__(self, value):\n",
    "        self.value = value\n",
    "    \n",
    "    def spam(self):\n",
    "        return self.value * 2\n",
    "\n",
    "class Client2:\n",
    "    value = 'ni?'\n",
    "\n",
    "def eggsfunc(obj):\n",
    "    return obj.value * 4\n",
    "\n",
    "def hamfunc(obj, value):\n",
    "    return value + 'ham'\n",
    "\n",
    "Client1.eggs = eggsfunc\n",
    "Client1.ham = hamfunc    \n",
    "\n",
    "Client2.eggs = eggsfunc\n",
    "Client2.ham = hamfunc\n",
    "\n",
    "x = Client1('ni!')\n",
    "print(x.spam())\n",
    "print(x.eggs())\n",
    "print(x.ham('bacon'))\n",
    "\n",
    "y = Client2()\n",
    "print(y.eggs())\n",
    "print(y.ham('bacon'))\n",
    "\n"
   ],
   "outputs": [
    {
     "output_type": "stream",
     "name": "stdout",
     "text": [
      "ni!ni!\n",
      "ni!ni!ni!ni!\n",
      "baconham\n",
      "ni?ni?ni?ni?\n",
      "baconham\n"
     ]
    }
   ],
   "metadata": {}
  },
  {
   "cell_type": "code",
   "execution_count": 2,
   "source": [
    "def eggsfunc(obj):\n",
    "    return obj.value*4\n",
    "\n",
    "def hamfunc(obj, value):\n",
    "    return value + 'ham'\n",
    "\n",
    "class Extender(type):\n",
    "    def __new__(meta, classname, supers, classdict):\n",
    "        classdict['eggs'] = eggsfunc\n",
    "        classdict['ham'] = hamfunc\n",
    "        return type.__new__(meta, classname, supers, classdict)\n",
    "\n",
    "class Client1(metaclass=Extender):\n",
    "    def __init__(self, value):\n",
    "        self.value = value\n",
    "    def spam(self):\n",
    "        return self.value * 2\n",
    "\n",
    "class Client2(metaclass=Extender):\n",
    "    value = 'ni?'\n",
    "\n",
    "x = Client1('ni!')\n",
    "print(x.spam())\n",
    "print(x.eggs())\n",
    "print(x.ham('bacon'))\n",
    "\n",
    "y = Client2()\n",
    "print(y.eggs())\n",
    "print(y.ham('bacon'))\n"
   ],
   "outputs": [
    {
     "output_type": "stream",
     "name": "stdout",
     "text": [
      "ni!ni!\n",
      "ni!ni!ni!ni!\n",
      "baconham\n",
      "ni?ni?ni?ni?\n",
      "baconham\n"
     ]
    }
   ],
   "metadata": {}
  },
  {
   "cell_type": "code",
   "execution_count": 11,
   "source": [
    "import eikon as ek\n",
    "data = ek.get_timeseries('AAPL.O', fields='*', start_date='2021-8-3 16:00:00', end_date='2021-8-3 17:00:00', interval='tick')\n",
    "# data.info()\n",
    "# data.tail()\n"
   ],
   "outputs": [
    {
     "output_type": "stream",
     "name": "stderr",
     "text": [
      "HTTP request failed: 'NoneType' object has no attribute 'http_request'\n"
     ]
    }
   ],
   "metadata": {}
  },
  {
   "cell_type": "code",
   "execution_count": 32,
   "source": [
    "class Node:\n",
    "    pass\n",
    "\n",
    "class Number(Node):\n",
    "    def __init__(self, value):\n",
    "        self.value = value\n",
    "\n",
    "class UnaryOperator(Node):\n",
    "    def __init__(self, operand):\n",
    "        self.operand = operand\n",
    "\n",
    "class BinaryOperator(Node):\n",
    "    def __init__(self, left, right):\n",
    "        self.left = left\n",
    "        self.right = right\n",
    "\n",
    "class Add(BinaryOperator):\n",
    "    pass\n",
    "\n",
    "class NodeVisitor:\n",
    "    def visit(self, node):\n",
    "        methname = 'visit_'+ type(node).__name__\n",
    "        meth = getattr(self, methname, None)\n",
    "        if meth is None:\n",
    "            meth = self.generic_visit\n",
    "        return meth(node)\n",
    "\n",
    "    def generic_visit(self, node):\n",
    "        raise RuntimeError('No {} method'.format('visit_' + type(node).__name__) )\n",
    "\n",
    "class Evaluator(NodeVisitor):\n",
    "    def visit_Number(self, node):\n",
    "        return node.value\n",
    "    \n",
    "    def visit_Add(self, node):\n",
    "        return self.visit(node.left) + self.visit(node.right)\n",
    "\n",
    "    def visit_Sub(self, node):\n",
    "        return self.visit(node.left) - self.visit(node.right)\n",
    "\n",
    "    def visit_Mul(self, node):\n",
    "        return self.visit(node.left) * self.visit(node.right)\n",
    "\n",
    "    def visit_Div(self, node):\n",
    "        return self.visit(node.left) / self.visit(node.right)\n",
    "\n",
    "\n",
    "\n",
    "class StackCode(NodeVisitor):\n",
    "    def generate_code(self, node):\n",
    "        self.instructions = []\n",
    "        self.visit(node)\n",
    "        return self.instructions\n",
    "    \n",
    "    def visit_Number(self, node):\n",
    "        self.instructions.append(('PUSH', node.value))\n",
    "\n",
    "    def binop(self, node, instruction):\n",
    "        self.visit(node.left)\n",
    "        self.visit(node.right)\n",
    "        self.instructions.append((isinstance,))\n",
    "\n",
    "\n",
    "e = Evaluator()\n",
    "\n",
    "e.visit(Number(3))\n",
    "# type(Number(3)).__name__\n",
    "# type(Number(3))\n",
    "# Number(3)"
   ],
   "outputs": [
    {
     "output_type": "execute_result",
     "data": {
      "text/plain": [
       "3"
      ]
     },
     "metadata": {},
     "execution_count": 32
    }
   ],
   "metadata": {}
  },
  {
   "cell_type": "code",
   "execution_count": 35,
   "source": [
    "import types\n",
    "class Node:\n",
    "    pass\n",
    "class NodeVisitor:\n",
    "    def visit(self, node):\n",
    "        stack = [node]\n",
    "        last_result = None\n",
    "        while stack:\n",
    "            try:\n",
    "                last = stack[-1]\n",
    "                if isinstance(last, types.GeneratorType):\n",
    "                    stack.append(last.send(last_result))\n",
    "                    last_result = None\n",
    "                elif isinstance(last, Node) :\n",
    "                    stack.append(self._visit(stack.pop()))\n",
    "                else:\n",
    "                    last_resutlt = stack.pop()\n",
    "\n",
    "            except StopIteration :\n",
    "                stack.pop()\n",
    "        return last_resutlt\n",
    "\n",
    "def _visit(self, node):\n",
    "    methname = 'visit_' + type(node).__name__\n",
    "    meth = getattr(self, methname, None)\n",
    "    if meth is None:\n",
    "        meth = self.generic_visit\n",
    "    return meth(node)\n",
    "\n",
    "def generic_visit(self, node):\n",
    "    raise RuntimeError('No {} method'.format('visit_' + type(node).__name__) )\n",
    "\n",
    "\n"
   ],
   "outputs": [],
   "metadata": {}
  },
  {
   "cell_type": "code",
   "execution_count": 38,
   "source": [
    "import logging\n",
    "\n",
    "a = logging.getLogger('foo')\n",
    "b = logging.getLogger('bar')\n",
    "a is b\n",
    "\n",
    "class Spam:\n",
    "    def __init__(self, name):\n",
    "        self.name = name\n",
    "    \n",
    "import weakref\n",
    "_spam_cache = weakref.WeakValueDictionary()\n",
    "def get_spam(name):\n",
    "    if name not in _spam_cache:\n",
    "        s = Spam(name)\n",
    "        _spam_cache[name] = s\n",
    "    else:\n",
    "        s = _spam_cache[name]\n",
    "    return s"
   ],
   "outputs": [],
   "metadata": {}
  },
  {
   "cell_type": "code",
   "execution_count": 46,
   "source": [
    "# 解除一个装饰器\n",
    "\n",
    "from functools import wraps\n",
    "\n",
    "def decorator1(func):\n",
    "    @wraps(func)\n",
    "    def wrapper(*args, **kwargs):\n",
    "        print('decorator 1')\n",
    "        return func(*args, **kwargs)\n",
    "    return wrapper\n",
    "\n",
    "def decorator2(func):\n",
    "    @wraps(func)\n",
    "    def wrapper(*args, **kwargs):\n",
    "        print('decorator 2')\n",
    "        return func(*args, **kwargs)\n",
    "    return wrapper\n",
    "\n",
    "@decorator1\n",
    "@decorator2\n",
    "def add(x, y):\n",
    "    return x + y\n",
    "\n",
    "# add(2,3)\n",
    "\n",
    "add.__wrapped__(2,3)\n"
   ],
   "outputs": [
    {
     "output_type": "stream",
     "name": "stdout",
     "text": [
      "decorator 2\n"
     ]
    },
    {
     "output_type": "execute_result",
     "data": {
      "text/plain": [
       "5"
      ]
     },
     "metadata": {},
     "execution_count": 46
    }
   ],
   "metadata": {}
  },
  {
   "cell_type": "code",
   "execution_count": 54,
   "source": [
    "# 为类和静态方法提供装饰器\n",
    "from functools import wraps\n",
    "import time\n",
    "\n",
    "def timethis(func):\n",
    "    @wraps(func)\n",
    "    def wrapper(*args, **kwargs):\n",
    "        start = time.time()\n",
    "        r = func(*args, **kwargs)\n",
    "        end = time.time()\n",
    "        print(end-start)\n",
    "        return r\n",
    "    return wrapper\n",
    "\n",
    "\n",
    "class Spam:\n",
    "    @timethis\n",
    "    def instance_method(self, n):\n",
    "        print(self, n)\n",
    "        while n > 0:\n",
    "            n -= 1\n",
    "\n",
    "    @classmethod    \n",
    "    @timethis\n",
    "    def class_method(cls, n):\n",
    "        print(cls, n)\n",
    "        while n>0:\n",
    "            n -= 1\n",
    "    \n",
    "    @staticmethod\n",
    "    @timethis\n",
    "    def static_method(n):\n",
    "        print(n)\n",
    "        while n > 0:\n",
    "            n -= 1\n",
    "\n",
    "s = Spam()\n",
    "s.instance_method(1000)\n",
    "# s.class_method(1000)\n",
    "# s.static_method(1000)"
   ],
   "outputs": [
    {
     "output_type": "stream",
     "name": "stdout",
     "text": [
      "<__main__.Spam object at 0x122c43e20> 1000\n",
      "0.0007600784301757812\n"
     ]
    }
   ],
   "metadata": {}
  },
  {
   "cell_type": "code",
   "execution_count": 60,
   "source": [
    "# 装饰器为被包装函数增加参数\n",
    "from functools import wraps\n",
    "import inspect\n",
    "\n",
    "def optional_debug(func):\n",
    "    if 'debug' in inspect.getargspec(func).args:\n",
    "        raise TypeError('debug argument already defined')\n",
    "    \n",
    "    @wraps(func)\n",
    "    def wrapper(*args, debug=False, **kwargs):\n",
    "        if debug:\n",
    "            print('calling', func.__name__)\n",
    "        return func(*args, **kwargs)\n",
    "\n",
    "    sig = inspect.signature(func)\n",
    "    parms = list(sig.parameters.values())\n",
    "    parms.append(inspect.Parameter('debug', inspect.Parameter.KEYWORD_ONLY, default=False))\n",
    "    wrapper.__signature__ = sig.replace(parameters=parms)\n",
    "    return wrapper\n",
    "\n",
    "@optional_debug\n",
    "def add(x,y):\n",
    "    return x+y\n",
    "\n",
    "print(inspect.signature(add))\n",
    "\n",
    "add(2,3)\n"
   ],
   "outputs": [
    {
     "output_type": "stream",
     "name": "stdout",
     "text": [
      "(x, y, *, debug=False)\n"
     ]
    },
    {
     "output_type": "stream",
     "name": "stderr",
     "text": [
      "/var/folders/sn/qlsq40gd3ggbr4kvwqsblj000000gn/T/ipykernel_21352/125505269.py:6: DeprecationWarning: inspect.getargspec() is deprecated since Python 3.0, use inspect.signature() or inspect.getfullargspec()\n",
      "  if 'debug' in inspect.getargspec(func).args:\n"
     ]
    },
    {
     "output_type": "execute_result",
     "data": {
      "text/plain": [
       "5"
      ]
     },
     "metadata": {},
     "execution_count": 60
    }
   ],
   "metadata": {}
  },
  {
   "cell_type": "code",
   "execution_count": 8,
   "source": [
    "# 在类上强制使用编程规约\n",
    "from inspect import signature\n",
    "import logging\n",
    "\n",
    "class MatchSignaturesMeta(type):\n",
    "    def __init__(self, clsname, bases, clsdict):\n",
    "        super().__init__(clsname, bases, clsdict)\n",
    "        sup = super(self, self)\n",
    "        for name, value in clsdict.items():\n",
    "            if name.startswith('_') or not callable(value):\n",
    "                print(name, value)\n",
    "                continue\n",
    "            prev_dfn = getattr(sup, name, None)\n",
    "            if prev_dfn:\n",
    "                prev_sig = signature(prev_dfn)\n",
    "                val_sig = signature(value)\n",
    "                if prev_dfn !=val_sig:\n",
    "                    logging.warning('signature mismatch in %s. %s != %s', value.__qualname__, prev_sig, val_sig)\n",
    "\n",
    "class Root(metaclass=MatchSignaturesMeta):\n",
    "    pass\n",
    "\n",
    "class A(Root):\n",
    "    def foo(self, x, y):\n",
    "        pass\n",
    "    def spam(self, x, *, z):\n",
    "        pass\n",
    "\n",
    "class B(A):\n",
    "    def foo(self, a, b):\n",
    "        pass\n",
    "    def spam(self, x, z):\n",
    "        pass"
   ],
   "outputs": [
    {
     "output_type": "stream",
     "name": "stderr",
     "text": [
      "WARNING:root:signature mismatch in B.foo. (self, x, y) != (self, a, b)\n",
      "WARNING:root:signature mismatch in B.spam. (self, x, *, z) != (self, x, z)\n",
      "__module__ __main__\n",
      "__qualname__ Root\n",
      "__module__ __main__\n",
      "__qualname__ A\n",
      "__module__ __main__\n",
      "__qualname__ B\n"
     ]
    }
   ],
   "metadata": {}
  },
  {
   "cell_type": "code",
   "execution_count": 9,
   "metadata": {},
   "outputs": [
    {
     "output_type": "stream",
     "name": "stdout",
     "text": [
      "bar2 : 2 3\nbar2 : hello 0\n"
     ]
    }
   ],
   "source": [
    "class Spam:\n",
    "    def bar(self, x:int, y:int):\n",
    "        print('bar1 :', x, y)\n",
    "\n",
    "    def bar(self, s:int, n:int=0):\n",
    "        print('bar2 :', s, n)\n",
    "\n",
    "s = Spam()\n",
    "s.bar(2,3)\n",
    "s.bar('hello')\n"
   ]
  },
  {
   "cell_type": "code",
   "execution_count": 22,
   "metadata": {},
   "outputs": [],
   "source": [
    "#利用函数注解实现方法重载\n",
    "import inspect\n",
    "import types\n",
    "\n",
    "class MultiMethod:\n",
    "\n",
    "    def __init__(self, name):\n",
    "        self._methods = {}\n",
    "        self.__name__ = name\n",
    "    \n",
    "    def register(self, meth):\n",
    "       sig = inspect.signature(meth) \n",
    "\n",
    "       types = []\n",
    "       for name, parm in sig.parameters.items():\n",
    "           if name == 'self':\n",
    "                continue\n",
    "           if parm.annotation is inspect.Parameter.empty:\n",
    "                raise TypeError('Argument {} must be annotated with a type'.format(name))\n",
    "           if not isinstance(parm.annotation, type):\n",
    "                raise TypeError(\n",
    "                    'Argument {} annotation must be a type'.format(name)\n",
    "                )\n",
    "           if parm.default is not inspect.Parameter.empty:\n",
    "                self._methods[tuple(types)] = meth\n",
    "           types.append(parm.annotation)\n",
    "\n",
    "       self._methods[tuple(types)] = meth\n",
    "def __call__(self, *args):\n",
    "    types = tuple(type(arg) for arg in args[1:])\n",
    "    meth = self._methods.get(types, None)\n",
    "    if meth :\n",
    "        return meth(*args)\n",
    "    else:\n",
    "        raise TypeError('No matching method for types {}'.format(types))\n",
    "\n",
    "\n"
   ]
  },
  {
   "cell_type": "code",
   "execution_count": 29,
   "metadata": {},
   "outputs": [
    {
     "output_type": "execute_result",
     "data": {
      "text/plain": [
       "'kkk'"
      ]
     },
     "metadata": {},
     "execution_count": 29
    }
   ],
   "source": [
    "# 避免重复的属性方法\n",
    "def typed_porperty(name, expected_type):\n",
    "    stroage_name = '_' + name\n",
    "\n",
    "    @property\n",
    "    def prop(self):\n",
    "        return getattr(self, stroage_name)\n",
    "\n",
    "    @prop.setter\n",
    "    def prop(self, value):\n",
    "        if not isinstance(value, expected_type):\n",
    "            raise TypeError('{} must be a {}'.format(name, expected_type))\n",
    "        setattr(self, stroage_name, value)\n",
    "    return prop\n",
    "\n",
    "\n",
    "class Person:\n",
    "    name = typed_porperty('name', str)\n",
    "    age = typed_porperty('age', int)\n",
    "\n",
    "    def __init__(self, name, age):\n",
    "        self.name = name\n",
    "        self.age = age\n",
    "\n",
    "\n",
    "a = Person('kkk', 234)\n",
    "\n",
    "a.name"
   ]
  },
  {
   "cell_type": "code",
   "execution_count": 31,
   "metadata": {},
   "outputs": [
    {
     "output_type": "stream",
     "name": "stdout",
     "text": [
      "  4     >>    0 LOAD_FAST                0 (n)\n              2 LOAD_CONST               1 (0)\n              4 COMPARE_OP               4 (>)\n              6 POP_JUMP_IF_FALSE       28\n\n  5           8 LOAD_GLOBAL              0 (print)\n             10 LOAD_CONST               2 ('T-minus')\n             12 LOAD_FAST                0 (n)\n             14 CALL_FUNCTION            2\n             16 POP_TOP\n\n  6          18 LOAD_FAST                0 (n)\n             20 LOAD_CONST               3 (1)\n             22 INPLACE_SUBTRACT\n             24 STORE_FAST               0 (n)\n             26 JUMP_ABSOLUTE            0\n\n  7     >>   28 LOAD_GLOBAL              0 (print)\n             30 LOAD_CONST               4 ('Blastoff!')\n             32 CALL_FUNCTION            1\n             34 POP_TOP\n             36 LOAD_CONST               0 (None)\n             38 RETURN_VALUE\n"
     ]
    }
   ],
   "source": [
    "import dis \n",
    "\n",
    "def countdown(n):\n",
    "    while n>0:\n",
    "        print('T-minus', n)\n",
    "        n -= 1\n",
    "    print('Blastoff!')\n",
    "        \n",
    "dis.dis(countdown)"
   ]
  },
  {
   "cell_type": "code",
   "execution_count": 32,
   "metadata": {},
   "outputs": [
    {
     "output_type": "execute_result",
     "data": {
      "text/plain": [
       "<module 'time' (built-in)>"
      ]
     },
     "metadata": {},
     "execution_count": 32
    }
   ],
   "source": [
    "import time\n",
    "import imp\n",
    "import pkgutil\n",
    "data = pkgutil.get_data(__package__, 'xxx.dat')\n",
    "\n",
    "imp.reload(time)\n"
   ]
  },
  {
   "cell_type": "code",
   "execution_count": 35,
   "metadata": {},
   "outputs": [
    {
     "output_type": "execute_result",
     "data": {
      "text/plain": [
       "1629789592.500841"
      ]
     },
     "metadata": {},
     "execution_count": 35
    }
   ],
   "source": [
    "import importlib\n",
    "time = importlib.import_module(\"time\")\n",
    "time.time()"
   ]
  },
  {
   "cell_type": "code",
   "execution_count": 37,
   "metadata": {},
   "outputs": [
    {
     "output_type": "stream",
     "name": "stdout",
     "text": [
      "b'{\\n  \"args\": {\\n    \"name1\": \"value1\", \\n    \"name2\": \"value2\"\\n  }, \\n  \"headers\": {\\n    \"Accept-Encoding\": \"identity\", \\n    \"Host\": \"httpbin.org\", \\n    \"User-Agent\": \"Python-urllib/3.8\", \\n    \"X-Amzn-Trace-Id\": \"Root=1-6125a734-227a1a7825fa050b12f0a04c\"\\n  }, \\n  \"origin\": \"104.245.14.31\", \\n  \"url\": \"http://httpbin.org/get?name1=value1&name2=value2\"\\n}\\n'\n"
     ]
    }
   ],
   "source": [
    "from urllib import request, parse\n",
    "url = 'http://httpbin.org/get'\n",
    "parms = {\n",
    "   'name1' : 'value1',\n",
    "   'name2' : 'value2'\n",
    "}\n",
    "\n",
    "querystring = parse.urlencode(parms)\n",
    "\n",
    "# Make a GET request and read the response\n",
    "u = request.urlopen(url+'?' + querystring)\n",
    "resp = u.read()\n",
    "print(resp)"
   ]
  },
  {
   "cell_type": "code",
   "execution_count": 39,
   "metadata": {},
   "outputs": [
    {
     "output_type": "stream",
     "name": "stdout",
     "text": [
      "b'{\\n  \"args\": {}, \\n  \"data\": \"\", \\n  \"files\": {}, \\n  \"form\": {\\n    \"name1\": \"value1\", \\n    \"name2\": \"value2\"\\n  }, \\n  \"headers\": {\\n    \"Accept-Encoding\": \"identity\", \\n    \"Content-Length\": \"25\", \\n    \"Content-Type\": \"application/x-www-form-urlencoded\", \\n    \"Host\": \"httpbin.org\", \\n    \"User-Agent\": \"Python-urllib/3.8\", \\n    \"X-Amzn-Trace-Id\": \"Root=1-6125aa06-78837e4e063278a945c4753c\"\\n  }, \\n  \"json\": null, \\n  \"origin\": \"104.245.14.31\", \\n  \"url\": \"http://httpbin.org/post\"\\n}\\n'\n"
     ]
    }
   ],
   "source": [
    "from urllib import request, parse\n",
    "\n",
    "# Base URL being accessed\n",
    "url = 'http://httpbin.org/post'\n",
    "\n",
    "# Dictionary of query parameters (if any)\n",
    "parms = {\n",
    "   'name1' : 'value1',\n",
    "   'name2' : 'value2'\n",
    "}\n",
    "\n",
    "# Encode the query string\n",
    "querystring = parse.urlencode(parms)\n",
    "\n",
    "# Make a POST request and read the response\n",
    "u = request.urlopen(url, querystring.encode('ascii'))\n",
    "resp = u.read()\n",
    "print(resp)"
   ]
  },
  {
   "cell_type": "code",
   "execution_count": 1,
   "metadata": {},
   "outputs": [
    {
     "output_type": "stream",
     "name": "stdout",
     "text": [
      "<Response [200]>\n"
     ]
    }
   ],
   "source": [
    "import requests\n",
    "url = 'http://www.baidu.com'\n",
    "\n",
    "resp1 = requests.get(url)\n",
    "\n",
    "resp2 = requests.get(url, cookies=resp1.cookies)\n",
    "print(resp2)"
   ]
  },
  {
   "cell_type": "code",
   "execution_count": 5,
   "metadata": {},
   "outputs": [
    {
     "output_type": "stream",
     "name": "stdout",
     "text": [
      "123.45.67.64\n123.45.67.65\n123.45.67.66\n123.45.67.67\n123.45.67.68\n123.45.67.69\n123.45.67.70\n123.45.67.71\n123.45.67.72\n123.45.67.73\n123.45.67.74\n123.45.67.75\n123.45.67.76\n123.45.67.77\n123.45.67.78\n123.45.67.79\n123.45.67.80\n123.45.67.81\n123.45.67.82\n123.45.67.83\n123.45.67.84\n123.45.67.85\n123.45.67.86\n123.45.67.87\n123.45.67.88\n123.45.67.89\n123.45.67.90\n123.45.67.91\n123.45.67.92\n123.45.67.93\n123.45.67.94\n123.45.67.95\n"
     ]
    }
   ],
   "source": [
    "import ipaddress\n",
    "net = ipaddress.ip_network('123.45.67.64/27')\n",
    "for a in net:\n",
    "    print(a)"
   ]
  },
  {
   "cell_type": "code",
   "execution_count": 20,
   "metadata": {},
   "outputs": [],
   "source": [
    "import cgi\n",
    "\n",
    "def notfound_404(environ, start_response):\n",
    "    start_response('404 Not Found', [ ('Content-type', 'text/plain') ])\n",
    "    return [b'Not Found']\n",
    "\n",
    "class PathDispatcher:\n",
    "    def __init__(self):\n",
    "        self.pathmap = { }\n",
    "\n",
    "    def __call__(self, environ, start_response):\n",
    "        path = environ['PATH_INFO']\n",
    "        params = cgi.FieldStorage(environ['wsgi.input'],\n",
    "                                  environ=environ)\n",
    "        method = environ['REQUEST_METHOD'].lower()\n",
    "        environ['params'] = { key: params.getvalue(key) for key in params }\n",
    "        handler = self.pathmap.get((method,path), notfound_404)\n",
    "        return handler(environ, start_response)\n",
    "\n",
    "    def register(self, method, path, function):\n",
    "        self.pathmap[method.lower(), path] = function\n",
    "        return function\n",
    "\n"
   ]
  },
  {
   "cell_type": "code",
   "execution_count": 19,
   "metadata": {},
   "outputs": [
    {
     "output_type": "execute_result",
     "data": {
      "text/plain": [
       "<AxesSubplot:xlabel='Date'>"
      ]
     },
     "metadata": {},
     "execution_count": 19
    },
    {
     "output_type": "display_data",
     "data": {
      "text/plain": "<Figure size 576x360 with 1 Axes>",
      "image/svg+xml": "<?xml version=\"1.0\" encoding=\"utf-8\" standalone=\"no\"?>\n<!DOCTYPE svg PUBLIC \"-//W3C//DTD SVG 1.1//EN\"\n  \"http://www.w3.org/Graphics/SVG/1.1/DTD/svg11.dtd\">\n<!-- Created with matplotlib (https://matplotlib.org/) -->\n<svg height=\"300.984627pt\" version=\"1.1\" viewBox=\"0 0 493.25 300.984627\" width=\"493.25pt\" xmlns=\"http://www.w3.org/2000/svg\" xmlns:xlink=\"http://www.w3.org/1999/xlink\">\n <metadata>\n  <rdf:RDF xmlns:cc=\"http://creativecommons.org/ns#\" xmlns:dc=\"http://purl.org/dc/elements/1.1/\" xmlns:rdf=\"http://www.w3.org/1999/02/22-rdf-syntax-ns#\">\n   <cc:Work>\n    <dc:type rdf:resource=\"http://purl.org/dc/dcmitype/StillImage\"/>\n    <dc:date>2021-08-26T09:57:29.425020</dc:date>\n    <dc:format>image/svg+xml</dc:format>\n    <dc:creator>\n     <cc:Agent>\n      <dc:title>Matplotlib v3.3.4, https://matplotlib.org/</dc:title>\n     </cc:Agent>\n    </dc:creator>\n   </cc:Work>\n  </rdf:RDF>\n </metadata>\n <defs>\n  <style type=\"text/css\">*{stroke-linecap:butt;stroke-linejoin:round;}</style>\n </defs>\n <g id=\"figure_1\">\n  <g id=\"patch_1\">\n   <path d=\"M 0 300.984627 \nL 493.25 300.984627 \nL 493.25 0 \nL 0 0 \nz\n\" style=\"fill:none;\"/>\n  </g>\n  <g id=\"axes_1\">\n   <g id=\"patch_2\">\n    <path d=\"M 39.65 252 \nL 486.05 252 \nL 486.05 7.2 \nL 39.65 7.2 \nz\n\" style=\"fill:#ffffff;\"/>\n   </g>\n   <g id=\"matplotlib.axis_1\">\n    <g id=\"xtick_1\">\n     <g id=\"line2d_1\">\n      <path clip-path=\"url(#pb94ee44dc0)\" d=\"M 59.992227 252 \nL 59.992227 7.2 \n\" style=\"fill:none;stroke:#b0b0b0;stroke-linecap:square;stroke-width:0.8;\"/>\n     </g>\n     <g id=\"line2d_2\">\n      <defs>\n       <path d=\"M 0 0 \nL 0 3.5 \n\" id=\"m4c9f808975\" style=\"stroke:#000000;stroke-width:0.8;\"/>\n      </defs>\n      <g>\n       <use style=\"stroke:#000000;stroke-width:0.8;\" x=\"59.992227\" xlink:href=\"#m4c9f808975\" y=\"252\"/>\n      </g>\n     </g>\n     <g id=\"text_1\">\n      <!-- 2000 -->\n      <g transform=\"translate(36.912036 278.30544)rotate(-30)scale(0.1 -0.1)\">\n       <defs>\n        <path d=\"M 19.1875 8.296875 \nL 53.609375 8.296875 \nL 53.609375 0 \nL 7.328125 0 \nL 7.328125 8.296875 \nQ 12.9375 14.109375 22.625 23.890625 \nQ 32.328125 33.6875 34.8125 36.53125 \nQ 39.546875 41.84375 41.421875 45.53125 \nQ 43.3125 49.21875 43.3125 52.78125 \nQ 43.3125 58.59375 39.234375 62.25 \nQ 35.15625 65.921875 28.609375 65.921875 \nQ 23.96875 65.921875 18.8125 64.3125 \nQ 13.671875 62.703125 7.8125 59.421875 \nL 7.8125 69.390625 \nQ 13.765625 71.78125 18.9375 73 \nQ 24.125 74.21875 28.421875 74.21875 \nQ 39.75 74.21875 46.484375 68.546875 \nQ 53.21875 62.890625 53.21875 53.421875 \nQ 53.21875 48.921875 51.53125 44.890625 \nQ 49.859375 40.875 45.40625 35.40625 \nQ 44.1875 33.984375 37.640625 27.21875 \nQ 31.109375 20.453125 19.1875 8.296875 \nz\n\" id=\"DejaVuSans-50\"/>\n        <path d=\"M 31.78125 66.40625 \nQ 24.171875 66.40625 20.328125 58.90625 \nQ 16.5 51.421875 16.5 36.375 \nQ 16.5 21.390625 20.328125 13.890625 \nQ 24.171875 6.390625 31.78125 6.390625 \nQ 39.453125 6.390625 43.28125 13.890625 \nQ 47.125 21.390625 47.125 36.375 \nQ 47.125 51.421875 43.28125 58.90625 \nQ 39.453125 66.40625 31.78125 66.40625 \nz\nM 31.78125 74.21875 \nQ 44.046875 74.21875 50.515625 64.515625 \nQ 56.984375 54.828125 56.984375 36.375 \nQ 56.984375 17.96875 50.515625 8.265625 \nQ 44.046875 -1.421875 31.78125 -1.421875 \nQ 19.53125 -1.421875 13.0625 8.265625 \nQ 6.59375 17.96875 6.59375 36.375 \nQ 6.59375 54.828125 13.0625 64.515625 \nQ 19.53125 74.21875 31.78125 74.21875 \nz\n\" id=\"DejaVuSans-48\"/>\n       </defs>\n       <use xlink:href=\"#DejaVuSans-50\"/>\n       <use x=\"63.623047\" xlink:href=\"#DejaVuSans-48\"/>\n       <use x=\"127.246094\" xlink:href=\"#DejaVuSans-48\"/>\n       <use x=\"190.869141\" xlink:href=\"#DejaVuSans-48\"/>\n      </g>\n     </g>\n    </g>\n    <g id=\"xtick_2\">\n     <g id=\"line2d_3\">\n      <path clip-path=\"url(#pb94ee44dc0)\" d=\"M 134.966982 252 \nL 134.966982 7.2 \n\" style=\"fill:none;stroke:#b0b0b0;stroke-linecap:square;stroke-width:0.8;\"/>\n     </g>\n     <g id=\"line2d_4\">\n      <g>\n       <use style=\"stroke:#000000;stroke-width:0.8;\" x=\"134.966982\" xlink:href=\"#m4c9f808975\" y=\"252\"/>\n      </g>\n     </g>\n     <g id=\"text_2\">\n      <!-- 2004 -->\n      <g transform=\"translate(111.886791 278.30544)rotate(-30)scale(0.1 -0.1)\">\n       <defs>\n        <path d=\"M 37.796875 64.3125 \nL 12.890625 25.390625 \nL 37.796875 25.390625 \nz\nM 35.203125 72.90625 \nL 47.609375 72.90625 \nL 47.609375 25.390625 \nL 58.015625 25.390625 \nL 58.015625 17.1875 \nL 47.609375 17.1875 \nL 47.609375 0 \nL 37.796875 0 \nL 37.796875 17.1875 \nL 4.890625 17.1875 \nL 4.890625 26.703125 \nz\n\" id=\"DejaVuSans-52\"/>\n       </defs>\n       <use xlink:href=\"#DejaVuSans-50\"/>\n       <use x=\"63.623047\" xlink:href=\"#DejaVuSans-48\"/>\n       <use x=\"127.246094\" xlink:href=\"#DejaVuSans-48\"/>\n       <use x=\"190.869141\" xlink:href=\"#DejaVuSans-52\"/>\n      </g>\n     </g>\n    </g>\n    <g id=\"xtick_3\">\n     <g id=\"line2d_5\">\n      <path clip-path=\"url(#pb94ee44dc0)\" d=\"M 209.941737 252 \nL 209.941737 7.2 \n\" style=\"fill:none;stroke:#b0b0b0;stroke-linecap:square;stroke-width:0.8;\"/>\n     </g>\n     <g id=\"line2d_6\">\n      <g>\n       <use style=\"stroke:#000000;stroke-width:0.8;\" x=\"209.941737\" xlink:href=\"#m4c9f808975\" y=\"252\"/>\n      </g>\n     </g>\n     <g id=\"text_3\">\n      <!-- 2008 -->\n      <g transform=\"translate(186.861547 278.30544)rotate(-30)scale(0.1 -0.1)\">\n       <defs>\n        <path d=\"M 31.78125 34.625 \nQ 24.75 34.625 20.71875 30.859375 \nQ 16.703125 27.09375 16.703125 20.515625 \nQ 16.703125 13.921875 20.71875 10.15625 \nQ 24.75 6.390625 31.78125 6.390625 \nQ 38.8125 6.390625 42.859375 10.171875 \nQ 46.921875 13.96875 46.921875 20.515625 \nQ 46.921875 27.09375 42.890625 30.859375 \nQ 38.875 34.625 31.78125 34.625 \nz\nM 21.921875 38.8125 \nQ 15.578125 40.375 12.03125 44.71875 \nQ 8.5 49.078125 8.5 55.328125 \nQ 8.5 64.0625 14.71875 69.140625 \nQ 20.953125 74.21875 31.78125 74.21875 \nQ 42.671875 74.21875 48.875 69.140625 \nQ 55.078125 64.0625 55.078125 55.328125 \nQ 55.078125 49.078125 51.53125 44.71875 \nQ 48 40.375 41.703125 38.8125 \nQ 48.828125 37.15625 52.796875 32.3125 \nQ 56.78125 27.484375 56.78125 20.515625 \nQ 56.78125 9.90625 50.3125 4.234375 \nQ 43.84375 -1.421875 31.78125 -1.421875 \nQ 19.734375 -1.421875 13.25 4.234375 \nQ 6.78125 9.90625 6.78125 20.515625 \nQ 6.78125 27.484375 10.78125 32.3125 \nQ 14.796875 37.15625 21.921875 38.8125 \nz\nM 18.3125 54.390625 \nQ 18.3125 48.734375 21.84375 45.5625 \nQ 25.390625 42.390625 31.78125 42.390625 \nQ 38.140625 42.390625 41.71875 45.5625 \nQ 45.3125 48.734375 45.3125 54.390625 \nQ 45.3125 60.0625 41.71875 63.234375 \nQ 38.140625 66.40625 31.78125 66.40625 \nQ 25.390625 66.40625 21.84375 63.234375 \nQ 18.3125 60.0625 18.3125 54.390625 \nz\n\" id=\"DejaVuSans-56\"/>\n       </defs>\n       <use xlink:href=\"#DejaVuSans-50\"/>\n       <use x=\"63.623047\" xlink:href=\"#DejaVuSans-48\"/>\n       <use x=\"127.246094\" xlink:href=\"#DejaVuSans-48\"/>\n       <use x=\"190.869141\" xlink:href=\"#DejaVuSans-56\"/>\n      </g>\n     </g>\n    </g>\n    <g id=\"xtick_4\">\n     <g id=\"line2d_7\">\n      <path clip-path=\"url(#pb94ee44dc0)\" d=\"M 284.916492 252 \nL 284.916492 7.2 \n\" style=\"fill:none;stroke:#b0b0b0;stroke-linecap:square;stroke-width:0.8;\"/>\n     </g>\n     <g id=\"line2d_8\">\n      <g>\n       <use style=\"stroke:#000000;stroke-width:0.8;\" x=\"284.916492\" xlink:href=\"#m4c9f808975\" y=\"252\"/>\n      </g>\n     </g>\n     <g id=\"text_4\">\n      <!-- 2012 -->\n      <g transform=\"translate(261.836302 278.30544)rotate(-30)scale(0.1 -0.1)\">\n       <defs>\n        <path d=\"M 12.40625 8.296875 \nL 28.515625 8.296875 \nL 28.515625 63.921875 \nL 10.984375 60.40625 \nL 10.984375 69.390625 \nL 28.421875 72.90625 \nL 38.28125 72.90625 \nL 38.28125 8.296875 \nL 54.390625 8.296875 \nL 54.390625 0 \nL 12.40625 0 \nz\n\" id=\"DejaVuSans-49\"/>\n       </defs>\n       <use xlink:href=\"#DejaVuSans-50\"/>\n       <use x=\"63.623047\" xlink:href=\"#DejaVuSans-48\"/>\n       <use x=\"127.246094\" xlink:href=\"#DejaVuSans-49\"/>\n       <use x=\"190.869141\" xlink:href=\"#DejaVuSans-50\"/>\n      </g>\n     </g>\n    </g>\n    <g id=\"xtick_5\">\n     <g id=\"line2d_9\">\n      <path clip-path=\"url(#pb94ee44dc0)\" d=\"M 359.891247 252 \nL 359.891247 7.2 \n\" style=\"fill:none;stroke:#b0b0b0;stroke-linecap:square;stroke-width:0.8;\"/>\n     </g>\n     <g id=\"line2d_10\">\n      <g>\n       <use style=\"stroke:#000000;stroke-width:0.8;\" x=\"359.891247\" xlink:href=\"#m4c9f808975\" y=\"252\"/>\n      </g>\n     </g>\n     <g id=\"text_5\">\n      <!-- 2016 -->\n      <g transform=\"translate(336.811057 278.30544)rotate(-30)scale(0.1 -0.1)\">\n       <defs>\n        <path d=\"M 33.015625 40.375 \nQ 26.375 40.375 22.484375 35.828125 \nQ 18.609375 31.296875 18.609375 23.390625 \nQ 18.609375 15.53125 22.484375 10.953125 \nQ 26.375 6.390625 33.015625 6.390625 \nQ 39.65625 6.390625 43.53125 10.953125 \nQ 47.40625 15.53125 47.40625 23.390625 \nQ 47.40625 31.296875 43.53125 35.828125 \nQ 39.65625 40.375 33.015625 40.375 \nz\nM 52.59375 71.296875 \nL 52.59375 62.3125 \nQ 48.875 64.0625 45.09375 64.984375 \nQ 41.3125 65.921875 37.59375 65.921875 \nQ 27.828125 65.921875 22.671875 59.328125 \nQ 17.53125 52.734375 16.796875 39.40625 \nQ 19.671875 43.65625 24.015625 45.921875 \nQ 28.375 48.1875 33.59375 48.1875 \nQ 44.578125 48.1875 50.953125 41.515625 \nQ 57.328125 34.859375 57.328125 23.390625 \nQ 57.328125 12.15625 50.6875 5.359375 \nQ 44.046875 -1.421875 33.015625 -1.421875 \nQ 20.359375 -1.421875 13.671875 8.265625 \nQ 6.984375 17.96875 6.984375 36.375 \nQ 6.984375 53.65625 15.1875 63.9375 \nQ 23.390625 74.21875 37.203125 74.21875 \nQ 40.921875 74.21875 44.703125 73.484375 \nQ 48.484375 72.75 52.59375 71.296875 \nz\n\" id=\"DejaVuSans-54\"/>\n       </defs>\n       <use xlink:href=\"#DejaVuSans-50\"/>\n       <use x=\"63.623047\" xlink:href=\"#DejaVuSans-48\"/>\n       <use x=\"127.246094\" xlink:href=\"#DejaVuSans-49\"/>\n       <use x=\"190.869141\" xlink:href=\"#DejaVuSans-54\"/>\n      </g>\n     </g>\n    </g>\n    <g id=\"xtick_6\">\n     <g id=\"line2d_11\">\n      <path clip-path=\"url(#pb94ee44dc0)\" d=\"M 434.866002 252 \nL 434.866002 7.2 \n\" style=\"fill:none;stroke:#b0b0b0;stroke-linecap:square;stroke-width:0.8;\"/>\n     </g>\n     <g id=\"line2d_12\">\n      <g>\n       <use style=\"stroke:#000000;stroke-width:0.8;\" x=\"434.866002\" xlink:href=\"#m4c9f808975\" y=\"252\"/>\n      </g>\n     </g>\n     <g id=\"text_6\">\n      <!-- 2020 -->\n      <g transform=\"translate(411.785812 278.30544)rotate(-30)scale(0.1 -0.1)\">\n       <use xlink:href=\"#DejaVuSans-50\"/>\n       <use x=\"63.623047\" xlink:href=\"#DejaVuSans-48\"/>\n       <use x=\"127.246094\" xlink:href=\"#DejaVuSans-50\"/>\n       <use x=\"190.869141\" xlink:href=\"#DejaVuSans-48\"/>\n      </g>\n     </g>\n    </g>\n    <g id=\"text_7\">\n     <!-- Date -->\n     <g transform=\"translate(250.899219 291.70494)scale(0.1 -0.1)\">\n      <defs>\n       <path d=\"M 19.671875 64.796875 \nL 19.671875 8.109375 \nL 31.59375 8.109375 \nQ 46.6875 8.109375 53.6875 14.9375 \nQ 60.6875 21.78125 60.6875 36.53125 \nQ 60.6875 51.171875 53.6875 57.984375 \nQ 46.6875 64.796875 31.59375 64.796875 \nz\nM 9.8125 72.90625 \nL 30.078125 72.90625 \nQ 51.265625 72.90625 61.171875 64.09375 \nQ 71.09375 55.28125 71.09375 36.53125 \nQ 71.09375 17.671875 61.125 8.828125 \nQ 51.171875 0 30.078125 0 \nL 9.8125 0 \nz\n\" id=\"DejaVuSans-68\"/>\n       <path d=\"M 34.28125 27.484375 \nQ 23.390625 27.484375 19.1875 25 \nQ 14.984375 22.515625 14.984375 16.5 \nQ 14.984375 11.71875 18.140625 8.90625 \nQ 21.296875 6.109375 26.703125 6.109375 \nQ 34.1875 6.109375 38.703125 11.40625 \nQ 43.21875 16.703125 43.21875 25.484375 \nL 43.21875 27.484375 \nz\nM 52.203125 31.203125 \nL 52.203125 0 \nL 43.21875 0 \nL 43.21875 8.296875 \nQ 40.140625 3.328125 35.546875 0.953125 \nQ 30.953125 -1.421875 24.3125 -1.421875 \nQ 15.921875 -1.421875 10.953125 3.296875 \nQ 6 8.015625 6 15.921875 \nQ 6 25.140625 12.171875 29.828125 \nQ 18.359375 34.515625 30.609375 34.515625 \nL 43.21875 34.515625 \nL 43.21875 35.40625 \nQ 43.21875 41.609375 39.140625 45 \nQ 35.0625 48.390625 27.6875 48.390625 \nQ 23 48.390625 18.546875 47.265625 \nQ 14.109375 46.140625 10.015625 43.890625 \nL 10.015625 52.203125 \nQ 14.9375 54.109375 19.578125 55.046875 \nQ 24.21875 56 28.609375 56 \nQ 40.484375 56 46.34375 49.84375 \nQ 52.203125 43.703125 52.203125 31.203125 \nz\n\" id=\"DejaVuSans-97\"/>\n       <path d=\"M 18.3125 70.21875 \nL 18.3125 54.6875 \nL 36.8125 54.6875 \nL 36.8125 47.703125 \nL 18.3125 47.703125 \nL 18.3125 18.015625 \nQ 18.3125 11.328125 20.140625 9.421875 \nQ 21.96875 7.515625 27.59375 7.515625 \nL 36.8125 7.515625 \nL 36.8125 0 \nL 27.59375 0 \nQ 17.1875 0 13.234375 3.875 \nQ 9.28125 7.765625 9.28125 18.015625 \nL 9.28125 47.703125 \nL 2.6875 47.703125 \nL 2.6875 54.6875 \nL 9.28125 54.6875 \nL 9.28125 70.21875 \nz\n\" id=\"DejaVuSans-116\"/>\n       <path d=\"M 56.203125 29.59375 \nL 56.203125 25.203125 \nL 14.890625 25.203125 \nQ 15.484375 15.921875 20.484375 11.0625 \nQ 25.484375 6.203125 34.421875 6.203125 \nQ 39.59375 6.203125 44.453125 7.46875 \nQ 49.3125 8.734375 54.109375 11.28125 \nL 54.109375 2.78125 \nQ 49.265625 0.734375 44.1875 -0.34375 \nQ 39.109375 -1.421875 33.890625 -1.421875 \nQ 20.796875 -1.421875 13.15625 6.1875 \nQ 5.515625 13.8125 5.515625 26.8125 \nQ 5.515625 40.234375 12.765625 48.109375 \nQ 20.015625 56 32.328125 56 \nQ 43.359375 56 49.78125 48.890625 \nQ 56.203125 41.796875 56.203125 29.59375 \nz\nM 47.21875 32.234375 \nQ 47.125 39.59375 43.09375 43.984375 \nQ 39.0625 48.390625 32.421875 48.390625 \nQ 24.90625 48.390625 20.390625 44.140625 \nQ 15.875 39.890625 15.1875 32.171875 \nz\n\" id=\"DejaVuSans-101\"/>\n      </defs>\n      <use xlink:href=\"#DejaVuSans-68\"/>\n      <use x=\"77.001953\" xlink:href=\"#DejaVuSans-97\"/>\n      <use x=\"138.28125\" xlink:href=\"#DejaVuSans-116\"/>\n      <use x=\"177.490234\" xlink:href=\"#DejaVuSans-101\"/>\n     </g>\n    </g>\n   </g>\n   <g id=\"matplotlib.axis_2\">\n    <g id=\"ytick_1\">\n     <g id=\"line2d_13\">\n      <path clip-path=\"url(#pb94ee44dc0)\" d=\"M 39.65 251.157925 \nL 486.05 251.157925 \n\" style=\"fill:none;stroke:#b0b0b0;stroke-linecap:square;stroke-width:0.8;\"/>\n     </g>\n     <g id=\"line2d_14\">\n      <defs>\n       <path d=\"M 0 0 \nL -3.5 0 \n\" id=\"mbdf46aac0f\" style=\"stroke:#000000;stroke-width:0.8;\"/>\n      </defs>\n      <g>\n       <use style=\"stroke:#000000;stroke-width:0.8;\" x=\"39.65\" xlink:href=\"#mbdf46aac0f\" y=\"251.157925\"/>\n      </g>\n     </g>\n     <g id=\"text_8\">\n      <!-- 500 -->\n      <g transform=\"translate(13.5625 254.957143)scale(0.1 -0.1)\">\n       <defs>\n        <path d=\"M 10.796875 72.90625 \nL 49.515625 72.90625 \nL 49.515625 64.59375 \nL 19.828125 64.59375 \nL 19.828125 46.734375 \nQ 21.96875 47.46875 24.109375 47.828125 \nQ 26.265625 48.1875 28.421875 48.1875 \nQ 40.625 48.1875 47.75 41.5 \nQ 54.890625 34.8125 54.890625 23.390625 \nQ 54.890625 11.625 47.5625 5.09375 \nQ 40.234375 -1.421875 26.90625 -1.421875 \nQ 22.3125 -1.421875 17.546875 -0.640625 \nQ 12.796875 0.140625 7.71875 1.703125 \nL 7.71875 11.625 \nQ 12.109375 9.234375 16.796875 8.0625 \nQ 21.484375 6.890625 26.703125 6.890625 \nQ 35.15625 6.890625 40.078125 11.328125 \nQ 45.015625 15.765625 45.015625 23.390625 \nQ 45.015625 31 40.078125 35.4375 \nQ 35.15625 39.890625 26.703125 39.890625 \nQ 22.75 39.890625 18.8125 39.015625 \nQ 14.890625 38.140625 10.796875 36.28125 \nz\n\" id=\"DejaVuSans-53\"/>\n       </defs>\n       <use xlink:href=\"#DejaVuSans-53\"/>\n       <use x=\"63.623047\" xlink:href=\"#DejaVuSans-48\"/>\n       <use x=\"127.246094\" xlink:href=\"#DejaVuSans-48\"/>\n      </g>\n     </g>\n    </g>\n    <g id=\"ytick_2\">\n     <g id=\"line2d_15\">\n      <path clip-path=\"url(#pb94ee44dc0)\" d=\"M 39.65 222.026345 \nL 486.05 222.026345 \n\" style=\"fill:none;stroke:#b0b0b0;stroke-linecap:square;stroke-width:0.8;\"/>\n     </g>\n     <g id=\"line2d_16\">\n      <g>\n       <use style=\"stroke:#000000;stroke-width:0.8;\" x=\"39.65\" xlink:href=\"#mbdf46aac0f\" y=\"222.026345\"/>\n      </g>\n     </g>\n     <g id=\"text_9\">\n      <!-- 1000 -->\n      <g transform=\"translate(7.2 225.825564)scale(0.1 -0.1)\">\n       <use xlink:href=\"#DejaVuSans-49\"/>\n       <use x=\"63.623047\" xlink:href=\"#DejaVuSans-48\"/>\n       <use x=\"127.246094\" xlink:href=\"#DejaVuSans-48\"/>\n       <use x=\"190.869141\" xlink:href=\"#DejaVuSans-48\"/>\n      </g>\n     </g>\n    </g>\n    <g id=\"ytick_3\">\n     <g id=\"line2d_17\">\n      <path clip-path=\"url(#pb94ee44dc0)\" d=\"M 39.65 192.894765 \nL 486.05 192.894765 \n\" style=\"fill:none;stroke:#b0b0b0;stroke-linecap:square;stroke-width:0.8;\"/>\n     </g>\n     <g id=\"line2d_18\">\n      <g>\n       <use style=\"stroke:#000000;stroke-width:0.8;\" x=\"39.65\" xlink:href=\"#mbdf46aac0f\" y=\"192.894765\"/>\n      </g>\n     </g>\n     <g id=\"text_10\">\n      <!-- 1500 -->\n      <g transform=\"translate(7.2 196.693984)scale(0.1 -0.1)\">\n       <use xlink:href=\"#DejaVuSans-49\"/>\n       <use x=\"63.623047\" xlink:href=\"#DejaVuSans-53\"/>\n       <use x=\"127.246094\" xlink:href=\"#DejaVuSans-48\"/>\n       <use x=\"190.869141\" xlink:href=\"#DejaVuSans-48\"/>\n      </g>\n     </g>\n    </g>\n    <g id=\"ytick_4\">\n     <g id=\"line2d_19\">\n      <path clip-path=\"url(#pb94ee44dc0)\" d=\"M 39.65 163.763185 \nL 486.05 163.763185 \n\" style=\"fill:none;stroke:#b0b0b0;stroke-linecap:square;stroke-width:0.8;\"/>\n     </g>\n     <g id=\"line2d_20\">\n      <g>\n       <use style=\"stroke:#000000;stroke-width:0.8;\" x=\"39.65\" xlink:href=\"#mbdf46aac0f\" y=\"163.763185\"/>\n      </g>\n     </g>\n     <g id=\"text_11\">\n      <!-- 2000 -->\n      <g transform=\"translate(7.2 167.562404)scale(0.1 -0.1)\">\n       <use xlink:href=\"#DejaVuSans-50\"/>\n       <use x=\"63.623047\" xlink:href=\"#DejaVuSans-48\"/>\n       <use x=\"127.246094\" xlink:href=\"#DejaVuSans-48\"/>\n       <use x=\"190.869141\" xlink:href=\"#DejaVuSans-48\"/>\n      </g>\n     </g>\n    </g>\n    <g id=\"ytick_5\">\n     <g id=\"line2d_21\">\n      <path clip-path=\"url(#pb94ee44dc0)\" d=\"M 39.65 134.631606 \nL 486.05 134.631606 \n\" style=\"fill:none;stroke:#b0b0b0;stroke-linecap:square;stroke-width:0.8;\"/>\n     </g>\n     <g id=\"line2d_22\">\n      <g>\n       <use style=\"stroke:#000000;stroke-width:0.8;\" x=\"39.65\" xlink:href=\"#mbdf46aac0f\" y=\"134.631606\"/>\n      </g>\n     </g>\n     <g id=\"text_12\">\n      <!-- 2500 -->\n      <g transform=\"translate(7.2 138.430824)scale(0.1 -0.1)\">\n       <use xlink:href=\"#DejaVuSans-50\"/>\n       <use x=\"63.623047\" xlink:href=\"#DejaVuSans-53\"/>\n       <use x=\"127.246094\" xlink:href=\"#DejaVuSans-48\"/>\n       <use x=\"190.869141\" xlink:href=\"#DejaVuSans-48\"/>\n      </g>\n     </g>\n    </g>\n    <g id=\"ytick_6\">\n     <g id=\"line2d_23\">\n      <path clip-path=\"url(#pb94ee44dc0)\" d=\"M 39.65 105.500026 \nL 486.05 105.500026 \n\" style=\"fill:none;stroke:#b0b0b0;stroke-linecap:square;stroke-width:0.8;\"/>\n     </g>\n     <g id=\"line2d_24\">\n      <g>\n       <use style=\"stroke:#000000;stroke-width:0.8;\" x=\"39.65\" xlink:href=\"#mbdf46aac0f\" y=\"105.500026\"/>\n      </g>\n     </g>\n     <g id=\"text_13\">\n      <!-- 3000 -->\n      <g transform=\"translate(7.2 109.299245)scale(0.1 -0.1)\">\n       <defs>\n        <path d=\"M 40.578125 39.3125 \nQ 47.65625 37.796875 51.625 33 \nQ 55.609375 28.21875 55.609375 21.1875 \nQ 55.609375 10.40625 48.1875 4.484375 \nQ 40.765625 -1.421875 27.09375 -1.421875 \nQ 22.515625 -1.421875 17.65625 -0.515625 \nQ 12.796875 0.390625 7.625 2.203125 \nL 7.625 11.71875 \nQ 11.71875 9.328125 16.59375 8.109375 \nQ 21.484375 6.890625 26.8125 6.890625 \nQ 36.078125 6.890625 40.9375 10.546875 \nQ 45.796875 14.203125 45.796875 21.1875 \nQ 45.796875 27.640625 41.28125 31.265625 \nQ 36.765625 34.90625 28.71875 34.90625 \nL 20.21875 34.90625 \nL 20.21875 43.015625 \nL 29.109375 43.015625 \nQ 36.375 43.015625 40.234375 45.921875 \nQ 44.09375 48.828125 44.09375 54.296875 \nQ 44.09375 59.90625 40.109375 62.90625 \nQ 36.140625 65.921875 28.71875 65.921875 \nQ 24.65625 65.921875 20.015625 65.03125 \nQ 15.375 64.15625 9.8125 62.3125 \nL 9.8125 71.09375 \nQ 15.4375 72.65625 20.34375 73.4375 \nQ 25.25 74.21875 29.59375 74.21875 \nQ 40.828125 74.21875 47.359375 69.109375 \nQ 53.90625 64.015625 53.90625 55.328125 \nQ 53.90625 49.265625 50.4375 45.09375 \nQ 46.96875 40.921875 40.578125 39.3125 \nz\n\" id=\"DejaVuSans-51\"/>\n       </defs>\n       <use xlink:href=\"#DejaVuSans-51\"/>\n       <use x=\"63.623047\" xlink:href=\"#DejaVuSans-48\"/>\n       <use x=\"127.246094\" xlink:href=\"#DejaVuSans-48\"/>\n       <use x=\"190.869141\" xlink:href=\"#DejaVuSans-48\"/>\n      </g>\n     </g>\n    </g>\n    <g id=\"ytick_7\">\n     <g id=\"line2d_25\">\n      <path clip-path=\"url(#pb94ee44dc0)\" d=\"M 39.65 76.368446 \nL 486.05 76.368446 \n\" style=\"fill:none;stroke:#b0b0b0;stroke-linecap:square;stroke-width:0.8;\"/>\n     </g>\n     <g id=\"line2d_26\">\n      <g>\n       <use style=\"stroke:#000000;stroke-width:0.8;\" x=\"39.65\" xlink:href=\"#mbdf46aac0f\" y=\"76.368446\"/>\n      </g>\n     </g>\n     <g id=\"text_14\">\n      <!-- 3500 -->\n      <g transform=\"translate(7.2 80.167665)scale(0.1 -0.1)\">\n       <use xlink:href=\"#DejaVuSans-51\"/>\n       <use x=\"63.623047\" xlink:href=\"#DejaVuSans-53\"/>\n       <use x=\"127.246094\" xlink:href=\"#DejaVuSans-48\"/>\n       <use x=\"190.869141\" xlink:href=\"#DejaVuSans-48\"/>\n      </g>\n     </g>\n    </g>\n    <g id=\"ytick_8\">\n     <g id=\"line2d_27\">\n      <path clip-path=\"url(#pb94ee44dc0)\" d=\"M 39.65 47.236866 \nL 486.05 47.236866 \n\" style=\"fill:none;stroke:#b0b0b0;stroke-linecap:square;stroke-width:0.8;\"/>\n     </g>\n     <g id=\"line2d_28\">\n      <g>\n       <use style=\"stroke:#000000;stroke-width:0.8;\" x=\"39.65\" xlink:href=\"#mbdf46aac0f\" y=\"47.236866\"/>\n      </g>\n     </g>\n     <g id=\"text_15\">\n      <!-- 4000 -->\n      <g transform=\"translate(7.2 51.036085)scale(0.1 -0.1)\">\n       <use xlink:href=\"#DejaVuSans-52\"/>\n       <use x=\"63.623047\" xlink:href=\"#DejaVuSans-48\"/>\n       <use x=\"127.246094\" xlink:href=\"#DejaVuSans-48\"/>\n       <use x=\"190.869141\" xlink:href=\"#DejaVuSans-48\"/>\n      </g>\n     </g>\n    </g>\n    <g id=\"ytick_9\">\n     <g id=\"line2d_29\">\n      <path clip-path=\"url(#pb94ee44dc0)\" d=\"M 39.65 18.105287 \nL 486.05 18.105287 \n\" style=\"fill:none;stroke:#b0b0b0;stroke-linecap:square;stroke-width:0.8;\"/>\n     </g>\n     <g id=\"line2d_30\">\n      <g>\n       <use style=\"stroke:#000000;stroke-width:0.8;\" x=\"39.65\" xlink:href=\"#mbdf46aac0f\" y=\"18.105287\"/>\n      </g>\n     </g>\n     <g id=\"text_16\">\n      <!-- 4500 -->\n      <g transform=\"translate(7.2 21.904505)scale(0.1 -0.1)\">\n       <use xlink:href=\"#DejaVuSans-52\"/>\n       <use x=\"63.623047\" xlink:href=\"#DejaVuSans-53\"/>\n       <use x=\"127.246094\" xlink:href=\"#DejaVuSans-48\"/>\n       <use x=\"190.869141\" xlink:href=\"#DejaVuSans-48\"/>\n      </g>\n     </g>\n    </g>\n   </g>\n   <g id=\"line2d_31\">\n    <path clip-path=\"url(#pb94ee44dc0)\" d=\"M 59.940909 194.686357 \nL 60.094861 195.503791 \nL 60.146179 198.754871 \nL 60.248814 198.520076 \nL 60.300131 196.304909 \nL 60.454083 195.365124 \nL 60.556718 196.842094 \nL 60.659353 194.925235 \nL 60.967258 196.066032 \nL 61.018575 196.311318 \nL 61.172527 198.631937 \nL 61.223845 198.1367 \nL 61.32648 198.804977 \nL 61.377797 201.042283 \nL 61.685701 197.266252 \nL 61.737019 197.301208 \nL 61.890971 197.308783 \nL 61.942289 196.290344 \nL 62.096241 199.471511 \nL 62.250193 199.307212 \nL 62.301511 198.601639 \nL 62.455463 201.86205 \nL 62.660733 201.507805 \nL 62.71205 201.011409 \nL 62.763367 201.434393 \nL 62.814685 202.603739 \nL 62.968637 201.747849 \nL 63.173907 198.186805 \nL 63.327859 199.229134 \nL 63.379176 201.3068 \nL 63.430494 200.661247 \nL 63.481811 198.62262 \nL 63.533129 199.008322 \nL 63.687081 199.675432 \nL 63.738398 201.10113 \nL 63.892351 194.964857 \nL 64.046303 195.421638 \nL 64.251573 191.294861 \nL 64.405525 191.504607 \nL 64.559477 193.598581 \nL 64.610795 192.977501 \nL 64.764747 192.546936 \nL 64.867382 193.630629 \nL 64.970017 191.942164 \nL 65.175286 192.860392 \nL 65.329239 201.252029 \nL 65.534508 196.296752 \nL 65.637143 196.708669 \nL 65.842413 196.981344 \nL 65.89373 194.209185 \nL 65.945048 195.167611 \nL 65.996365 194.938634 \nL 66.047682 195.66634 \nL 66.201635 194.74462 \nL 66.355587 198.163506 \nL 66.406904 196.819954 \nL 66.560857 197.312858 \nL 66.663492 199.708639 \nL 66.714809 198.266042 \nL 66.971396 194.87338 \nL 67.125348 198.316155 \nL 67.279301 198.679133 \nL 67.330618 200.244081 \nL 67.381935 198.776428 \nL 67.48457 200.001704 \nL 67.843792 194.219669 \nL 67.997745 194.780743 \nL 68.049062 195.351142 \nL 68.100379 194.563423 \nL 68.151697 195.127989 \nL 68.356966 196.040976 \nL 68.510919 194.134024 \nL 68.562236 194.96544 \nL 68.716188 193.710449 \nL 68.921458 196.304326 \nL 69.07541 195.498542 \nL 69.178045 195.527098 \nL 69.229363 196.251305 \nL 69.28068 195.539914 \nL 69.434632 194.669459 \nL 69.537267 196.027576 \nL 69.588585 195.419305 \nL 69.639902 194.124116 \nL 69.793854 194.315221 \nL 69.947807 193.137142 \nL 69.999124 192.3133 \nL 70.153076 192.283585 \nL 70.255711 193.945835 \nL 70.307029 193.152874 \nL 70.512298 194.97534 \nL 70.563616 194.382225 \nL 70.717568 197.562226 \nL 70.974155 196.4663 \nL 71.230742 194.09965 \nL 71.28206 193.896889 \nL 71.384694 195.210726 \nL 71.436012 194.535458 \nL 71.589964 193.386503 \nL 71.641282 193.801919 \nL 71.692599 194.068769 \nL 71.743916 193.123742 \nL 71.795234 193.377186 \nL 72.308408 192.073839 \nL 72.411043 192.743865 \nL 72.513678 191.684638 \nL 72.718947 192.482264 \nL 72.770265 193.346305 \nL 72.8729 193.215212 \nL 73.026852 193.520511 \nL 73.386074 196.127787 \nL 73.437391 195.231116 \nL 73.488709 195.729852 \nL 73.745296 196.447068 \nL 73.847931 197.173032 \nL 73.899248 195.324919 \nL 73.950566 196.593892 \nL 74.104518 196.610208 \nL 74.155835 197.17944 \nL 74.207153 196.721493 \nL 74.25847 196.607292 \nL 74.309788 198.197296 \nL 74.46374 198.602805 \nL 74.617692 202.812318 \nL 74.66901 200.226016 \nL 74.822962 200.1998 \nL 74.925597 202.09277 \nL 75.028231 198.899946 \nL 75.182184 198.96695 \nL 75.233501 198.830033 \nL 75.336136 200.792922 \nL 75.592723 197.008143 \nL 75.644041 197.484738 \nL 75.695358 197.071071 \nL 75.746675 197.166041 \nL 75.951945 196.864234 \nL 76.105897 200.703195 \nL 76.25985 201.560827 \nL 76.362484 199.314779 \nL 76.465119 200.601817 \nL 76.721706 203.244634 \nL 76.824341 202.113744 \nL 76.978294 201.694252 \nL 77.132246 203.676366 \nL 77.183563 203.66005 \nL 77.337516 203.092568 \nL 77.388833 200.087932 \nL 77.44015 201.549177 \nL 77.491468 202.010034 \nL 77.542785 200.475384 \nL 77.696737 199.874694 \nL 77.85069 202.162683 \nL 77.902007 203.839498 \nL 78.055959 203.222493 \nL 78.158594 206.601757 \nL 78.209912 206.012134 \nL 78.261229 204.200734 \nL 78.466499 203.662383 \nL 78.569134 202.553633 \nL 78.825721 205.522138 \nL 78.877038 201.776398 \nL 78.928356 202.604905 \nL 78.979673 204.643533 \nL 79.133625 204.788607 \nL 79.23626 203.774244 \nL 79.287578 202.984782 \nL 79.338895 203.466612 \nL 79.595482 202.830383 \nL 79.6468 201.752515 \nL 79.698117 202.06888 \nL 79.852069 202.047906 \nL 79.954704 200.801073 \nL 80.006022 201.196682 \nL 80.057339 201.345839 \nL 80.365243 200.266804 \nL 80.416561 201.66512 \nL 80.570513 201.383121 \nL 80.621831 201.502564 \nL 80.775783 203.687432 \nL 80.929735 202.781437 \nL 81.03237 203.619845 \nL 81.083687 202.997015 \nL 81.135005 204.458253 \nL 81.340275 205.774423 \nL 81.494227 207.701765 \nL 81.648179 206.432209 \nL 81.853449 208.382275 \nL 82.007401 207.961033 \nL 82.161353 206.601757 \nL 82.366623 211.529652 \nL 82.41794 210.510047 \nL 82.571893 213.25599 \nL 82.725845 212.074411 \nL 82.879797 215.175765 \nL 82.931115 213.87941 \nL 83.085067 213.130146 \nL 83.136384 211.412542 \nL 83.187702 213.095183 \nL 83.239019 213.406313 \nL 83.290337 212.685015 \nL 83.444289 213.527498 \nL 83.546924 216.010674 \nL 83.598241 213.202975 \nL 83.649559 214.543604 \nL 83.803511 214.009919 \nL 83.957463 211.335055 \nL 84.162733 211.557617 \nL 84.21405 210.850885 \nL 84.316685 207.245567 \nL 84.368002 207.869563 \nL 84.573272 209.821962 \nL 84.727224 207.282849 \nL 84.881177 207.492019 \nL 84.983812 206.445025 \nL 85.035129 207.543291 \nL 85.086446 206.492805 \nL 85.291716 206.80801 \nL 85.445668 207.712832 \nL 85.650938 207.493186 \nL 85.80489 205.015835 \nL 85.958843 203.799883 \nL 86.01016 204.000888 \nL 86.164112 205.835595 \nL 86.369382 206.415893 \nL 86.420699 207.572423 \nL 86.472017 207.121466 \nL 86.728604 205.504664 \nL 86.882556 206.58894 \nL 87.139143 207.949967 \nL 87.241778 209.537055 \nL 87.39573 209.882551 \nL 87.498365 209.025503 \nL 87.549683 208.215643 \nL 87.601 208.896743 \nL 87.857587 209.728743 \nL 87.908905 208.847221 \nL 87.960222 208.953257 \nL 88.114174 208.234291 \nL 88.165492 208.36655 \nL 88.268127 209.25273 \nL 88.319444 210.921971 \nL 88.473396 210.444792 \nL 88.576031 211.528486 \nL 88.678666 209.460143 \nL 88.832618 210.230971 \nL 88.986571 209.498599 \nL 89.19184 210.896332 \nL 89.243158 212.025472 \nL 89.294475 210.927796 \nL 89.39711 210.034624 \nL 89.551062 210.110362 \nL 89.705014 209.164752 \nL 89.910284 210.345748 \nL 89.961602 210.117354 \nL 90.064236 211.33913 \nL 90.115554 210.94702 \nL 90.269506 210.881183 \nL 90.372141 211.654336 \nL 90.423458 211.442257 \nL 90.474776 212.589463 \nL 90.628728 212.039455 \nL 90.680046 212.86388 \nL 90.731363 212.394858 \nL 90.78268 212.582471 \nL 90.833998 211.251736 \nL 90.98795 211.585006 \nL 91.141902 214.508648 \nL 91.19322 214.243555 \nL 91.449807 214.350757 \nL 91.552442 217.028529 \nL 91.706394 216.63467 \nL 92.168251 221.088309 \nL 92.270886 224.018946 \nL 92.630108 219.641054 \nL 92.78406 219.780297 \nL 92.886695 217.815082 \nL 92.98933 217.86752 \nL 93.194599 218.71991 \nL 93.297234 216.349762 \nL 93.348552 216.686525 \nL 93.502504 216.783827 \nL 93.553821 216.343354 \nL 93.656456 218.02891 \nL 93.707773 217.745169 \nL 93.861726 216.788485 \nL 93.913043 217.086792 \nL 93.964361 217.062326 \nL 94.066995 215.931437 \nL 94.323583 218.543371 \nL 94.426217 216.9458 \nL 94.785439 215.016701 \nL 94.939392 215.132068 \nL 95.093344 213.738994 \nL 95.144661 213.948156 \nL 95.298614 213.225109 \nL 95.401248 214.042542 \nL 95.657836 212.854556 \nL 95.76047 214.538362 \nL 95.863105 213.90155 \nL 96.017058 214.457959 \nL 96.119692 212.101217 \nL 96.222327 212.802701 \nL 96.530232 215.070889 \nL 96.581549 214.854734 \nL 96.838136 213.312503 \nL 96.940771 213.584595 \nL 97.094723 213.598577 \nL 97.248676 212.871454 \nL 97.299993 212.64481 \nL 97.453945 213.398739 \nL 97.607898 212.397191 \nL 97.659215 211.975367 \nL 97.915802 212.987397 \nL 97.96712 212.905244 \nL 98.018437 213.54323 \nL 98.172389 213.962139 \nL 98.223707 213.508857 \nL 98.377659 214.593133 \nL 98.582929 215.074964 \nL 98.736881 214.261029 \nL 98.890833 214.273845 \nL 98.942151 216.16274 \nL 98.993468 215.409401 \nL 99.044785 214.440484 \nL 99.096103 214.90659 \nL 99.404007 217.355385 \nL 99.609277 215.50437 \nL 99.660595 215.763055 \nL 99.711912 215.121577 \nL 99.763229 215.239853 \nL 99.814547 215.956486 \nL 100.019817 217.170695 \nL 100.071134 216.317722 \nL 100.122451 217.309945 \nL 100.379038 215.65352 \nL 100.430356 215.623805 \nL 100.481673 215.807919 \nL 100.686943 213.063142 \nL 100.73826 213.511766 \nL 100.892213 212.453122 \nL 101.046165 212.222985 \nL 101.097482 212.379133 \nL 101.200117 213.109749 \nL 101.251435 212.345336 \nL 101.405387 212.380876 \nL 101.456704 212.104709 \nL 101.610657 213.362616 \nL 101.764609 214.343182 \nL 101.815926 213.95748 \nL 101.918561 213.438937 \nL 102.123831 213.488459 \nL 102.329101 214.875708 \nL 102.483053 214.726551 \nL 102.53437 215.162942 \nL 102.585688 214.424752 \nL 102.637005 215.985041 \nL 102.688323 215.558551 \nL 102.842275 216.051455 \nL 102.893592 214.547103 \nL 102.996227 214.774331 \nL 103.047544 214.733543 \nL 103.560719 218.213024 \nL 103.663354 216.988914 \nL 103.714671 217.099609 \nL 103.971258 219.142902 \nL 104.022576 216.849664 \nL 104.073893 217.772551 \nL 104.12521 218.822454 \nL 104.279163 217.68224 \nL 104.433115 216.303156 \nL 104.484432 215.816077 \nL 104.689702 217.372283 \nL 104.741019 217.014547 \nL 104.792337 216.37016 \nL 104.843654 217.14273 \nL 105.151559 218.259047 \nL 105.202876 218.114555 \nL 105.408146 219.65562 \nL 105.459463 219.119012 \nL 105.562098 220.422358 \nL 105.71605 220.235336 \nL 105.870003 221.469349 \nL 105.92132 221.60277 \nL 106.12659 219.86245 \nL 106.280542 222.659082 \nL 106.434494 222.450502 \nL 106.537129 223.568569 \nL 106.588447 222.571687 \nL 106.639764 222.619463 \nL 106.845034 225.050784 \nL 106.896351 224.707033 \nL 106.998986 222.66549 \nL 107.152938 223.367564 \nL 107.255573 226.660016 \nL 107.358208 226.606411 \nL 107.51216 226.808003 \nL 107.9227 233.812981 \nL 108.076652 230.60035 \nL 108.333239 227.175643 \nL 108.589826 231.663073 \nL 108.795096 227.349266 \nL 108.949048 227.631261 \nL 109.000366 228.772635 \nL 109.103 226.0902 \nL 109.154318 226.176428 \nL 109.30827 224.898718 \nL 109.359588 225.671871 \nL 109.410905 224.976792 \nL 109.462222 224.19956 \nL 109.51354 225.472029 \nL 109.667492 225.058942 \nL 109.872762 226.916371 \nL 110.078031 229.133284 \nL 110.231984 228.206902 \nL 110.488571 227.302073 \nL 110.539888 228.615327 \nL 110.591206 228.446362 \nL 110.745158 228.371204 \nL 110.89911 231.155016 \nL 110.950428 231.034411 \nL 111.10438 231.715507 \nL 111.155697 232.555082 \nL 111.258332 230.477415 \nL 111.30965 232.084314 \nL 111.463602 232.788714 \nL 111.514919 230.88759 \nL 111.566237 232.052853 \nL 111.822824 234.536609 \nL 111.874141 233.763459 \nL 111.925459 235.033012 \nL 112.028094 231.621121 \nL 112.182046 231.264551 \nL 112.233363 228.943929 \nL 112.335998 229.064534 \nL 112.541268 227.868976 \nL 112.69522 228.872266 \nL 112.746537 227.989578 \nL 112.951807 228.892657 \nL 113.054442 228.682328 \nL 113.105759 227.796727 \nL 113.311029 226.95599 \nL 113.362347 226.468327 \nL 113.464981 228.159126 \nL 113.618934 229.239906 \nL 113.670251 228.846047 \nL 113.721568 228.870516 \nL 113.824203 227.279933 \nL 114.029473 228.042599 \nL 114.132108 225.885696 \nL 114.183425 226.072722 \nL 114.337378 225.937551 \nL 114.388695 227.077178 \nL 114.440012 225.587972 \nL 114.542647 225.737126 \nL 114.6966 225.840832 \nL 114.850552 227.471038 \nL 114.901869 227.140103 \nL 115.055821 228.318766 \nL 115.158456 227.563674 \nL 115.209774 227.760604 \nL 115.261091 228.46559 \nL 115.415043 227.246722 \nL 115.466361 227.678454 \nL 115.568996 228.770305 \nL 115.620313 228.099696 \nL 115.774265 228.00531 \nL 115.979535 229.285933 \nL 116.184805 229.028411 \nL 116.28744 227.326543 \nL 116.338757 227.352179 \nL 116.492709 226.162446 \nL 116.544027 226.516687 \nL 116.595344 227.274108 \nL 116.697979 226.246345 \nL 116.851931 226.32267 \nL 116.903249 226.008051 \nL 117.057201 227.748951 \nL 117.313788 229.113476 \nL 117.365106 228.590271 \nL 117.416423 230.101617 \nL 117.570375 230.912643 \nL 117.67301 229.929161 \nL 117.724327 231.079858 \nL 117.775645 230.433718 \nL 117.929597 230.164542 \nL 118.134867 231.949143 \nL 118.288819 231.583253 \nL 118.442771 232.666946 \nL 118.494089 231.646174 \nL 118.699359 230.697652 \nL 118.801993 231.517415 \nL 118.853311 230.872441 \nL 119.109898 232.073827 \nL 119.212533 231.281446 \nL 119.366485 231.650836 \nL 119.520437 232.391362 \nL 119.571755 231.995753 \nL 119.777024 233.636446 \nL 119.828342 233.434854 \nL 119.930977 231.74056 \nL 120.290199 228.09795 \nL 120.444151 229.936735 \nL 120.495468 229.324389 \nL 120.803373 230.871858 \nL 120.906008 228.965486 \nL 121.008643 229.084928 \nL 121.213912 229.117555 \nL 121.26523 229.834191 \nL 121.316547 229.508499 \nL 121.367865 229.699604 \nL 121.573134 228.388099 \nL 121.624452 229.023169 \nL 121.675769 228.226709 \nL 121.881039 228.318183 \nL 121.983674 226.744494 \nL 122.034991 227.186713 \nL 122.086308 227.921994 \nL 122.291578 226.813244 \nL 122.342896 226.866849 \nL 122.394213 226.902972 \nL 122.44553 226.100104 \nL 122.599483 226.305775 \nL 122.6508 225.84899 \nL 122.702118 226.126906 \nL 122.753435 226.671665 \nL 122.958705 225.22441 \nL 123.061339 225.564082 \nL 123.112657 225.13352 \nL 123.163974 225.271603 \nL 123.369244 226.70313 \nL 124.087688 223.683349 \nL 124.190323 222.600819 \nL 124.24164 222.739485 \nL 124.395592 223.428739 \nL 124.549545 222.113156 \nL 124.600862 222.689963 \nL 124.806132 221.346998 \nL 124.857449 221.438468 \nL 124.908767 222.335139 \nL 124.960084 222.277459 \nL 125.216671 223.464279 \nL 125.267989 222.852516 \nL 125.319306 223.411844 \nL 125.473258 223.512055 \nL 125.575893 222.39049 \nL 125.627211 222.859507 \nL 125.883798 221.56956 \nL 125.986433 222.684718 \nL 126.03775 222.134713 \nL 126.191702 221.80145 \nL 126.294337 222.370678 \nL 126.345655 223.090814 \nL 126.396972 222.415542 \nL 126.550924 223.261524 \nL 126.653559 222.689963 \nL 126.704877 223.098388 \nL 126.756194 222.103253 \nL 126.910146 222.229099 \nL 127.115416 223.182867 \nL 127.269368 223.027305 \nL 127.320686 224.038753 \nL 127.372003 223.944367 \nL 127.474638 223.332021 \nL 127.62859 223.157231 \nL 127.782542 222.579262 \nL 127.83386 222.569941 \nL 128.141764 221.835823 \nL 128.193082 222.430691 \nL 128.347034 222.392819 \nL 129.065478 220.182898 \nL 129.168113 221.390112 \nL 129.21943 221.069665 \nL 129.270748 220.940902 \nL 129.4247 221.163468 \nL 129.578652 219.720291 \nL 129.783922 220.696779 \nL 129.835239 220.334964 \nL 129.989192 222.209875 \nL 130.143144 221.642972 \nL 130.194461 222.261147 \nL 130.348414 220.287191 \nL 131.01554 219.109112 \nL 131.066857 219.73544 \nL 131.272127 219.34449 \nL 131.426079 220.341955 \nL 131.580032 220.212612 \nL 131.682667 219.223305 \nL 131.733984 219.291475 \nL 131.939254 218.587652 \nL 132.041889 219.007727 \nL 132.093206 218.644166 \nL 132.144523 218.926164 \nL 132.349793 219.313033 \nL 132.40111 218.6162 \nL 132.452428 218.623192 \nL 132.709015 220.036656 \nL 132.760332 219.55366 \nL 132.81165 220.065788 \nL 132.862967 219.970819 \nL 133.119554 218.620866 \nL 133.222189 218.635432 \nL 133.376142 217.940932 \nL 133.427459 218.144853 \nL 133.478776 218.254972 \nL 133.530094 217.964239 \nL 133.581411 218.44316 \nL 133.735363 217.988705 \nL 133.837998 218.585902 \nL 133.940633 217.706713 \nL 134.094585 218.062117 \nL 134.248538 216.830433 \nL 134.299855 216.860731 \nL 134.659077 216.43949 \nL 134.915664 215.505529 \nL 135.018299 215.705958 \nL 135.326204 214.340266 \nL 135.377521 214.926397 \nL 135.531473 214.613524 \nL 135.582791 214.963686 \nL 135.736743 213.87941 \nL 135.942013 213.941165 \nL 135.99333 213.425537 \nL 136.044648 213.639949 \nL 136.095965 213.779192 \nL 136.249917 212.973998 \nL 136.352552 214.540695 \nL 136.455187 214.386296 \nL 136.660457 214.100806 \nL 136.711774 214.654889 \nL 136.763091 214.534287 \nL 136.814409 213.708696 \nL 136.968361 213.880569 \nL 137.070996 212.834748 \nL 137.122313 213.163936 \nL 137.173631 213.53099 \nL 137.378901 212.879612 \nL 137.532853 213.630042 \nL 137.738122 213.922524 \nL 137.892075 213.581686 \nL 138.046027 212.939042 \nL 138.097344 213.339309 \nL 138.148662 213.226858 \nL 138.251297 212.887186 \nL 138.456566 213.835712 \nL 138.559201 215.805003 \nL 138.610519 215.001559 \nL 138.764471 215.938428 \nL 138.815788 215.576616 \nL 138.867106 214.816279 \nL 138.918423 214.899598 \nL 139.123693 216.468038 \nL 139.226328 216.705173 \nL 139.277645 215.664594 \nL 139.328963 215.730424 \nL 139.842137 213.253664 \nL 139.996089 213.909125 \nL 140.201359 213.566537 \nL 140.303994 214.558753 \nL 140.355311 214.519721 \nL 140.406629 214.183542 \nL 140.560581 214.113046 \nL 140.611898 215.142551 \nL 140.663216 214.796471 \nL 140.76585 213.834546 \nL 140.919803 214.129937 \nL 140.97112 213.979621 \nL 141.125072 215.774705 \nL 141.38166 214.945621 \nL 141.638247 216.950459 \nL 141.740882 216.358503 \nL 141.792199 216.407449 \nL 141.843516 216.450563 \nL 141.997469 217.126415 \nL 142.048786 216.695849 \nL 142.100103 216.859565 \nL 142.151421 216.829857 \nL 142.202738 216.57524 \nL 142.356691 216.467455 \nL 142.510643 214.960187 \nL 142.56196 214.995144 \nL 142.76723 214.964853 \nL 142.818547 214.744033 \nL 142.869865 215.230529 \nL 142.921182 214.889108 \nL 143.126452 213.742486 \nL 143.177769 214.374647 \nL 143.229087 214.075173 \nL 143.434356 214.726551 \nL 143.536991 214.244714 \nL 143.588309 214.332692 \nL 143.639626 214.159652 \nL 143.793578 214.434652 \nL 143.896213 213.632951 \nL 143.947531 213.83163 \nL 143.998848 214.194025 \nL 144.1528 214.256954 \nL 144.255435 213.820563 \nL 144.35807 214.72131 \nL 144.665975 215.669252 \nL 144.717292 215.453674 \nL 144.922562 215.317924 \nL 145.230466 216.147591 \nL 145.281784 215.694885 \nL 145.435736 217.004063 \nL 145.589688 217.128164 \nL 145.743641 216.174973 \nL 145.94891 215.814327 \nL 146.15418 218.299252 \nL 146.308132 218.226423 \nL 146.35945 217.421222 \nL 146.410767 217.610578 \nL 146.462084 218.342366 \nL 146.513402 218.250889 \nL 146.872624 216.296164 \nL 147.077894 216.422015 \nL 147.231846 215.747323 \nL 147.385798 216.249551 \nL 147.53975 215.133227 \nL 147.591068 215.405902 \nL 147.796337 214.959021 \nL 147.847655 215.252086 \nL 147.898972 215.129152 \nL 147.95029 214.806372 \nL 148.155559 214.549436 \nL 148.206877 215.013209 \nL 148.258194 214.830845 \nL 148.309512 214.536613 \nL 148.463464 214.90659 \nL 148.514781 214.492915 \nL 148.617416 215.71295 \nL 148.668734 215.610989 \nL 148.822686 215.994941 \nL 149.181908 214.150911 \nL 149.233225 214.191116 \nL 149.284543 213.75006 \nL 149.387178 214.910082 \nL 149.54113 214.77899 \nL 149.643765 215.404735 \nL 149.695082 216.008341 \nL 149.7464 215.722274 \nL 149.900352 215.383178 \nL 149.951669 216.01184 \nL 150.002987 215.986784 \nL 150.054304 215.821902 \nL 150.105621 216.44823 \nL 150.259574 216.502994 \nL 150.464843 214.440484 \nL 150.670113 214.419503 \nL 150.824065 212.344753 \nL 151.080653 212.534691 \nL 151.183287 211.296016 \nL 151.33724 211.31699 \nL 151.388557 211.805236 \nL 151.439874 211.425949 \nL 151.491192 211.332139 \nL 151.542509 212.1018 \nL 151.901731 211.384577 \nL 152.107001 211.899046 \nL 152.158318 210.876524 \nL 152.260953 210.888174 \nL 152.414906 210.941779 \nL 152.466223 211.70969 \nL 152.51754 211.375253 \nL 152.568858 211.000625 \nL 152.620175 211.072871 \nL 152.876762 210.040449 \nL 152.92808 210.18669 \nL 152.979397 210.711642 \nL 153.133349 210.685419 \nL 153.287302 209.783507 \nL 153.492571 210.087056 \nL 153.646524 209.584244 \nL 153.697841 209.679213 \nL 153.851793 210.252528 \nL 153.954428 211.321072 \nL 154.005746 211.079279 \nL 154.057063 211.178331 \nL 154.211015 210.941779 \nL 154.364968 211.68755 \nL 154.416285 211.275625 \nL 154.621555 210.607932 \nL 154.775507 212.245708 \nL 154.929459 212.485752 \nL 155.083412 211.856507 \nL 155.134729 212.042371 \nL 155.391316 210.770488 \nL 155.442633 210.962753 \nL 155.493951 210.197174 \nL 155.699221 210.239705 \nL 155.750538 210.840401 \nL 155.801855 210.547919 \nL 155.853173 210.064915 \nL 156.007125 210.015976 \nL 156.10976 209.771274 \nL 156.161077 210.330016 \nL 156.212395 210.281076 \nL 156.417665 211.296599 \nL 156.571617 209.711261 \nL 156.725569 210.163967 \nL 156.930839 209.084932 \nL 157.084791 208.899069 \nL 157.290061 210.369054 \nL 157.444013 209.975778 \nL 157.546648 211.068796 \nL 157.649283 210.976735 \nL 157.803235 211.31874 \nL 157.957187 212.038871 \nL 158.162457 211.87224 \nL 158.213774 212.39195 \nL 158.265092 211.456823 \nL 158.316409 211.504603 \nL 158.367727 211.951477 \nL 158.521679 211.765037 \nL 158.675631 210.889924 \nL 158.726949 211.469063 \nL 158.880901 211.46848 \nL 158.932218 211.086853 \nL 159.086171 213.716853 \nL 159.240123 213.52109 \nL 159.29144 213.124898 \nL 159.342758 214.01516 \nL 159.394075 212.707155 \nL 159.445392 213.163353 \nL 159.599345 212.581888 \nL 159.753297 213.681897 \nL 159.804614 212.88777 \nL 159.958567 212.578389 \nL 160.009884 212.636069 \nL 160.061202 211.792419 \nL 160.112519 211.968375 \nL 160.163836 212.042954 \nL 160.317789 211.606563 \nL 160.523058 213.050902 \nL 160.728328 211.900205 \nL 160.830963 210.893423 \nL 160.88228 210.998292 \nL 161.08755 210.719217 \nL 161.138867 210.955761 \nL 161.241502 210.444792 \nL 161.446772 210.86895 \nL 161.549407 210.123762 \nL 161.600724 210.605599 \nL 161.805994 210.533353 \nL 161.857311 210.684253 \nL 161.908629 210.319525 \nL 161.959946 210.483831 \nL 162.165216 210.145902 \nL 162.47312 209.435677 \nL 162.575755 209.56502 \nL 162.67839 210.864874 \nL 162.832342 210.916146 \nL 162.88366 210.282243 \nL 162.934977 210.382454 \nL 162.986295 210.878857 \nL 163.037612 210.697659 \nL 163.242882 210.08298 \nL 163.294199 210.668528 \nL 163.345517 210.497814 \nL 163.396834 209.682713 \nL 163.756056 208.747003 \nL 163.910008 209.142612 \nL 164.012643 208.322853 \nL 164.063961 208.798275 \nL 164.115278 208.411407 \nL 164.26923 208.682332 \nL 164.320548 208.558231 \nL 164.423183 207.826449 \nL 164.4745 208.382275 \nL 164.628452 208.314112 \nL 164.731087 207.749538 \nL 164.833722 208.834398 \nL 164.987674 209.026086 \nL 165.141626 208.170779 \nL 165.192944 208.603095 \nL 165.346896 208.40034 \nL 165.500848 209.265546 \nL 165.706118 209.107656 \nL 165.911388 210.076572 \nL 166.06534 209.65824 \nL 166.116657 209.883718 \nL 166.219292 209.115813 \nL 166.27061 209.32381 \nL 166.527197 208.255265 \nL 166.578514 208.528516 \nL 166.629832 207.956958 \nL 166.783784 208.010556 \nL 166.886419 208.791283 \nL 166.937736 208.758077 \nL 166.989054 208.164955 \nL 167.143006 208.566389 \nL 167.245641 209.779432 \nL 167.296958 209.521906 \nL 167.604863 209.389647 \nL 167.707498 208.695148 \nL 167.86145 208.818089 \nL 168.015402 210.869533 \nL 168.06672 210.61259 \nL 168.374624 211.72309 \nL 168.425942 211.15619 \nL 168.579894 210.95052 \nL 168.631211 211.647345 \nL 168.682529 210.620748 \nL 168.733846 211.667152 \nL 168.785163 211.562866 \nL 168.939116 210.409836 \nL 168.990433 210.575301 \nL 169.093068 211.603064 \nL 169.144385 210.466349 \nL 169.298338 209.965288 \nL 169.349655 210.212906 \nL 169.503607 209.200292 \nL 169.65756 209.044727 \nL 169.708877 209.290603 \nL 169.760195 209.170577 \nL 169.862829 208.350818 \nL 170.016782 208.406748 \nL 170.068099 208.683498 \nL 170.119416 208.555322 \nL 170.222051 207.561349 \nL 170.427321 206.806261 \nL 170.581273 206.397252 \nL 170.83786 207.490853 \nL 170.940495 206.581949 \nL 171.197082 207.031156 \nL 171.2484 207.1203 \nL 171.299717 206.914629 \nL 171.453669 206.852867 \nL 171.556304 206.135651 \nL 171.607622 206.240528 \nL 171.864209 206.900064 \nL 172.018161 206.373362 \nL 172.377383 207.560183 \nL 172.890557 205.121288 \nL 172.941875 205.148094 \nL 172.993192 204.886485 \nL 173.04451 205.359582 \nL 173.095827 205.269278 \nL 173.301097 205.541946 \nL 173.352414 205.833262 \nL 173.403732 205.419012 \nL 173.455049 206.791112 \nL 173.660319 206.478239 \nL 173.711636 206.605249 \nL 173.814271 205.495923 \nL 173.968223 205.410278 \nL 174.173493 206.643121 \nL 174.327445 206.585441 \nL 174.378763 207.182055 \nL 174.43008 206.548735 \nL 174.481397 206.657687 \nL 174.532715 206.470664 \nL 174.686667 206.711292 \nL 174.840619 205.166151 \nL 174.891937 205.290835 \nL 175.097207 205.536121 \nL 175.148524 204.974463 \nL 175.199841 205.258788 \nL 175.405111 204.889985 \nL 175.456428 205.674204 \nL 175.507746 205.057783 \nL 175.918285 206.165366 \nL 175.969603 205.629924 \nL 176.123555 205.472033 \nL 176.277507 204.236857 \nL 176.328825 204.124989 \nL 176.482777 204.251423 \nL 176.534094 204.708787 \nL 176.585412 204.253748 \nL 176.636729 204.450095 \nL 176.688047 204.375523 \nL 176.841999 204.453594 \nL 176.893316 204.94184 \nL 176.944634 204.379016 \nL 177.047269 204.846287 \nL 177.201221 204.67499 \nL 177.303856 203.873871 \nL 177.355173 204.020696 \nL 177.406491 204.809581 \nL 177.560443 204.744327 \nL 177.61176 205.329874 \nL 177.663078 205.239564 \nL 177.714395 205.1813 \nL 177.919665 205.40212 \nL 178.073617 203.879703 \nL 178.124934 203.890187 \nL 178.278887 204.074884 \nL 178.330204 204.44602 \nL 178.381522 204.232191 \nL 178.484156 203.929226 \nL 178.638109 204.245015 \nL 178.843378 203.046537 \nL 179.099966 203.216085 \nL 179.2026 205.057783 \nL 179.356553 204.867844 \nL 179.40787 205.008844 \nL 179.510505 206.772464 \nL 179.561822 206.468332 \nL 179.767092 207.077186 \nL 179.818409 206.961243 \nL 179.921044 205.703336 \nL 180.126314 206.885498 \nL 180.280266 205.233739 \nL 180.536853 207.102235 \nL 180.588171 206.998525 \nL 180.844758 208.993462 \nL 180.896075 208.623485 \nL 180.947393 207.101652 \nL 180.99871 207.370827 \nL 181.20398 208.036195 \nL 181.255297 207.332379 \nL 181.306615 207.716914 \nL 181.357932 207.781002 \nL 181.511884 207.427924 \nL 181.563202 208.0898 \nL 181.614519 207.693608 \nL 181.665837 206.128077 \nL 181.717154 206.283642 \nL 181.871106 205.701594 \nL 182.076376 206.558642 \nL 182.230328 206.450274 \nL 182.281646 206.153709 \nL 182.435598 208.264589 \nL 182.58955 208.364217 \nL 182.640868 208.226134 \nL 182.692185 206.88899 \nL 182.743503 207.511244 \nL 182.79482 208.026288 \nL 183.00009 206.360546 \nL 183.051407 206.388511 \nL 183.102725 206.691484 \nL 183.154042 205.797139 \nL 183.307994 205.907257 \nL 183.359312 206.241687 \nL 183.410629 205.86356 \nL 183.461946 205.696928 \nL 183.513264 205.749949 \nL 183.718534 206.209063 \nL 183.769851 206.53126 \nL 183.821168 206.189832 \nL 183.872486 206.48523 \nL 184.026438 206.399585 \nL 184.231708 204.413389 \nL 184.488295 204.955822 \nL 184.539612 204.77695 \nL 184.59093 204.833471 \nL 184.950152 203.905919 \nL 185.155421 203.77541 \nL 185.258056 204.89581 \nL 185.309374 204.610319 \nL 185.463326 204.574196 \nL 185.565961 203.494585 \nL 185.617278 203.598871 \nL 185.668596 203.401941 \nL 185.822548 203.31338 \nL 185.873865 203.519634 \nL 185.925183 203.080327 \nL 185.9765 203.49691 \nL 186.027818 203.686266 \nL 186.335722 202.282125 \nL 186.38704 202.458664 \nL 186.540992 202.722598 \nL 186.592309 202.560041 \nL 186.694944 201.446633 \nL 186.746262 201.658129 \nL 186.900214 201.595783 \nL 187.002849 201.637155 \nL 187.259436 200.52374 \nL 187.310753 200.815639 \nL 187.362071 200.713678 \nL 187.464705 200.550546 \nL 187.77261 199.357317 \nL 187.823927 200.041326 \nL 188.029197 200.00637 \nL 188.183149 200.801073 \nL 188.439737 199.553081 \nL 188.491054 199.983646 \nL 188.542371 199.833906 \nL 188.696324 199.628818 \nL 188.901593 198.651168 \nL 189.055546 198.691949 \nL 189.15818 198.36626 \nL 189.260815 198.665734 \nL 189.414768 199.772151 \nL 189.466085 199.494817 \nL 189.56872 198.684375 \nL 189.620037 198.912769 \nL 189.825307 197.861116 \nL 189.876624 197.969485 \nL 189.927942 198.29634 \nL 189.979259 198.147774 \nL 190.235846 197.951427 \nL 190.338481 197.142734 \nL 190.492433 197.411326 \nL 190.543751 197.232454 \nL 190.595068 197.350147 \nL 190.697703 198.094169 \nL 190.902973 197.736432 \nL 190.95429 197.1573 \nL 191.005608 197.280234 \nL 191.056925 197.654862 \nL 191.313512 197.753914 \nL 191.36483 197.652537 \nL 191.416147 198.155348 \nL 191.672734 197.855875 \nL 191.775369 196.930655 \nL 192.031956 196.937063 \nL 192.083274 197.184682 \nL 192.134591 196.944055 \nL 192.288543 197.383944 \nL 192.391178 196.38298 \nL 192.493813 197.428801 \nL 192.647765 197.519695 \nL 192.853035 195.901726 \nL 193.058305 195.924449 \nL 193.109622 195.806757 \nL 193.160939 195.906384 \nL 193.212257 196.503582 \nL 193.366209 196.77684 \nL 193.520161 195.411148 \nL 193.571479 195.485143 \nL 193.776749 195.243933 \nL 194.084653 195.844629 \nL 194.13597 198.777011 \nL 194.238605 198.536384 \nL 194.289923 199.468595 \nL 194.443875 200.228932 \nL 194.597827 198.610963 \nL 194.803097 198.336546 \nL 194.854414 200.005787 \nL 194.905732 199.468595 \nL 195.213636 198.083685 \nL 195.367589 196.617199 \nL 195.521541 196.536213 \nL 195.624176 197.717208 \nL 195.726811 197.505712 \nL 195.880763 197.290718 \nL 196.034715 196.171485 \nL 196.239985 196.121962 \nL 196.291302 195.901726 \nL 196.34262 196.456392 \nL 196.393937 195.936099 \nL 196.701842 194.497002 \nL 196.753159 194.600129 \nL 196.804476 193.806585 \nL 197.009746 194.036138 \nL 197.061064 193.161608 \nL 197.163698 193.240269 \nL 197.317651 193.921945 \nL 197.368968 193.692967 \nL 197.52292 192.567326 \nL 197.779508 192.161817 \nL 197.830825 193.391752 \nL 197.882142 192.553927 \nL 198.087412 192.825435 \nL 198.241364 191.569278 \nL 198.446634 191.489458 \nL 198.497951 191.59666 \nL 198.549269 192.457208 \nL 198.600586 191.978287 \nL 198.805856 191.83962 \nL 198.959808 190.777484 \nL 199.113761 190.612011 \nL 199.216395 191.882151 \nL 199.267713 193.435449 \nL 199.31903 192.447884 \nL 199.472982 192.363405 \nL 199.5243 193.302607 \nL 199.678252 190.977322 \nL 199.832204 191.085691 \nL 199.883522 190.931299 \nL 200.037474 192.745608 \nL 200.242744 193.309015 \nL 200.294061 192.525379 \nL 200.345379 192.562085 \nL 200.396696 192.699585 \nL 200.755918 191.121238 \nL 200.90987 191.039085 \nL 200.961188 192.305142 \nL 201.012505 191.801748 \nL 201.11514 189.835949 \nL 201.371727 190.204752 \nL 201.423045 189.802159 \nL 201.474362 190.907993 \nL 201.628314 190.472769 \nL 201.833584 195.286471 \nL 201.987536 194.414849 \nL 202.038854 195.500875 \nL 202.090171 194.886779 \nL 202.141488 194.514484 \nL 202.192806 196.794898 \nL 202.449393 193.041006 \nL 202.50071 195.627892 \nL 202.552028 195.595844 \nL 202.70598 195.637792 \nL 202.808615 198.330721 \nL 202.859932 198.064454 \nL 202.91125 196.044475 \nL 203.11652 195.975721 \nL 203.270472 194.096734 \nL 203.424424 194.829682 \nL 203.475741 196.835686 \nL 203.527059 195.006221 \nL 203.578376 195.362792 \nL 203.629694 194.41019 \nL 203.834963 193.511187 \nL 203.988916 195.601086 \nL 204.142868 195.708879 \nL 204.29682 193.829892 \nL 204.348138 193.81241 \nL 204.50209 194.255208 \nL 204.604725 191.203384 \nL 204.656042 191.802331 \nL 204.70736 191.394489 \nL 204.912629 191.892058 \nL 205.015264 191.066467 \nL 205.066582 191.336226 \nL 205.220534 190.154064 \nL 205.271851 190.177954 \nL 205.323169 190.588129 \nL 205.374486 190.398773 \nL 205.425804 189.539392 \nL 205.579756 189.831291 \nL 205.631073 189.098919 \nL 205.682391 189.255067 \nL 205.733708 189.724665 \nL 205.785026 189.294099 \nL 205.990295 190.649884 \nL 206.09293 190.55958 \nL 206.144247 192.858059 \nL 206.2982 192.525962 \nL 206.349517 191.753392 \nL 206.400835 191.969546 \nL 206.452152 192.055774 \nL 206.503469 190.839239 \nL 206.657422 190.507142 \nL 206.708739 191.087441 \nL 206.760057 190.01773 \nL 206.811374 192.403027 \nL 206.862691 192.332524 \nL 207.016644 192.768331 \nL 207.067961 191.71377 \nL 207.221913 195.592352 \nL 207.375866 196.438327 \nL 207.427183 193.998849 \nL 207.4785 194.60887 \nL 207.529818 195.740919 \nL 207.581135 195.298704 \nL 207.837722 197.744007 \nL 207.940357 196.349773 \nL 208.09431 198.300423 \nL 208.299579 193.993607 \nL 208.453532 194.50166 \nL 208.504849 195.062735 \nL 208.607484 192.467115 \nL 208.658801 192.623257 \nL 208.812753 191.964887 \nL 208.864071 194.196945 \nL 208.915388 193.676076 \nL 208.966706 193.570033 \nL 209.171975 196.046801 \nL 209.531197 193.101602 \nL 209.633832 193.031099 \nL 209.68515 194.277349 \nL 209.736467 194.148006 \nL 209.890419 194.738212 \nL 210.300959 199.292646 \nL 210.403594 197.536594 \nL 210.454911 198.661651 \nL 210.608863 197.774305 \nL 210.814133 203.079751 \nL 211.019403 203.935634 \nL 211.122038 201.513637 \nL 211.173355 202.763962 \nL 211.532577 198.987924 \nL 211.686529 199.838572 \nL 211.789164 203.006339 \nL 211.840481 202.396902 \nL 211.891799 202.72434 \nL 212.045751 202.267559 \nL 212.148386 200.631532 \nL 212.199703 201.70066 \nL 212.251021 201.634822 \nL 212.456291 201.705318 \nL 212.507608 201.049858 \nL 212.558925 202.069463 \nL 212.610243 201.453041 \nL 212.815512 199.811182 \nL 212.86683 199.885178 \nL 213.174734 202.988857 \nL 213.226052 202.583931 \nL 213.328687 204.933682 \nL 213.482639 206.098945 \nL 213.533956 203.344261 \nL 213.636591 203.645484 \nL 213.687909 205.238397 \nL 213.841861 205.910756 \nL 213.893178 202.756388 \nL 213.995813 202.828051 \nL 214.2524 201.460033 \nL 214.406353 203.660633 \nL 214.560305 203.224826 \nL 214.611622 200.458485 \nL 214.714257 200.509174 \nL 214.919527 200.320985 \nL 215.278749 202.897387 \nL 215.330066 202.541393 \nL 215.484018 199.284488 \nL 215.637971 199.410332 \nL 215.689288 200.122896 \nL 215.740606 199.890419 \nL 215.84324 198.846931 \nL 215.997193 198.932577 \nL 216.099828 199.560655 \nL 216.202462 197.911222 \nL 216.356415 198.284691 \nL 216.407732 197.657195 \nL 216.561684 199.403924 \nL 216.920906 197.244111 \nL 217.074859 197.169533 \nL 217.280128 200.123472 \nL 217.536715 199.254774 \nL 217.63935 198.698941 \nL 217.895937 200.049484 \nL 217.947255 198.485112 \nL 217.998572 201.011985 \nL 218.152524 200.949064 \nL 218.203842 201.142501 \nL 218.255159 202.479638 \nL 218.306477 202.224445 \nL 218.357794 201.049858 \nL 218.511746 201.04345 \nL 218.717016 203.502735 \nL 218.870968 203.49866 \nL 218.922286 203.714814 \nL 218.973603 203.267357 \nL 219.076238 205.807046 \nL 219.23019 205.71266 \nL 219.281508 205.426586 \nL 219.332825 206.789362 \nL 219.384143 206.708959 \nL 219.589412 207.325964 \nL 219.64073 206.079721 \nL 219.794682 208.072901 \nL 219.948634 208.724863 \nL 219.999952 209.505007 \nL 220.153904 206.838301 \nL 220.307856 206.877923 \nL 220.410491 205.585067 \nL 220.461809 207.312564 \nL 220.513126 207.008432 \nL 220.667078 208.371208 \nL 220.769713 205.464459 \nL 220.82103 206.447941 \nL 221.0263 207.518235 \nL 221.128935 205.177225 \nL 221.180252 206.524269 \nL 221.23157 204.761809 \nL 221.385522 204.23744 \nL 221.488157 205.372988 \nL 221.590792 204.652273 \nL 221.796062 206.488146 \nL 221.847379 206.030775 \nL 221.898696 205.845502 \nL 221.950014 205.001852 \nL 222.103966 206.479405 \nL 222.155283 206.207314 \nL 222.257918 204.507775 \nL 222.309236 205.547778 \nL 222.565823 206.005142 \nL 222.61714 208.227883 \nL 222.668458 207.908595 \nL 222.82241 206.424051 \nL 222.873727 208.945682 \nL 222.925045 208.506959 \nL 223.02768 207.36151 \nL 223.284267 212.914568 \nL 223.386902 207.164581 \nL 223.643489 211.196972 \nL 223.746124 209.60056 \nL 223.900076 215.825977 \nL 223.951393 212.333686 \nL 224.002711 212.642477 \nL 224.105346 216.244893 \nL 224.259298 218.711753 \nL 224.464568 227.898108 \nL 224.61852 221.831165 \nL 224.669837 222.142288 \nL 224.721155 227.395876 \nL 224.772472 225.147503 \nL 224.823789 225.49009 \nL 224.977742 222.876985 \nL 225.183011 229.206113 \nL 225.336964 230.828744 \nL 225.490916 224.701205 \nL 225.542233 223.847069 \nL 225.696186 223.989814 \nL 225.747503 221.691332 \nL 225.850138 227.568336 \nL 225.901455 226.047086 \nL 226.055408 226.733424 \nL 226.158042 230.631814 \nL 226.20936 227.194871 \nL 226.260677 229.408871 \nL 226.41463 230.722121 \nL 226.465947 230.234459 \nL 226.568582 236.449972 \nL 226.619899 233.677227 \nL 226.979121 228.071731 \nL 227.133074 232.73453 \nL 227.338343 229.246898 \nL 227.492295 227.287507 \nL 227.646248 229.391389 \nL 227.697565 229.033656 \nL 227.851517 229.683871 \nL 227.902835 227.084753 \nL 227.954152 227.595139 \nL 228.00547 228.710293 \nL 228.056787 228.55881 \nL 228.262057 229.999077 \nL 228.313374 229.708341 \nL 228.416009 229.437419 \nL 228.569961 229.634349 \nL 228.775231 225.999893 \nL 228.929183 226.253336 \nL 228.980501 225.830928 \nL 229.134453 228.414902 \nL 229.698945 233.374845 \nL 229.750262 231.334468 \nL 229.80158 232.07674 \nL 230.058167 231.015766 \nL 230.109484 229.362258 \nL 230.160801 231.048977 \nL 230.212119 232.171126 \nL 230.366071 232.196762 \nL 230.571341 229.682125 \nL 230.725293 229.606964 \nL 230.776611 232.096551 \nL 230.827928 231.713178 \nL 230.879245 231.628696 \nL 231.443737 236.980749 \nL 231.495054 235.243924 \nL 231.546372 235.724012 \nL 231.854276 239.719117 \nL 231.905594 238.755446 \nL 231.956911 240.521985 \nL 232.008229 240.473626 \nL 232.162181 240.872727 \nL 232.367451 236.210512 \nL 232.521403 236.36549 \nL 232.624038 234.008165 \nL 232.675355 234.608858 \nL 232.726673 235.511937 \nL 232.880625 232.343586 \nL 232.931942 233.322406 \nL 233.034577 231.76445 \nL 233.085895 232.750262 \nL 233.239847 234.405517 \nL 233.291164 233.803077 \nL 233.445117 231.202792 \nL 233.599069 231.611801 \nL 233.650386 232.772985 \nL 233.701704 232.213077 \nL 233.753021 230.383613 \nL 233.958291 230.257182 \nL 234.009608 231.261056 \nL 234.060926 230.645797 \nL 234.16356 229.623862 \nL 234.317513 231.791832 \nL 234.522782 229.820209 \nL 234.728052 230.465182 \nL 234.882004 229.162415 \nL 235.138592 226.71478 \nL 235.189909 227.422095 \nL 235.241226 226.14963 \nL 235.600448 228.850126 \nL 235.754401 227.286924 \nL 235.805718 227.378981 \nL 235.857035 227.650489 \nL 235.95967 228.610082 \nL 236.16494 227.250801 \nL 236.216257 228.257007 \nL 236.267575 227.454722 \nL 236.524162 225.245968 \nL 236.575479 226.002222 \nL 236.626797 225.378806 \nL 236.678114 225.516889 \nL 236.832066 225.57224 \nL 237.037336 225.160319 \nL 237.293923 227.228661 \nL 237.396558 226.615735 \nL 237.55051 228.258174 \nL 237.601828 228.138152 \nL 237.653145 227.797893 \nL 237.704463 226.672249 \nL 237.75578 226.751486 \nL 237.909732 226.266156 \nL 238.063685 228.061244 \nL 238.268954 227.927239 \nL 238.371589 229.04356 \nL 238.422907 228.861779 \nL 238.474224 229.068613 \nL 238.679494 227.512402 \nL 238.782129 225.47902 \nL 238.833446 225.499994 \nL 239.038716 224.672656 \nL 239.090033 224.702371 \nL 239.192668 223.234722 \nL 239.34662 223.064595 \nL 239.449255 223.474183 \nL 239.55189 222.755801 \nL 239.75716 221.697157 \nL 239.808477 221.867871 \nL 239.859794 222.196472 \nL 239.911112 221.415748 \nL 240.065064 221.612678 \nL 240.116382 222.355533 \nL 240.167699 221.687836 \nL 240.219016 221.284656 \nL 240.424286 223.20734 \nL 240.629556 220.503928 \nL 240.783508 220.536559 \nL 240.93746 220.221353 \nL 241.14273 220.824959 \nL 241.245365 222.332226 \nL 241.348 221.070828 \nL 241.553269 220.547042 \nL 241.655904 219.454608 \nL 241.707222 219.536761 \nL 241.912491 218.959954 \nL 241.963809 218.020169 \nL 242.066444 218.046968 \nL 242.220396 218.259047 \nL 242.271713 217.851205 \nL 242.425666 219.440625 \nL 242.579618 218.356932 \nL 242.630935 218.495016 \nL 242.682253 218.700686 \nL 242.784888 220.557533 \nL 243.452014 216.400451 \nL 243.503331 216.917828 \nL 243.657284 216.321797 \nL 243.759919 217.283722 \nL 243.811236 216.613113 \nL 243.862553 217.388599 \nL 244.067823 218.331876 \nL 244.170458 218.174568 \nL 244.221775 219.917804 \nL 244.478363 219.317108 \nL 244.580997 217.988705 \nL 244.837584 216.28684 \nL 244.888902 216.943467 \nL 244.940219 216.579906 \nL 245.145489 215.598756 \nL 245.196806 215.629047 \nL 245.299441 216.702257 \nL 245.556028 215.580691 \nL 245.658663 216.695849 \nL 245.812616 216.454639 \nL 245.91525 215.661678 \nL 245.966568 216.204687 \nL 246.017885 215.851616 \nL 246.171837 216.010674 \nL 246.223155 216.669633 \nL 246.274472 216.435997 \nL 246.531059 215.377937 \nL 246.685012 216.428423 \nL 246.736329 216.056121 \nL 247.044234 214.657222 \nL 247.352138 214.660714 \nL 247.403456 215.320257 \nL 247.813995 213.579353 \nL 247.967947 213.462827 \nL 248.019265 214.089739 \nL 248.070582 213.538565 \nL 248.1219 213.376598 \nL 248.173217 214.100806 \nL 248.378487 213.273471 \nL 248.532439 216.680117 \nL 248.686391 216.387635 \nL 248.789026 216.345687 \nL 248.891661 217.722445 \nL 249.096931 216.006598 \nL 249.148248 216.358503 \nL 249.199565 218.349358 \nL 249.250883 218.16991 \nL 249.404835 218.720494 \nL 249.558787 217.454436 \nL 249.610105 217.626893 \nL 249.969327 215.665753 \nL 250.123279 215.73334 \nL 250.174596 216.514651 \nL 250.225914 215.89473 \nL 250.277231 216.028739 \nL 250.328549 215.938428 \nL 250.995675 213.272888 \nL 251.046993 213.287454 \nL 251.200945 213.257156 \nL 251.30358 212.342427 \nL 251.354897 212.364568 \nL 251.406215 212.710064 \nL 251.560167 212.365727 \nL 251.611484 211.878648 \nL 251.662802 212.254449 \nL 251.714119 212.370393 \nL 251.765437 212.320287 \nL 251.970706 211.931086 \nL 252.022024 212.154815 \nL 252.073341 211.649678 \nL 252.329928 210.988975 \nL 252.381246 211.396234 \nL 252.432563 211.163765 \nL 252.483881 210.701735 \nL 252.68915 210.531021 \nL 252.791785 209.693779 \nL 252.843102 210.832244 \nL 252.997055 210.518204 \nL 253.202324 209.366924 \nL 253.356277 209.671639 \nL 253.407594 211.322822 \nL 253.458912 210.877107 \nL 253.510229 209.978687 \nL 253.561546 211.149199 \nL 253.715499 210.242038 \nL 253.920768 215.566125 \nL 254.177355 212.024306 \nL 254.27999 214.121196 \nL 254.433943 214.047791 \nL 254.587895 217.855287 \nL 254.639212 216.917252 \nL 254.895799 218.067366 \nL 254.947117 216.02174 \nL 254.998434 216.817034 \nL 255.203704 217.906559 \nL 255.306339 216.035147 \nL 255.357656 218.246231 \nL 255.511608 219.085805 \nL 255.716878 216.689441 \nL 255.87083 216.804218 \nL 256.024783 215.265485 \nL 256.0761 215.17984 \nL 256.230052 215.430958 \nL 256.384005 217.732936 \nL 256.435322 217.554064 \nL 256.589274 217.681664 \nL 256.743227 220.431682 \nL 256.794544 220.710762 \nL 256.999814 220.391477 \nL 257.153766 217.484151 \nL 257.307718 217.438121 \nL 257.461671 216.405116 \nL 257.512988 218.246231 \nL 257.66694 217.875095 \nL 257.769575 217.971814 \nL 257.87221 216.045047 \nL 258.026162 215.325498 \nL 258.07748 215.393669 \nL 258.231432 216.106809 \nL 258.488019 214.612941 \nL 258.590654 214.939213 \nL 258.744606 214.580893 \nL 258.795924 214.973003 \nL 258.949876 217.408989 \nL 259.103828 217.401415 \nL 259.206463 216.540284 \nL 259.309098 217.849462 \nL 259.46305 218.101739 \nL 259.617002 219.27516 \nL 259.66832 218.263129 \nL 259.822272 219.176108 \nL 259.873589 219.152226 \nL 260.027542 215.937261 \nL 260.232811 216.675458 \nL 260.540716 214.924064 \nL 260.592033 214.970678 \nL 260.899938 213.711612 \nL 261.002573 214.202766 \nL 261.05389 214.753357 \nL 261.105208 213.364358 \nL 261.25916 213.743652 \nL 261.310477 213.420879 \nL 261.361795 213.593919 \nL 261.413112 213.79959 \nL 261.46443 213.505941 \nL 261.618382 214.042542 \nL 261.669699 212.660542 \nL 261.772334 212.817266 \nL 261.823652 212.404183 \nL 261.977604 212.394282 \nL 262.080239 211.649678 \nL 262.182873 211.760962 \nL 262.336826 211.264559 \nL 262.388143 212.360485 \nL 262.439461 211.645595 \nL 262.696048 211.211537 \nL 262.747365 211.210371 \nL 262.798683 211.396234 \nL 262.85 211.31874 \nL 262.901317 211.349038 \nL 263.05527 211.283783 \nL 263.260539 208.867612 \nL 263.414492 209.019094 \nL 263.619761 210.419743 \nL 263.773714 210.504805 \nL 263.825031 211.635695 \nL 263.876348 211.621129 \nL 263.978983 210.389445 \nL 264.132936 210.499563 \nL 264.184253 211.496445 \nL 264.23557 210.469849 \nL 264.338205 210.991301 \nL 264.492158 211.086853 \nL 264.543475 211.506929 \nL 264.697427 208.934033 \nL 264.902697 208.989963 \nL 265.056649 208.01988 \nL 265.261919 207.95055 \nL 265.313236 208.321103 \nL 265.415871 207.815376 \nL 265.569823 207.630686 \nL 265.672458 206.945511 \nL 265.723776 207.066112 \nL 266.134315 207.015424 \nL 266.390902 205.913082 \nL 266.493537 206.207897 \nL 266.647489 206.309858 \nL 266.852759 204.941256 \nL 267.058029 204.837546 \nL 267.160664 205.697511 \nL 267.211981 205.51748 \nL 267.519886 204.574196 \nL 267.571203 205.925905 \nL 267.725155 205.35609 \nL 267.776473 204.105182 \nL 267.879107 204.13373 \nL 268.135695 203.115874 \nL 268.187012 203.330862 \nL 268.238329 203.273182 \nL 268.289647 202.849024 \nL 268.443599 202.664335 \nL 268.494917 202.915445 \nL 268.648869 202.041498 \nL 268.956773 204.191993 \nL 269.008091 203.389125 \nL 269.162043 202.961475 \nL 269.21336 204.178594 \nL 269.264678 204.055659 \nL 269.315995 202.742989 \nL 269.367313 203.31513 \nL 269.521265 203.957191 \nL 269.572582 203.276098 \nL 269.6239 203.380967 \nL 269.675217 204.832305 \nL 269.726535 204.298029 \nL 269.880487 204.757726 \nL 269.983122 207.059704 \nL 270.034439 206.078554 \nL 270.444979 203.743363 \nL 270.598931 203.953699 \nL 270.804201 202.659086 \nL 271.00947 202.64627 \nL 271.060788 202.476722 \nL 271.112105 202.594998 \nL 271.163423 202.906121 \nL 271.317375 203.122282 \nL 271.368692 203.722389 \nL 271.471327 203.701415 \nL 271.522645 203.400775 \nL 271.676597 204.247923 \nL 271.830549 202.36952 \nL 272.035819 202.493621 \nL 272.241088 200.841278 \nL 272.395041 200.980528 \nL 272.497676 201.790387 \nL 272.548993 202.502361 \nL 272.60031 202.205221 \nL 272.754263 201.850393 \nL 272.80558 201.217073 \nL 272.959532 202.346796 \nL 273.164802 202.858932 \nL 273.267437 202.007125 \nL 273.472707 203.535366 \nL 273.524024 203.598871 \nL 273.883246 201.913905 \nL 274.037198 204.538073 \nL 274.293785 205.738293 \nL 274.345103 205.188292 \nL 274.39642 206.238195 \nL 274.550372 206.188673 \nL 274.60169 205.254129 \nL 274.653007 206.562134 \nL 274.704325 206.432792 \nL 274.909594 205.808213 \nL 274.960912 204.808415 \nL 275.012229 205.29666 \nL 275.063547 205.508739 \nL 275.114864 206.385602 \nL 275.268816 205.706835 \nL 275.474086 202.236095 \nL 275.730673 202.262318 \nL 275.781991 201.446633 \nL 275.833308 201.995468 \nL 276.141213 204.030603 \nL 276.19253 203.607029 \nL 276.346482 204.230449 \nL 276.551752 201.924388 \nL 276.757022 202.686475 \nL 276.910974 204.997187 \nL 277.064926 205.308317 \nL 277.424148 215.06623 \nL 277.5781 211.967792 \nL 277.78337 210.112112 \nL 277.834688 210.795538 \nL 277.886005 210.7297 \nL 277.98864 214.829095 \nL 278.142592 214.812204 \nL 278.245227 211.678809 \nL 278.296544 212.74677 \nL 278.553131 209.62095 \nL 278.604449 209.273121 \nL 278.707084 211.890305 \nL 278.912353 212.398941 \nL 278.963671 210.454116 \nL 279.014988 211.195222 \nL 279.066306 213.040419 \nL 279.220258 212.571981 \nL 279.425528 209.440919 \nL 279.630797 210.251945 \nL 279.733432 214.477766 \nL 279.78475 214.077499 \nL 279.990019 211.808152 \nL 280.143972 214.369398 \nL 280.297924 216.244893 \nL 280.451876 212.414673 \nL 280.503194 212.968756 \nL 280.759781 209.951305 \nL 280.811098 210.160468 \nL 280.862416 208.941607 \nL 281.016368 210.323607 \nL 281.067685 208.894994 \nL 281.119003 209.798073 \nL 281.17032 209.477042 \nL 281.221637 208.145147 \nL 281.37559 207.216436 \nL 281.426907 208.681165 \nL 281.478225 207.92666 \nL 281.580859 205.416103 \nL 281.734812 207.268284 \nL 281.786129 209.308661 \nL 281.837447 208.165538 \nL 281.888764 206.810919 \nL 281.940081 207.272366 \nL 282.094034 206.812669 \nL 282.145351 205.950371 \nL 282.196669 208.678256 \nL 282.247986 208.060668 \nL 282.299303 206.653612 \nL 282.453256 207.356845 \nL 282.504573 207.005516 \nL 282.658525 209.461893 \nL 283.017747 212.781727 \nL 283.223017 210.653962 \nL 283.274334 207.637677 \nL 283.376969 207.793818 \nL 283.633556 206.819077 \nL 283.684874 208.372375 \nL 283.736191 207.158173 \nL 284.249365 210.062006 \nL 284.403318 207.227502 \nL 284.454635 206.567383 \nL 284.659905 206.561551 \nL 284.711222 207.481529 \nL 284.76254 206.701967 \nL 284.813857 207.017756 \nL 285.121762 205.650898 \nL 285.173079 205.840253 \nL 285.327031 205.671879 \nL 285.480984 204.809581 \nL 285.532301 205.18305 \nL 285.737571 204.9162 \nL 285.891523 203.651309 \nL 286.096793 203.69384 \nL 286.14811 203.029056 \nL 286.199428 203.473604 \nL 286.456015 203.824349 \nL 286.609967 201.93138 \nL 286.763919 201.964594 \nL 286.917871 201.520629 \nL 286.969189 202.063055 \nL 287.123141 201.531112 \nL 287.174459 201.605107 \nL 287.225776 202.028682 \nL 287.328411 200.979945 \nL 287.533681 200.922848 \nL 287.584998 201.187941 \nL 287.687633 200.717177 \nL 287.841585 200.609392 \nL 287.892902 200.341959 \nL 287.94422 200.72067 \nL 287.995537 200.230681 \nL 288.046855 200.490533 \nL 288.200807 200.79933 \nL 288.252124 202.021107 \nL 288.303442 201.481007 \nL 288.406077 200.418287 \nL 288.560029 200.405471 \nL 288.713981 198.569598 \nL 288.919251 198.153015 \nL 289.073203 199.141739 \nL 289.124521 198.889462 \nL 289.278473 197.759156 \nL 289.32979 197.991625 \nL 289.432425 198.529976 \nL 289.637695 197.611748 \nL 289.996917 199.758168 \nL 290.048234 201.13376 \nL 290.099552 200.544138 \nL 290.150869 199.445295 \nL 290.202187 200.453827 \nL 290.356139 200.494032 \nL 290.407456 199.258266 \nL 290.458774 199.586871 \nL 290.510091 200.065792 \nL 290.561408 199.971989 \nL 290.715361 200.647264 \nL 290.766678 200.354199 \nL 290.92063 198.525318 \nL 291.074583 198.842849 \nL 291.1259 198.381993 \nL 291.177218 198.58649 \nL 291.279852 200.521414 \nL 291.433805 200.493449 \nL 291.998296 204.825897 \nL 292.254883 203.448555 \nL 292.306201 203.342512 \nL 292.357518 203.509151 \nL 292.562788 202.658503 \nL 292.71674 205.826854 \nL 292.870693 205.818696 \nL 292.92201 205.392213 \nL 293.075962 203.052362 \nL 293.229914 204.027104 \nL 293.435184 202.051405 \nL 293.589136 201.938371 \nL 293.640454 201.1693 \nL 293.691771 201.302725 \nL 293.743089 203.061103 \nL 293.794406 202.50702 \nL 293.948358 203.748028 \nL 293.999676 203.382717 \nL 294.30758 200.730577 \nL 294.358898 200.234757 \nL 294.461533 200.609975 \nL 294.51285 201.361564 \nL 294.666802 201.490914 \nL 294.820755 202.522169 \nL 294.872072 201.239213 \nL 295.026024 201.42216 \nL 295.179977 200.089682 \nL 295.385246 201.603941 \nL 295.487881 202.339805 \nL 295.590516 199.538515 \nL 295.744468 199.577547 \nL 295.89842 200.760292 \nL 295.949738 199.246033 \nL 296.10369 199.057261 \nL 296.257642 198.557941 \nL 296.30896 198.379077 \nL 296.51423 198.492104 \nL 296.565547 198.398884 \nL 296.668182 197.66302 \nL 296.822134 197.66477 \nL 296.976086 198.599896 \nL 297.027404 198.072612 \nL 297.283991 198.109901 \nL 297.335308 198.751379 \nL 297.386626 198.337712 \nL 297.643213 198.520659 \nL 297.745848 196.511739 \nL 297.8998 197.026791 \nL 298.002435 196.590976 \nL 298.10507 194.889112 \nL 298.412974 195.210142 \nL 298.464292 195.216551 \nL 298.618244 195.406489 \nL 298.720879 196.779756 \nL 298.772196 195.973972 \nL 298.823514 196.351516 \nL 299.028783 196.055541 \nL 299.131418 195.143722 \nL 299.182736 195.171104 \nL 299.336688 195.465335 \nL 299.541958 197.055339 \nL 299.69591 196.38298 \nL 299.798545 195.17227 \nL 299.849862 195.380273 \nL 299.901179 196.78733 \nL 300.055132 196.750624 \nL 300.157767 198.211278 \nL 300.209084 197.96541 \nL 300.260401 198.025422 \nL 300.516989 198.012599 \nL 300.568306 197.113602 \nL 300.619623 197.893747 \nL 300.773576 197.715458 \nL 300.824893 197.066989 \nL 300.927528 200.031419 \nL 300.978845 199.895085 \nL 301.132798 199.884595 \nL 301.184115 200.205042 \nL 301.28675 201.440225 \nL 301.697289 198.187972 \nL 301.851242 198.354603 \nL 301.902559 198.782843 \nL 302.056511 197.77838 \nL 302.261781 198.310323 \nL 302.313098 198.180397 \nL 302.415733 197.668269 \nL 302.569685 197.640297 \nL 302.67232 197.061747 \nL 302.774955 197.92987 \nL 302.980225 195.994945 \nL 303.08286 196.175567 \nL 303.134177 196.964445 \nL 303.288129 197.167783 \nL 303.442082 197.666519 \nL 303.493399 198.579498 \nL 303.647351 197.195172 \nL 303.852621 194.848331 \nL 304.057891 195.39134 \nL 304.109208 195.165862 \nL 304.160526 194.519142 \nL 304.211843 194.523218 \nL 304.417113 194.506326 \nL 304.46843 194.489427 \nL 304.571065 193.711616 \nL 304.87897 193.196571 \nL 304.930287 192.722308 \nL 305.084239 192.884275 \nL 305.135557 192.437984 \nL 305.186874 192.780572 \nL 305.238191 193.004883 \nL 305.289509 192.127437 \nL 305.443461 193.144716 \nL 305.546096 192.188616 \nL 305.597413 192.347673 \nL 305.648731 191.850103 \nL 305.802683 191.903708 \nL 305.956635 191.649098 \nL 306.007953 191.741735 \nL 306.213223 191.092106 \nL 306.315857 192.753766 \nL 306.367175 191.985861 \nL 306.521127 193.602664 \nL 306.572444 193.073054 \nL 306.726397 191.834378 \nL 306.880349 191.426536 \nL 307.034301 190.316037 \nL 307.085619 189.912853 \nL 307.239571 189.619212 \nL 307.290888 189.837116 \nL 307.342206 189.718256 \nL 307.393523 189.210787 \nL 307.444841 189.358194 \nL 307.65011 190.078326 \nL 307.701428 189.474137 \nL 307.752745 190.22631 \nL 307.804063 189.580173 \nL 307.958015 189.883146 \nL 308.111967 188.86354 \nL 308.317237 189.272542 \nL 308.368554 188.801778 \nL 308.522507 189.790502 \nL 308.727776 188.897331 \nL 308.830411 187.454734 \nL 308.881729 187.718085 \nL 309.035681 189.844107 \nL 309.086998 188.550084 \nL 309.138316 189.864498 \nL 309.189633 190.470436 \nL 309.24095 189.675725 \nL 309.394903 189.253318 \nL 309.548855 187.933072 \nL 309.600172 188.103203 \nL 309.805442 187.210032 \nL 309.85676 188.076405 \nL 309.908077 187.208865 \nL 309.959394 186.228292 \nL 310.113347 186.048844 \nL 310.318616 185.104983 \nL 310.472569 185.100901 \nL 310.677838 183.137435 \nL 310.831791 183.206182 \nL 310.883108 183.038967 \nL 311.03706 184.178598 \nL 311.24233 183.56916 \nL 311.396282 185.27744 \nL 311.550235 184.71345 \nL 311.652869 186.549906 \nL 311.704187 185.754029 \nL 311.755504 184.540993 \nL 311.909456 184.5742 \nL 312.012091 186.338993 \nL 312.063409 184.950001 \nL 312.114726 185.511076 \nL 312.319996 184.049831 \nL 312.422631 187.75654 \nL 312.473948 187.509498 \nL 312.6279 188.636313 \nL 312.781853 186.299378 \nL 312.83317 186.702555 \nL 313.346344 184.711124 \nL 313.551614 182.39633 \nL 313.705566 182.261738 \nL 313.756884 182.6253 \nL 313.808201 182.354375 \nL 313.910836 181.702997 \nL 314.064788 181.502568 \nL 314.167423 182.061317 \nL 314.218741 181.810199 \nL 314.270058 181.728629 \nL 314.526645 182.07355 \nL 314.62928 180.678726 \nL 314.783232 180.826133 \nL 314.885867 181.771743 \nL 314.937184 181.388957 \nL 314.988502 181.742029 \nL 315.142454 181.855646 \nL 315.193772 181.582388 \nL 315.501676 184.384845 \nL 315.552994 184.018374 \nL 315.604311 184.574783 \nL 315.706946 183.368738 \nL 315.860898 183.760265 \nL 315.912215 185.292589 \nL 315.963533 185.031571 \nL 316.01485 184.844542 \nL 316.066168 185.147514 \nL 316.271437 184.751322 \nL 316.42539 183.854068 \nL 316.681977 181.875453 \nL 316.784612 181.941874 \nL 316.989881 180.9648 \nL 317.041199 179.755256 \nL 317.092516 179.940536 \nL 317.143834 180.664743 \nL 317.657008 182.317086 \nL 317.708325 181.533449 \nL 317.759643 181.599287 \nL 317.81096 182.485467 \nL 317.862278 181.795633 \nL 318.01623 182.633458 \nL 318.067547 183.83776 \nL 318.118865 183.782405 \nL 318.2215 181.055694 \nL 318.375452 180.651344 \nL 318.426769 181.35516 \nL 318.580721 178.649423 \nL 318.734674 178.640098 \nL 318.785991 178.056884 \nL 318.837309 178.539888 \nL 318.939943 177.759743 \nL 319.093896 177.623409 \nL 319.145213 177.050102 \nL 319.196531 177.553489 \nL 319.247848 177.947932 \nL 319.299165 177.650791 \nL 319.453118 177.284314 \nL 319.504435 177.573304 \nL 319.555753 177.135164 \nL 319.60707 178.495024 \nL 319.658387 177.128172 \nL 319.81234 177.053594 \nL 319.863657 177.298303 \nL 320.017609 175.521853 \nL 320.222879 176.12255 \nL 320.274196 176.50126 \nL 320.376831 175.138484 \nL 320.582101 175.255594 \nL 320.633418 174.994576 \nL 320.736053 175.077305 \nL 320.890006 175.363379 \nL 321.043958 176.288015 \nL 321.095275 175.11926 \nL 321.249227 174.928155 \nL 321.300545 175.263168 \nL 321.454497 176.853755 \nL 321.608449 176.200037 \nL 321.659767 176.522817 \nL 321.813719 174.348439 \nL 322.121624 172.967598 \nL 322.172941 173.003721 \nL 322.326893 173.022952 \nL 322.378211 172.598212 \nL 322.532163 173.588102 \nL 322.686115 173.856111 \nL 322.840068 173.194243 \nL 322.891385 172.947207 \nL 323.045337 174.297167 \nL 323.147972 172.597045 \nL 323.19929 172.74212 \nL 323.250607 173.161036 \nL 323.507194 172.802133 \nL 323.763781 176.490186 \nL 323.815099 175.852791 \nL 323.866416 176.91901 \nL 323.917733 175.75433 \nL 324.123003 178.801489 \nL 324.174321 178.02601 \nL 324.225638 178.233423 \nL 324.328273 175.58944 \nL 324.482225 175.425141 \nL 324.687495 173.165111 \nL 324.892765 173.04101 \nL 324.944082 173.740751 \nL 324.995399 173.098107 \nL 325.046717 173.303778 \nL 325.200669 172.641909 \nL 325.251986 172.786984 \nL 325.303304 172.784651 \nL 325.405939 171.952075 \nL 325.559891 172.751444 \nL 325.713843 170.927804 \nL 325.765161 170.868958 \nL 325.919113 170.919647 \nL 326.124383 173.019453 \nL 326.432287 171.220287 \nL 326.637557 172.069185 \nL 326.688874 171.592589 \nL 326.791509 172.55859 \nL 327.099414 170.119695 \nL 327.150731 170.243795 \nL 327.356001 172.791642 \nL 327.458636 171.210379 \nL 327.561271 174.501672 \nL 327.76654 172.911668 \nL 327.869175 171.637453 \nL 328.074445 171.227278 \nL 328.125762 170.78098 \nL 328.228397 170.835751 \nL 328.279714 171.721931 \nL 328.433667 171.370603 \nL 328.536302 170.524628 \nL 328.587619 170.540353 \nL 328.638936 170.688344 \nL 328.792889 170.483256 \nL 328.844206 171.470238 \nL 328.895524 170.859058 \nL 328.946841 171.009374 \nL 328.998158 170.843326 \nL 329.203428 169.738075 \nL 329.306063 171.287874 \nL 329.35738 170.879448 \nL 329.511333 170.45879 \nL 329.56265 171.172514 \nL 329.716602 169.55862 \nL 330.229777 168.134672 \nL 330.281094 168.177203 \nL 330.332411 167.965124 \nL 330.435046 166.708974 \nL 330.640316 166.630313 \nL 330.742951 167.835198 \nL 330.794268 167.482703 \nL 330.94822 167.388317 \nL 330.999538 167.143032 \nL 331.15349 165.926497 \nL 331.307442 165.941646 \nL 331.35876 166.67751 \nL 331.410077 166.121094 \nL 331.461395 166.255685 \nL 331.512712 166.037781 \nL 331.666664 166.080312 \nL 331.820617 164.6115 \nL 332.025886 165.065366 \nL 332.077204 165.877558 \nL 332.179839 165.821037 \nL 332.487743 164.836978 \nL 332.539061 166.203247 \nL 332.590378 165.032159 \nL 332.74433 165.299585 \nL 332.898283 164.46351 \nL 332.9496 165.025167 \nL 333.103552 164.991953 \nL 333.15487 165.513996 \nL 333.206187 165.507005 \nL 333.308822 168.124181 \nL 333.462774 167.317821 \nL 333.616726 169.031926 \nL 333.668044 167.74897 \nL 333.821996 167.438423 \nL 333.873314 167.62312 \nL 333.975948 166.374537 \nL 334.027266 166.381528 \nL 334.33517 164.207734 \nL 334.386488 164.439037 \nL 334.643075 163.756194 \nL 334.694392 163.953124 \nL 334.74571 163.566839 \nL 335.002297 163.721238 \nL 335.053614 163.900102 \nL 335.104932 163.313979 \nL 335.258884 163.673458 \nL 335.310201 164.436711 \nL 335.361519 164.014303 \nL 335.412836 163.911759 \nL 335.464154 164.605668 \nL 335.618106 164.687821 \nL 335.772058 163.101317 \nL 335.823376 163.157247 \nL 336.028645 164.767058 \nL 336.079963 163.86223 \nL 336.13128 165.744716 \nL 336.182598 164.7624 \nL 336.387867 165.377655 \nL 336.490502 166.899489 \nL 336.54182 165.633431 \nL 336.695772 165.812886 \nL 336.798407 165.575751 \nL 336.901042 169.232348 \nL 337.157629 171.774953 \nL 337.208946 171.759221 \nL 337.260263 170.360905 \nL 337.414216 169.355865 \nL 337.568168 166.628571 \nL 337.619485 165.826869 \nL 337.773438 165.998742 \nL 337.978707 162.711532 \nL 338.13266 162.725515 \nL 338.183977 163.058203 \nL 338.337929 161.903423 \nL 338.543199 161.4513 \nL 338.594516 161.534619 \nL 338.851104 161.355755 \nL 339.056373 160.063475 \nL 339.31296 159.519875 \nL 339.415595 159.826923 \nL 339.569548 160.649606 \nL 339.672182 159.43248 \nL 339.7235 159.572903 \nL 339.774817 159.371884 \nL 339.980087 160.277879 \nL 340.134039 163.627435 \nL 340.287991 164.367374 \nL 340.339309 165.35144 \nL 340.493261 159.646899 \nL 340.852483 158.591164 \nL 341.006435 158.486287 \nL 341.416975 163.611119 \nL 341.51961 160.142719 \nL 341.570927 161.15241 \nL 341.827514 163.106558 \nL 341.878832 164.190252 \nL 341.930149 162.631712 \nL 342.135419 162.449348 \nL 342.186736 161.891773 \nL 342.238054 160.083872 \nL 342.289371 160.743984 \nL 342.443323 160.436936 \nL 342.648593 164.055084 \nL 342.802545 162.5484 \nL 342.956497 160.120571 \nL 343.161767 161.039966 \nL 343.367037 158.112242 \nL 343.623624 157.955518 \nL 343.674941 158.085443 \nL 343.726259 157.336756 \nL 343.880211 157.374052 \nL 343.931528 157.034957 \nL 343.982846 157.129336 \nL 344.085481 157.674685 \nL 344.239433 156.923679 \nL 344.444703 159.611352 \nL 344.598655 159.135347 \nL 344.70129 161.418676 \nL 344.752607 159.920733 \nL 344.803925 160.651938 \nL 345.163147 157.464932 \nL 345.317099 157.679351 \nL 345.471051 160.491715 \nL 345.522369 160.207966 \nL 345.676321 158.738571 \nL 345.778956 160.285461 \nL 345.830273 159.861886 \nL 346.035543 159.066003 \nL 346.08686 159.315954 \nL 346.240813 157.816844 \nL 346.394765 158.377925 \nL 346.446082 158.179239 \nL 346.4974 157.550591 \nL 346.548717 157.646137 \nL 346.600034 159.033386 \nL 346.959256 156.906198 \nL 347.113209 157.417167 \nL 347.164526 157.076905 \nL 347.267161 158.781102 \nL 347.318478 157.453866 \nL 347.472431 157.092637 \nL 347.575066 159.093399 \nL 347.626383 158.636027 \nL 347.6777 156.998827 \nL 347.934287 158.025431 \nL 348.036922 156.612549 \nL 348.190875 156.235588 \nL 348.242192 156.315401 \nL 348.293509 156.430761 \nL 348.344827 156.141195 \nL 348.396144 156.418528 \nL 348.601414 157.692167 \nL 348.652731 156.568852 \nL 348.704049 156.725576 \nL 348.755366 157.506311 \nL 349.011953 157.117103 \nL 349.114588 158.354612 \nL 349.26854 159.14408 \nL 349.319858 159.093399 \nL 349.422493 157.420652 \nL 349.47381 158.280033 \nL 349.627762 158.844031 \nL 349.781715 156.69936 \nL 349.833032 157.354821 \nL 350.038302 156.526904 \nL 350.346206 160.404903 \nL 350.448841 159.252456 \nL 350.500159 159.289738 \nL 350.705428 159.75701 \nL 350.756746 159.024055 \nL 350.808063 161.043458 \nL 350.859381 160.773699 \nL 351.06465 157.960169 \nL 351.26992 156.384745 \nL 351.423872 156.289186 \nL 351.783094 159.822271 \nL 351.937046 157.434065 \nL 352.193634 158.326063 \nL 352.244951 157.946186 \nL 352.347586 159.243708 \nL 352.501538 157.693333 \nL 352.65549 158.904627 \nL 352.86076 157.794711 \nL 352.963395 159.124849 \nL 353.271299 171.476646 \nL 353.425252 164.411655 \nL 353.579204 165.384063 \nL 353.630521 168.782558 \nL 353.681839 166.742764 \nL 353.733156 166.610506 \nL 353.784474 168.353159 \nL 353.989743 165.545453 \nL 354.041061 167.140116 \nL 354.092378 166.542918 \nL 354.143696 166.032533 \nL 354.297648 166.499804 \nL 354.400283 164.036436 \nL 354.4516 164.334167 \nL 354.502918 166.208488 \nL 354.65687 165.687619 \nL 354.810822 167.711098 \nL 354.86214 167.763536 \nL 355.016092 170.651638 \nL 355.067409 170.51647 \nL 355.221362 166.597106 \nL 355.580584 162.895646 \nL 355.734536 162.745913 \nL 355.837171 164.098782 \nL 355.939805 161.834093 \nL 356.093758 161.802045 \nL 356.145075 161.970427 \nL 356.196393 162.659685 \nL 356.299027 159.384715 \nL 356.45298 159.616018 \nL 356.504297 159.924232 \nL 356.555615 158.499103 \nL 356.606932 158.553881 \nL 356.658249 159.139415 \nL 356.863519 157.366471 \nL 357.171424 159.184862 \nL 357.222741 159.001922 \nL 357.274058 159.393448 \nL 357.376693 162.4208 \nL 357.735915 158.567864 \nL 357.889868 158.718173 \nL 357.992502 158.585332 \nL 358.095137 158.513086 \nL 358.24909 159.07825 \nL 358.300407 157.783644 \nL 358.351724 159.130681 \nL 358.403042 160.872161 \nL 358.454359 158.42104 \nL 358.659629 160.058226 \nL 358.813581 163.04247 \nL 358.967533 162.484895 \nL 359.070168 159.505892 \nL 359.121486 161.322541 \nL 359.172803 163.439822 \nL 359.326755 162.530918 \nL 359.42939 160.017445 \nL 359.480708 160.209716 \nL 359.685977 160.471317 \nL 359.737295 159.197678 \nL 359.788612 160.071625 \nL 359.83993 161.203106 \nL 360.147834 164.330668 \nL 360.250469 168.305962 \nL 360.404421 168.21041 \nL 360.455739 167.335879 \nL 360.609691 170.73554 \nL 360.814961 170.677277 \nL 360.866278 171.959067 \nL 360.917596 171.396242 \nL 360.968913 169.187484 \nL 361.122865 170.924895 \nL 361.174183 169.378006 \nL 361.2255 170.582891 \nL 361.276817 169.97637 \nL 361.328135 167.244992 \nL 361.482087 167.295098 \nL 361.533405 169.412962 \nL 361.584722 168.859462 \nL 361.636039 168.689338 \nL 361.687357 170.751848 \nL 361.995261 173.721527 \nL 362.046579 171.641528 \nL 362.251849 169.847027 \nL 362.303166 168.026886 \nL 362.354483 168.550672 \nL 362.405801 168.553581 \nL 362.559753 166.938528 \nL 362.61107 168.350243 \nL 362.662388 167.853256 \nL 362.713705 166.577299 \nL 362.765023 166.789954 \nL 362.918975 167.711681 \nL 363.072927 164.147721 \nL 363.124245 163.763769 \nL 363.278197 163.660642 \nL 363.329514 164.971563 \nL 363.380832 164.388931 \nL 363.432149 164.370873 \nL 363.483467 162.470329 \nL 363.637419 162.618896 \nL 363.688736 162.83505 \nL 363.842689 160.874493 \nL 363.996641 160.756801 \nL 364.047958 160.861677 \nL 364.150593 161.669211 \nL 364.355863 161.604532 \nL 364.561133 159.522791 \nL 364.715085 159.910249 \nL 364.81772 159.879368 \nL 364.869037 161.321374 \nL 364.920355 160.98986 \nL 365.074307 161.316716 \nL 365.228259 158.940159 \nL 365.279576 159.059602 \nL 365.536164 157.797043 \nL 365.587481 158.433273 \nL 365.638798 158.427441 \nL 365.792751 158.64826 \nL 365.895386 158.219451 \nL 365.99802 159.958598 \nL 366.151973 159.01882 \nL 366.305925 160.813328 \nL 366.357242 160.434035 \nL 366.511195 160.343724 \nL 366.562512 158.846364 \nL 366.613829 160.007544 \nL 366.665147 160.027928 \nL 366.716464 161.04754 \nL 366.870417 159.879368 \nL 367.024369 161.430326 \nL 367.075686 160.714853 \nL 367.229639 160.964221 \nL 367.332273 158.488037 \nL 367.383591 158.513669 \nL 367.434908 157.991633 \nL 367.640178 158.114575 \nL 368.050717 156.822871 \nL 368.102035 157.034957 \nL 368.307304 159.156897 \nL 368.409939 159.597369 \nL 368.461257 159.219242 \nL 368.512574 159.613685 \nL 368.717844 158.583596 \nL 368.769161 158.784601 \nL 368.820479 157.1608 \nL 368.871796 161.583559 \nL 369.025748 163.731721 \nL 369.231018 157.764996 \nL 369.436288 158.60398 \nL 369.79551 154.899035 \nL 369.846827 154.882136 \nL 369.898145 154.222593 \nL 369.949462 154.339702 \nL 370.103414 154.039653 \nL 370.154732 154.220843 \nL 370.308684 153.565383 \nL 370.565271 154.057704 \nL 370.667906 153.648695 \nL 370.821858 153.809502 \nL 370.873176 154.61412 \nL 370.924493 154.22026 \nL 370.97581 154.193461 \nL 371.027128 153.108595 \nL 371.232398 153.174439 \nL 371.283715 153.538584 \nL 371.335032 152.938471 \nL 371.38635 153.039848 \nL 371.540302 152.684451 \nL 371.59162 153.383609 \nL 371.642937 153.146474 \nL 371.694254 152.866808 \nL 371.745572 153.050331 \nL 371.899524 153.122008 \nL 371.950841 152.873807 \nL 372.104794 153.914379 \nL 372.258746 153.253683 \nL 372.310063 153.501871 \nL 372.412698 153.808336 \nL 372.464016 153.276983 \nL 372.720603 152.916921 \nL 372.77192 153.200072 \nL 372.823238 156.316568 \nL 372.97719 154.49701 \nL 373.079825 156.435427 \nL 373.131142 155.183352 \nL 373.18246 155.655289 \nL 373.387729 155.620326 \nL 373.490364 153.440123 \nL 373.541682 154.167829 \nL 373.695634 155.250932 \nL 373.798269 153.778621 \nL 373.849586 154.957881 \nL 373.900904 153.959242 \nL 374.054856 154.371167 \nL 374.106173 154.995163 \nL 374.157491 154.456812 \nL 374.208808 154.396216 \nL 374.260126 154.805808 \nL 374.414078 154.227842 \nL 374.56803 156.040401 \nL 374.619347 156.015352 \nL 374.7733 156.392896 \nL 374.875935 155.356392 \nL 374.927252 155.528265 \nL 374.978569 155.538763 \nL 375.132522 154.946217 \nL 375.337791 156.398144 \nL 375.491744 156.413293 \nL 375.697013 158.800333 \nL 376.004918 154.005273 \nL 376.056235 154.181812 \nL 376.210188 154.196377 \nL 376.36414 152.860976 \nL 376.415457 153.165122 \nL 376.774679 151.332735 \nL 377.082584 152.630256 \nL 377.133901 152.579575 \nL 377.339171 151.397996 \nL 377.493123 148.642146 \nL 377.647075 148.791886 \nL 377.698393 147.931921 \nL 377.74971 149.006291 \nL 377.801028 148.496488 \nL 377.852345 148.727208 \nL 378.006297 148.467356 \nL 378.057615 147.987852 \nL 378.108932 148.312965 \nL 378.16025 148.558834 \nL 378.211567 148.393944 \nL 378.416837 148.097394 \nL 378.570789 149.84819 \nL 378.930011 147.625457 \nL 379.135281 148.096227 \nL 379.186598 147.722168 \nL 379.289233 147.761797 \nL 379.494503 148.155074 \nL 379.54582 147.922021 \nL 379.597138 148.399776 \nL 379.648455 147.955804 \nL 379.802407 148.311798 \nL 379.905042 146.3792 \nL 380.007677 146.593618 \nL 380.212947 147.515331 \nL 380.264264 147.475716 \nL 380.315581 147.399971 \nL 380.366899 146.434561 \nL 380.520851 146.717712 \nL 380.572169 146.687414 \nL 380.623486 146.594785 \nL 380.726121 145.346195 \nL 380.931391 144.094703 \nL 381.085343 143.303499 \nL 381.290612 142.474999 \nL 381.34193 142.624142 \nL 381.598517 142.220382 \nL 381.649834 142.576376 \nL 381.701152 140.693307 \nL 381.752469 141.511324 \nL 381.803787 141.441397 \nL 382.009056 142.299626 \nL 382.060374 142.614825 \nL 382.111691 142.5047 \nL 382.163009 142.054326 \nL 382.316961 142.003645 \nL 382.368278 142.470917 \nL 382.419596 141.31672 \nL 382.470913 141.542788 \nL 382.676183 142.003645 \nL 382.7275 143.719492 \nL 382.830135 143.606465 \nL 383.035405 143.861068 \nL 383.189357 142.318843 \nL 383.240675 142.629974 \nL 383.497262 143.199206 \nL 383.599897 143.048299 \nL 383.753849 142.95392 \nL 383.856484 143.666478 \nL 383.907801 144.597522 \nL 384.113071 143.428759 \nL 384.215706 144.060337 \nL 384.267023 143.030818 \nL 384.31834 143.447408 \nL 384.626245 141.112216 \nL 384.677562 141.378482 \nL 384.882832 140.97239 \nL 384.985467 141.068518 \nL 385.036784 140.499286 \nL 385.190737 140.494052 \nL 385.396006 140.988122 \nL 385.549959 140.322747 \nL 385.601276 140.41889 \nL 385.652593 142.961488 \nL 385.703911 142.455184 \nL 385.755228 141.522391 \nL 386.11445 139.536194 \nL 386.371037 139.770413 \nL 386.473672 138.181576 \nL 386.627624 138.354616 \nL 386.678942 138.749059 \nL 386.730259 138.527087 \nL 386.781577 138.489207 \nL 386.986846 138.745574 \nL 387.038164 138.106997 \nL 387.089481 138.248587 \nL 387.140799 138.566702 \nL 387.192116 138.526503 \nL 387.346068 137.343175 \nL 387.500021 138.447843 \nL 387.551338 138.22644 \nL 387.70529 138.181576 \nL 387.756608 139.328788 \nL 387.807925 138.087197 \nL 387.859243 139.31014 \nL 388.064512 138.767707 \nL 388.167147 138.562036 \nL 388.218465 139.889856 \nL 388.269782 138.990859 \nL 388.423734 138.859767 \nL 388.475052 138.970461 \nL 388.629004 137.004663 \nL 388.834274 136.926585 \nL 388.885591 136.156348 \nL 388.988226 136.23151 \nL 389.142178 136.384749 \nL 389.244813 135.923295 \nL 389.5014 136.362019 \nL 389.604035 135.938444 \nL 389.655352 136.253657 \nL 389.70667 135.981558 \nL 389.860622 135.743854 \nL 389.963257 136.145281 \nL 390.014574 138.231688 \nL 390.065892 138.050484 \nL 390.322479 136.489611 \nL 390.425114 138.969295 \nL 390.579066 138.804989 \nL 390.630384 137.398522 \nL 390.681701 137.89201 \nL 390.733018 138.187408 \nL 390.784336 137.94969 \nL 390.989605 137.760334 \nL 391.143558 135.997874 \nL 391.348827 137.087392 \nL 391.400145 136.639352 \nL 391.451462 136.664984 \nL 391.50278 136.87882 \nL 391.759367 134.726568 \nL 391.810684 134.886791 \nL 391.862002 134.618206 \nL 392.118589 134.151518 \nL 392.169906 134.596642 \nL 392.221224 134.502263 \nL 392.426493 134.815712 \nL 392.580446 133.503625 \nL 392.837033 132.432755 \nL 392.88835 131.597839 \nL 392.939668 131.757479 \nL 393.09362 132.025496 \nL 393.196255 131.413149 \nL 393.247572 131.664267 \nL 393.606794 131.013458 \nL 393.658111 130.249636 \nL 393.914699 131.301872 \nL 393.966016 131.112516 \nL 394.017333 129.908207 \nL 394.171286 130.388295 \nL 394.222603 130.24672 \nL 394.530508 129.322091 \nL 394.581825 129.350639 \nL 394.633143 129.132735 \nL 394.735777 129.836545 \nL 394.88973 129.688554 \nL 394.992364 130.866633 \nL 395.043682 129.641955 \nL 395.094999 130.03755 \nL 395.248952 129.845876 \nL 395.300269 128.861803 \nL 395.351586 128.975414 \nL 395.454221 128.664297 \nL 395.608174 128.722561 \nL 395.762126 126.033124 \nL 395.813443 126.345421 \nL 395.967396 126.507394 \nL 396.07003 127.099926 \nL 396.377935 125.070032 \nL 396.429252 125.143444 \nL 396.48057 125.775022 \nL 396.531887 124.388356 \nL 396.685839 123.552288 \nL 396.788474 124.187934 \nL 396.839792 123.87797 \nL 396.891109 123.949633 \nL 397.096379 124.115105 \nL 397.199014 123.70493 \nL 397.250331 124.516532 \nL 397.506918 122.218053 \nL 397.763505 120.199241 \nL 397.814823 119.990654 \nL 397.86614 120.168943 \nL 397.968775 117.954359 \nL 398.174045 118.526508 \nL 398.327997 116.552544 \nL 398.687219 112.907015 \nL 398.841171 114.033829 \nL 399.200393 125.953894 \nL 399.251711 123.262139 \nL 399.303028 124.047525 \nL 399.354345 129.91229 \nL 399.405663 127.666242 \nL 399.66225 123.058801 \nL 399.764885 121.101736 \nL 399.970155 122.031614 \nL 400.021472 122.901479 \nL 400.072789 122.748254 \nL 400.124107 120.223123 \nL 400.278059 118.341221 \nL 400.432011 124.279995 \nL 400.483329 123.488776 \nL 400.791233 120.70846 \nL 400.842551 117.935128 \nL 400.996503 118.141965 \nL 401.150455 120.221374 \nL 401.201773 119.948706 \nL 401.45836 122.283898 \nL 401.560995 129.489299 \nL 401.714947 125.393979 \nL 401.817582 128.513974 \nL 401.868899 126.424067 \nL 402.074169 129.861025 \nL 402.228121 125.144028 \nL 402.279439 128.544855 \nL 402.433391 128.038552 \nL 402.587343 125.077031 \nL 402.638661 125.525071 \nL 402.792613 124.27008 \nL 402.895248 122.475586 \nL 402.997882 124.718718 \nL 403.151835 124.70997 \nL 403.203152 126.791711 \nL 403.25447 126.509727 \nL 403.357104 124.732117 \nL 403.665009 127.073127 \nL 403.716326 125.110245 \nL 403.870279 124.573643 \nL 403.921596 124.615008 \nL 404.075548 121.363921 \nL 404.229501 121.223512 \nL 404.280818 122.311863 \nL 404.332135 121.670385 \nL 404.43477 122.223302 \nL 404.588723 121.055706 \nL 404.64004 121.555026 \nL 404.691357 121.039391 \nL 404.999262 123.569756 \nL 405.153214 120.961896 \nL 405.358484 120.135729 \nL 405.512436 118.374435 \nL 405.666388 118.201395 \nL 405.717706 117.918813 \nL 405.769023 118.572538 \nL 405.820341 118.172846 \nL 406.076928 119.332277 \nL 406.128245 119.056694 \nL 406.384832 121.984418 \nL 406.43615 121.635422 \nL 406.487467 123.000538 \nL 406.538785 122.028698 \nL 406.744054 121.422767 \nL 406.795372 122.208736 \nL 407.154594 117.511554 \nL 407.205911 118.666334 \nL 407.308546 117.07633 \nL 407.462498 117.244135 \nL 407.565133 116.24258 \nL 407.667768 117.046032 \nL 407.82172 116.745982 \nL 407.924355 114.46847 \nL 407.975673 114.971288 \nL 408.180942 117.001168 \nL 408.386212 114.801734 \nL 408.591482 113.747179 \nL 408.694116 114.030913 \nL 408.745434 115.213658 \nL 408.899386 115.874951 \nL 408.950704 114.824464 \nL 409.002021 116.082357 \nL 409.053338 114.781933 \nL 409.104656 114.231932 \nL 409.309926 113.484412 \nL 409.361243 113.550825 \nL 409.41256 113.832824 \nL 409.61783 111.51628 \nL 409.669147 111.470833 \nL 409.720465 110.508325 \nL 409.771782 111.260511 \nL 409.8231 111.237781 \nL 410.028369 111.517447 \nL 410.182322 112.976358 \nL 410.336274 112.658827 \nL 410.541544 111.036192 \nL 410.695496 111.978886 \nL 410.849448 109.53475 \nL 410.900766 109.597678 \nL 411.157353 110.978512 \nL 411.20867 110.510658 \nL 411.259988 110.511824 \nL 411.516575 109.840048 \nL 411.61921 112.167075 \nL 411.773162 112.233503 \nL 411.824479 112.47179 \nL 411.927114 121.326041 \nL 411.978432 119.067775 \nL 412.132384 120.019786 \nL 412.183701 116.574692 \nL 412.235019 116.616056 \nL 412.337653 119.029895 \nL 412.491606 119.723235 \nL 412.542923 120.608249 \nL 412.594241 125.536721 \nL 412.696875 125.385828 \nL 412.850828 126.401934 \nL 413.00478 120.626883 \nL 413.056097 121.635422 \nL 413.21005 120.746909 \nL 413.261367 119.748284 \nL 413.312685 116.343389 \nL 413.364002 116.754716 \nL 413.671906 122.886913 \nL 413.774541 120.865768 \nL 413.928494 123.519074 \nL 413.979811 126.364652 \nL 414.031128 125.896214 \nL 414.133763 126.908238 \nL 414.339033 124.01781 \nL 414.492985 119.473284 \nL 414.646938 117.713725 \nL 414.80089 123.214942 \nL 414.852207 126.87794 \nL 415.006159 126.607605 \nL 415.057477 126.662369 \nL 415.108794 125.829786 \nL 415.160112 125.860667 \nL 415.365381 131.954999 \nL 415.416699 131.942183 \nL 415.724603 143.306984 \nL 415.878556 135.282401 \nL 415.929873 135.462439 \nL 416.18646 134.047224 \nL 416.237778 137.667705 \nL 416.289095 132.770684 \nL 416.443047 131.736513 \nL 416.597 129.00106 \nL 416.648317 129.023193 \nL 416.802269 129.81848 \nL 417.007539 124.685504 \nL 417.212809 126.888437 \nL 417.264126 126.550508 \nL 417.315444 126.339006 \nL 417.366761 125.032167 \nL 417.572031 126.474763 \nL 417.725983 122.598514 \nL 417.931253 120.782455 \nL 417.98257 121.137269 \nL 418.033887 122.626479 \nL 418.085205 122.519867 \nL 418.239157 122.407992 \nL 418.444427 118.574273 \nL 418.649697 118.331904 \nL 418.701014 118.044087 \nL 418.752331 118.616235 \nL 418.803649 117.579731 \nL 418.957601 117.379295 \nL 419.111553 118.05632 \nL 419.162871 116.93767 \nL 419.36814 117.755687 \nL 419.522093 120.469575 \nL 419.881315 115.842903 \nL 420.035267 115.233473 \nL 420.086584 115.255023 \nL 420.137902 115.740943 \nL 420.189219 113.955182 \nL 420.240537 117.111293 \nL 420.394489 117.248203 \nL 420.445806 116.077122 \nL 420.548441 116.253078 \nL 420.753711 113.237959 \nL 420.805028 113.235043 \nL 421.112933 111.572794 \nL 421.16425 112.596482 \nL 421.215568 112.013267 \nL 421.266885 112.006852 \nL 421.318203 110.894617 \nL 421.472155 111.001229 \nL 421.523472 110.915 \nL 421.57479 111.300126 \nL 421.626107 111.033276 \nL 421.831377 110.861986 \nL 421.882694 109.364043 \nL 421.934012 109.738671 \nL 421.985329 109.801599 \nL 422.036646 109.002814 \nL 422.241916 108.656137 \nL 422.344551 110.30557 \nL 422.395868 108.667217 \nL 422.549821 109.434539 \nL 422.703773 113.032289 \nL 422.75509 112.410042 \nL 422.909043 116.461067 \nL 422.96036 115.147828 \nL 423.062995 112.706009 \nL 423.114312 113.68425 \nL 423.268265 114.808732 \nL 423.319582 113.402835 \nL 423.370899 113.874189 \nL 423.422217 115.856886 \nL 423.473534 115.634316 \nL 423.678804 117.013415 \nL 423.832756 119.94579 \nL 423.986709 120.389179 \nL 424.191978 112.879633 \nL 424.34593 112.099495 \nL 424.397248 112.158341 \nL 424.448565 112.500922 \nL 424.499883 111.813428 \nL 424.5512 112.084929 \nL 424.705152 111.928205 \nL 424.859105 108.169648 \nL 424.910422 108.386385 \nL 425.064374 108.684102 \nL 425.167009 110.523474 \nL 425.526231 105.743562 \nL 425.628866 106.058775 \nL 425.782818 106.901258 \nL 425.834136 106.686853 \nL 425.988088 104.697741 \nL 426.14204 104.66686 \nL 426.34731 106.862795 \nL 426.501262 106.372224 \nL 426.706532 103.993334 \nL 426.860484 104.278249 \nL 426.911802 104.732121 \nL 427.219706 114.545965 \nL 427.373658 109.107093 \nL 427.424976 110.23974 \nL 427.578928 112.334297 \nL 427.630246 109.792851 \nL 427.681563 114.787168 \nL 427.73288 114.379326 \nL 427.93815 109.948424 \nL 427.989468 111.296627 \nL 428.040785 109.902977 \nL 428.092102 109.989205 \nL 428.14342 114.407874 \nL 428.502642 109.784701 \nL 428.707911 110.961031 \nL 428.861864 106.740451 \nL 429.067133 106.700836 \nL 429.169768 104.942443 \nL 429.221086 105.069467 \nL 429.375038 105.618885 \nL 429.52899 105.104417 \nL 429.580308 105.962049 \nL 429.73426 105.978947 \nL 429.785577 107.44601 \nL 429.836895 106.381541 \nL 429.93953 107.726259 \nL 430.093482 106.855228 \nL 430.196117 112.048216 \nL 430.247434 110.707011 \nL 430.298752 108.296074 \nL 430.452704 109.066312 \nL 430.504021 111.730685 \nL 430.555339 110.196042 \nL 430.657974 107.232188 \nL 430.811926 107.47224 \nL 430.965878 105.619468 \nL 431.017195 106.30406 \nL 431.171148 105.108499 \nL 431.222465 105.733662 \nL 431.273783 105.236675 \nL 431.633005 102.775057 \nL 431.684322 103.311658 \nL 431.735639 101.601643 \nL 431.889592 100.939767 \nL 431.940909 101.152422 \nL 431.992227 101.026579 \nL 432.094861 100.076886 \nL 432.248814 100.430548 \nL 432.402766 99.870064 \nL 432.454083 98.481648 \nL 432.608036 98.390171 \nL 432.659353 98.497963 \nL 432.761988 99.467456 \nL 432.813305 99.07418 \nL 433.069892 96.549064 \nL 433.32648 98.865593 \nL 433.377797 100.069902 \nL 433.429114 98.930271 \nL 433.480432 98.658187 \nL 433.531749 96.998853 \nL 433.737019 97.778991 \nL 434.250193 92.611051 \nL 434.455463 92.485208 \nL 434.609415 91.515701 \nL 434.763367 92.606969 \nL 434.91732 90.476865 \nL 434.968637 91.816917 \nL 435.122589 91.150973 \nL 435.173907 91.681174 \nL 435.276542 89.495139 \nL 435.327859 90.039891 \nL 435.687081 86.295316 \nL 435.892351 86.809785 \nL 435.943668 86.753854 \nL 435.994986 86.533035 \nL 436.200255 91.305379 \nL 436.354207 88.973103 \nL 436.405525 92.360517 \nL 436.559477 90.997165 \nL 436.713429 85.353789 \nL 436.764747 86.406608 \nL 437.123969 83.350708 \nL 437.329239 83.925758 \nL 437.380556 83.001713 \nL 437.431873 83.754468 \nL 437.739778 98.718783 \nL 437.842413 108.167315 \nL 437.996365 100.242942 \nL 438.047682 105.303672 \nL 438.099 97.918817 \nL 438.150317 104.105209 \nL 438.355587 120.266238 \nL 438.406904 112.361679 \nL 438.458222 120.568051 \nL 438.509539 135.759587 \nL 438.560857 122.336913 \nL 438.714809 141.266038 \nL 438.766126 132.930907 \nL 438.817444 140.568616 \nL 438.868761 139.910837 \nL 438.920079 145.997587 \nL 439.074031 149.931517 \nL 439.227983 127.053312 \nL 439.279301 132.215434 \nL 439.433253 127.252582 \nL 439.535888 136.350369 \nL 439.638523 135.292898 \nL 439.946427 117.745773 \nL 440.151697 119.388222 \nL 440.203014 114.469053 \nL 440.254332 118.12215 \nL 440.305649 117.178873 \nL 440.356966 112.808553 \nL 440.510919 115.803288 \nL 440.562236 120.848869 \nL 440.613554 117.192856 \nL 440.664871 117.280834 \nL 440.870141 112.580166 \nL 440.921458 113.459362 \nL 440.972776 109.024364 \nL 441.024093 110.602135 \nL 441.07541 115.363398 \nL 441.229363 114.662491 \nL 441.434632 109.590097 \nL 441.588585 109.56738 \nL 441.691219 115.987395 \nL 441.742537 114.093842 \nL 441.793854 113.441297 \nL 442.050441 107.154111 \nL 442.101759 108.499995 \nL 442.153076 108.095652 \nL 442.358346 105.979531 \nL 442.512298 102.918382 \nL 442.666251 102.253021 \nL 443.025472 91.960256 \nL 443.07679 93.429068 \nL 443.128107 94.421875 \nL 443.179425 105.377668 \nL 443.230742 103.093171 \nL 443.384694 101.620277 \nL 443.436012 98.23228 \nL 443.538647 98.779948 \nL 443.589964 99.805385 \nL 443.795234 97.850653 \nL 443.949186 104.972741 \nL 444.103138 102.398096 \nL 444.257091 97.925232 \nL 444.46236 95.028973 \nL 444.513678 97.03322 \nL 444.564995 95.598788 \nL 444.616313 96.64111 \nL 444.66763 94.719009 \nL 444.821582 96.45642 \nL 444.924217 92.299921 \nL 444.975535 92.940233 \nL 445.283439 89.418227 \nL 445.386074 92.936748 \nL 445.540026 91.551248 \nL 445.591344 92.773025 \nL 445.745296 89.703711 \nL 445.950566 87.641784 \nL 446.104518 85.033342 \nL 446.25847 84.497906 \nL 446.309788 86.058196 \nL 446.361105 83.339627 \nL 446.46374 83.776601 \nL 446.66901 82.79021 \nL 446.720327 83.660075 \nL 446.771644 83.038995 \nL 447.130866 77.268609 \nL 447.182184 75.901758 \nL 447.336136 76.350381 \nL 447.438771 71.658447 \nL 447.541406 80.62399 \nL 447.746675 86.165974 \nL 447.797993 82.255358 \nL 447.84931 85.737748 \nL 447.900628 85.634038 \nL 448.105897 82.124849 \nL 448.157215 83.040161 \nL 448.413802 89.124579 \nL 448.465119 87.113917 \nL 448.516437 91.696323 \nL 448.567754 91.132908 \nL 448.773024 85.014693 \nL 448.824341 85.954485 \nL 448.926976 83.313412 \nL 448.978294 85.19998 \nL 449.132246 81.693693 \nL 449.183563 84.468775 \nL 449.337516 77.700348 \nL 449.491468 74.374683 \nL 449.64542 77.339105 \nL 449.696737 77.311723 \nL 449.85069 80.626322 \nL 449.902007 79.682448 \nL 449.953325 80.122921 \nL 450.055959 78.38494 \nL 450.261229 82.737779 \nL 450.415181 89.771306 \nL 450.569134 87.424464 \nL 450.723086 75.759599 \nL 450.774403 75.818445 \nL 451.03099 72.13505 \nL 451.082308 74.212126 \nL 451.287578 68.974274 \nL 451.492847 73.015982 \nL 451.6468 71.847802 \nL 451.698117 68.479037 \nL 451.749434 68.814633 \nL 451.852069 68.307732 \nL 452.006022 69.281905 \nL 452.211291 64.767079 \nL 452.365243 65.184252 \nL 452.416561 64.584722 \nL 452.570513 66.844752 \nL 452.724465 67.775213 \nL 452.878418 63.40606 \nL 453.083687 65.011796 \nL 453.135005 65.458086 \nL 453.186322 65.297863 \nL 453.442909 62.655623 \nL 453.494227 63.140376 \nL 453.545544 62.84906 \nL 453.596862 61.448995 \nL 453.802131 64.677949 \nL 454.007401 57.451568 \nL 454.161353 58.912215 \nL 454.212671 58.820169 \nL 454.263988 58.316184 \nL 454.366623 60.739354 \nL 454.571893 58.95301 \nL 454.674528 55.797468 \nL 454.725845 56.473327 \nL 454.879797 55.664044 \nL 454.931115 55.998473 \nL 455.085067 63.886147 \nL 455.598241 52.154855 \nL 455.700876 52.487549 \nL 455.803511 51.033872 \nL 456.060098 51.237793 \nL 456.316685 54.432367 \nL 456.368002 54.148618 \nL 456.41932 51.581554 \nL 456.521955 58.23987 \nL 456.675907 52.957139 \nL 456.727224 54.794179 \nL 456.829859 60.726537 \nL 456.881177 56.445945 \nL 457.035129 57.645574 \nL 457.240399 50.538052 \nL 457.496986 48.74471 \nL 457.599621 52.299929 \nL 457.753573 50.698276 \nL 457.856208 53.695927 \nL 457.907525 52.508516 \nL 457.958843 48.720244 \nL 458.112795 48.921249 \nL 458.164112 49.651872 \nL 458.21543 48.816387 \nL 458.266747 46.079171 \nL 458.677287 39.732583 \nL 458.831239 39.779751 \nL 458.882556 38.987395 \nL 458.933874 39.973772 \nL 459.036508 36.430786 \nL 459.190461 37.724837 \nL 459.241778 39.374839 \nL 459.39573 36.739598 \nL 459.549683 36.305526 \nL 459.601 36.357957 \nL 459.652318 36.564211 \nL 459.703635 34.915944 \nL 459.754952 36.681334 \nL 459.908905 36.011877 \nL 459.960222 37.643245 \nL 460.01154 37.472553 \nL 460.114174 33.68485 \nL 460.319444 38.375034 \nL 460.370761 43.563955 \nL 460.422079 40.682261 \nL 460.473396 37.10781 \nL 460.627349 37.723073 \nL 460.729983 40.496974 \nL 460.781301 37.966026 \nL 460.832618 38.155978 \nL 460.986571 35.756122 \nL 461.089205 35.817856 \nL 461.19184 35.344781 \nL 461.39711 35.465375 \nL 461.448427 35.111131 \nL 461.499745 36.00081 \nL 461.551062 33.842741 \nL 461.705014 34.039094 \nL 461.756332 33.995994 \nL 461.807649 34.445201 \nL 461.910284 32.820234 \nL 462.064236 32.371027 \nL 462.218189 34.31061 \nL 462.269506 37.538952 \nL 462.628728 30.882386 \nL 462.885315 29.903576 \nL 462.98795 26.708434 \nL 463.19322 27.221138 \nL 463.244537 26.371088 \nL 463.295855 28.54489 \nL 463.347172 25.705727 \nL 463.501124 24.827114 \nL 463.860346 32.176409 \nL 464.065616 23.244678 \nL 464.219568 22.632346 \nL 464.322203 23.894306 \nL 464.37352 22.815869 \nL 464.424838 24.207784 \nL 464.57879 24.679692 \nL 464.732742 22.236139 \nL 464.78406 21.803831 \nL 464.938012 22.046784 \nL 465.040647 21.460653 \nL 465.143282 19.969708 \nL 465.297234 19.287448 \nL 465.399869 23.91587 \nL 465.451186 23.593688 \nL 465.656456 19.297946 \nL 465.759091 18.327273 \nL 465.759091 18.327273 \n\" style=\"fill:none;stroke:#1f77b4;stroke-linecap:square;stroke-width:1.5;\"/>\n   </g>\n   <g id=\"patch_3\">\n    <path d=\"M 39.65 252 \nL 39.65 7.2 \n\" style=\"fill:none;stroke:#000000;stroke-linecap:square;stroke-linejoin:miter;stroke-width:0.8;\"/>\n   </g>\n   <g id=\"patch_4\">\n    <path d=\"M 486.05 252 \nL 486.05 7.2 \n\" style=\"fill:none;stroke:#000000;stroke-linecap:square;stroke-linejoin:miter;stroke-width:0.8;\"/>\n   </g>\n   <g id=\"patch_5\">\n    <path d=\"M 39.65 252 \nL 486.05 252 \n\" style=\"fill:none;stroke:#000000;stroke-linecap:square;stroke-linejoin:miter;stroke-width:0.8;\"/>\n   </g>\n   <g id=\"patch_6\">\n    <path d=\"M 39.65 7.2 \nL 486.05 7.2 \n\" style=\"fill:none;stroke:#000000;stroke-linecap:square;stroke-linejoin:miter;stroke-width:0.8;\"/>\n   </g>\n  </g>\n </g>\n <defs>\n  <clipPath id=\"pb94ee44dc0\">\n   <rect height=\"244.8\" width=\"446.4\" x=\"39.65\" y=\"7.2\"/>\n  </clipPath>\n </defs>\n</svg>\n",
      "image/png": "[encoded data removed]"
     },
     "metadata": {
      "needs_background": "light"
     }
    }
   ],
   "source": [
    "# 量化\n",
    "import pandas as pd\n",
    "import numpy as np\n",
    "from pandas_datareader import data\n",
    "sp500 = data.DataReader('^GSPC', 'yahoo',start='1/1/2000')\n",
    "# sp500.head(10)\n",
    "sp500['Close'].plot(grid=True,figsize=(8,5))\n"
   ]
  },
  {
   "cell_type": "code",
   "execution_count": 33,
   "metadata": {},
   "outputs": [
    {
     "output_type": "stream",
     "name": "stdout",
     "text": [
      "第0 个 234\n第1 个 234\n第2 个 234\n第3 个 234\n第4 个 234\n第5 个 234\n第6 个 234\n第7 个 234\n第8 个 234\n第9 个 234\n第 1 个demo\n第 2 个demo\n第 3 个demo\n第 4 个demo\n第 5 个demo\n第 6 个demo\n第 7 个demo\n第 8 个demo\n第 9 个demo\n第 10 个demo\n**********\n"
     ]
    }
   ],
   "source": [
    "# 一个简单的线程demo\n",
    "from threading import Thread\n",
    "\n",
    "def work1(id):\n",
    "    for i in range(10):\n",
    "        print(f'第{i} 个 {id}')\n",
    "\n",
    "def work2():\n",
    "    for i in range(10):\n",
    "        print(f'第 {i+1} 个demo')\n",
    "\n",
    "t1 = Thread(target=work1, args=(234,), name='test1')\n",
    "t2 = Thread(target=work2, name='test2')\n",
    "\n",
    "t1.start()\n",
    "t2.start()\n",
    "\n",
    "t1.join()\n",
    "t2.join()\n",
    "\n",
    "print(\"*\"*10)"
   ]
  },
  {
   "cell_type": "code",
   "execution_count": null,
   "metadata": {},
   "outputs": [],
   "source": []
  }
 ],
 "metadata": {
  "orig_nbformat": 4,
  "language_info": {
   "name": "python",
   "version": "3.6.5",
   "mimetype": "text/x-python",
   "codemirror_mode": {
    "name": "ipython",
    "version": 3
   },
   "pygments_lexer": "ipython3",
   "nbconvert_exporter": "python",
   "file_extension": ".py"
  },
  "kernelspec": {
   "name": "python365jvsc74a57bd096a6eacb5c94b6d508e54c04401eea302ffcad6f35d7d2f6c0027f12074a271b",
   "display_name": "Python 3.6.5 64-bit ('pytestdemo': virtualenv)"
  },
  "interpreter": {
   "hash": "aee8b7b246df8f9039afb4144a1f6fd8d2ca17a180786b69acc140d282b71a49"
  }
 },
 "nbformat": 4,
 "nbformat_minor": 2
}